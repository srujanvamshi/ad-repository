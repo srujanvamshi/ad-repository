{
 "cells": [
  {
   "cell_type": "markdown",
   "id": "4705ea15",
   "metadata": {},
   "source": [
    "### addition  +\n",
    "### subtraction  -\n",
    "### multiplication  *\n",
    "### division  /\n",
    "### reminder %\n",
    "### power **\n",
    "### floor division / /"
   ]
  },
  {
   "cell_type": "markdown",
   "id": "83f63398",
   "metadata": {},
   "source": [
    "# Day1"
   ]
  },
  {
   "cell_type": "code",
   "execution_count": 15,
   "id": "0fe27dac",
   "metadata": {},
   "outputs": [],
   "source": [
    "a=45\n",
    "b=4\n",
    "c=a + b\n",
    "d=a - b\n"
   ]
  },
  {
   "cell_type": "code",
   "execution_count": 16,
   "id": "a2b44b56",
   "metadata": {},
   "outputs": [
    {
     "name": "stdout",
     "output_type": "stream",
     "text": [
      "45\n",
      "4\n",
      "49\n"
     ]
    },
    {
     "data": {
      "text/plain": [
       "int"
      ]
     },
     "execution_count": 16,
     "metadata": {},
     "output_type": "execute_result"
    }
   ],
   "source": [
    "print(a)\n",
    "print(b)\n",
    "print(c)\n",
    "\n",
    "type(c)\n",
    "type(d)\n",
    "\n"
   ]
  },
  {
   "cell_type": "code",
   "execution_count": null,
   "id": "e0319e5b",
   "metadata": {},
   "outputs": [],
   "source": [
    "a = 56\n",
    "b = 67\n",
    "d = a + b"
   ]
  },
  {
   "cell_type": "code",
   "execution_count": 17,
   "id": "2ca4926f",
   "metadata": {},
   "outputs": [
    {
     "name": "stdout",
     "output_type": "stream",
     "text": [
      "41\n"
     ]
    },
    {
     "data": {
      "text/plain": [
       "int"
      ]
     },
     "execution_count": 17,
     "metadata": {},
     "output_type": "execute_result"
    }
   ],
   "source": [
    "print(d)\n",
    "type(d)"
   ]
  },
  {
   "cell_type": "code",
   "execution_count": null,
   "id": "23797874",
   "metadata": {},
   "outputs": [],
   "source": [
    "#DIVISION\n",
    "a = 67\n",
    "b = 56\n",
    "c = a / b\n"
   ]
  },
  {
   "cell_type": "code",
   "execution_count": 18,
   "id": "b8343dd2",
   "metadata": {},
   "outputs": [
    {
     "name": "stdout",
     "output_type": "stream",
     "text": [
      "49\n"
     ]
    },
    {
     "data": {
      "text/plain": [
       "int"
      ]
     },
     "execution_count": 18,
     "metadata": {},
     "output_type": "execute_result"
    }
   ],
   "source": [
    "print(c)\n",
    "type(c)"
   ]
  },
  {
   "cell_type": "code",
   "execution_count": 20,
   "id": "39f0643f",
   "metadata": {},
   "outputs": [],
   "source": [
    "#REMINDER\n",
    "a = 45\n",
    "b = 67\n",
    "c = a % b\n"
   ]
  },
  {
   "cell_type": "code",
   "execution_count": 21,
   "id": "16f944eb",
   "metadata": {},
   "outputs": [
    {
     "name": "stdout",
     "output_type": "stream",
     "text": [
      "45\n"
     ]
    },
    {
     "data": {
      "text/plain": [
       "int"
      ]
     },
     "execution_count": 21,
     "metadata": {},
     "output_type": "execute_result"
    }
   ],
   "source": [
    "print(c)\n",
    "type(c)"
   ]
  },
  {
   "cell_type": "code",
   "execution_count": 22,
   "id": "47a67564",
   "metadata": {},
   "outputs": [
    {
     "name": "stdout",
     "output_type": "stream",
     "text": [
      "4660808027410506132900915088997417305944355117847144307414511042169984019070976\n"
     ]
    },
    {
     "data": {
      "text/plain": [
       "int"
      ]
     },
     "execution_count": 22,
     "metadata": {},
     "output_type": "execute_result"
    }
   ],
   "source": [
    "#POWER\n",
    "a = 56\n",
    "b = 45\n",
    "c = a ** b\n",
    "print(c)\n",
    "type(c)"
   ]
  },
  {
   "cell_type": "code",
   "execution_count": 23,
   "id": "d95bf7dc",
   "metadata": {},
   "outputs": [
    {
     "name": "stdout",
     "output_type": "stream",
     "text": [
      "2\n"
     ]
    },
    {
     "data": {
      "text/plain": [
       "int"
      ]
     },
     "execution_count": 23,
     "metadata": {},
     "output_type": "execute_result"
    }
   ],
   "source": [
    "#FLOOR\n",
    "a = 87\n",
    "b = 43\n",
    "c = a // b\n",
    "print(c)\n",
    "type(c)"
   ]
  },
  {
   "cell_type": "code",
   "execution_count": 24,
   "id": "1345a7fc",
   "metadata": {},
   "outputs": [
    {
     "data": {
      "text/plain": [
       "False"
      ]
     },
     "execution_count": 24,
     "metadata": {},
     "output_type": "execute_result"
    }
   ],
   "source": [
    "#boolean\n",
    "#<\n",
    "x =45\n",
    "y =10.6\n",
    "x < y\n",
    "\n"
   ]
  },
  {
   "cell_type": "code",
   "execution_count": 28,
   "id": "fae45ca8",
   "metadata": {},
   "outputs": [
    {
     "data": {
      "text/plain": [
       "True"
      ]
     },
     "execution_count": 28,
     "metadata": {},
     "output_type": "execute_result"
    }
   ],
   "source": [
    "#>\n",
    "x =45\n",
    "y =10.6\n",
    "x > y\n"
   ]
  },
  {
   "cell_type": "code",
   "execution_count": 29,
   "id": "558584c6",
   "metadata": {},
   "outputs": [
    {
     "data": {
      "text/plain": [
       "True"
      ]
     },
     "execution_count": 29,
     "metadata": {},
     "output_type": "execute_result"
    }
   ],
   "source": [
    "#>=\n",
    "x =45\n",
    "y =10.6\n",
    "x >= y"
   ]
  },
  {
   "cell_type": "code",
   "execution_count": 30,
   "id": "2695a617",
   "metadata": {},
   "outputs": [
    {
     "data": {
      "text/plain": [
       "False"
      ]
     },
     "execution_count": 30,
     "metadata": {},
     "output_type": "execute_result"
    }
   ],
   "source": [
    "#<=\n",
    "x =45\n",
    "y =10.6\n",
    "x <= y"
   ]
  },
  {
   "cell_type": "code",
   "execution_count": 31,
   "id": "503f4d3a",
   "metadata": {},
   "outputs": [
    {
     "data": {
      "text/plain": [
       "False"
      ]
     },
     "execution_count": 31,
     "metadata": {},
     "output_type": "execute_result"
    }
   ],
   "source": [
    "# ==\n",
    "x =45\n",
    "y =10.6\n",
    "x == y\n"
   ]
  },
  {
   "cell_type": "code",
   "execution_count": 33,
   "id": "bd0833bf",
   "metadata": {},
   "outputs": [
    {
     "data": {
      "text/plain": [
       "True"
      ]
     },
     "execution_count": 33,
     "metadata": {},
     "output_type": "execute_result"
    }
   ],
   "source": [
    "x =45\n",
    "y =45\n",
    "x == y"
   ]
  },
  {
   "cell_type": "code",
   "execution_count": 34,
   "id": "2084ebb9",
   "metadata": {},
   "outputs": [
    {
     "data": {
      "text/plain": [
       "True"
      ]
     },
     "execution_count": 34,
     "metadata": {},
     "output_type": "execute_result"
    }
   ],
   "source": [
    "# !=\n",
    "x = 45\n",
    "y = 10.6\n",
    "x != y"
   ]
  },
  {
   "cell_type": "code",
   "execution_count": 35,
   "id": "eb06d241",
   "metadata": {},
   "outputs": [
    {
     "data": {
      "text/plain": [
       "False"
      ]
     },
     "execution_count": 35,
     "metadata": {},
     "output_type": "execute_result"
    }
   ],
   "source": [
    "#Logical operaters\n",
    "True and True  --- True\n",
    "True and False  --- False\n",
    "False and True  --- True\n",
    "False and False  --- False\n",
    "\n",
    "\n"
   ]
  },
  {
   "cell_type": "code",
   "execution_count": 37,
   "id": "69d478b4",
   "metadata": {},
   "outputs": [
    {
     "data": {
      "text/plain": [
       "0"
      ]
     },
     "execution_count": 37,
     "metadata": {},
     "output_type": "execute_result"
    }
   ],
   "source": [
    "True or True  --- True\n",
    "True or False  --- False\n",
    "False or True  --- True\n",
    "False or False  --- False"
   ]
  },
  {
   "cell_type": "code",
   "execution_count": 1,
   "id": "029f3433",
   "metadata": {},
   "outputs": [
    {
     "data": {
      "text/plain": [
       "45"
      ]
     },
     "execution_count": 1,
     "metadata": {},
     "output_type": "execute_result"
    }
   ],
   "source": [
    "c = [203,'Hyderabad',45,True,False,78,175,34.90]\n",
    "c[2]"
   ]
  },
  {
   "cell_type": "code",
   "execution_count": 2,
   "id": "78ad6a34",
   "metadata": {},
   "outputs": [
    {
     "data": {
      "text/plain": [
       "203"
      ]
     },
     "execution_count": 2,
     "metadata": {},
     "output_type": "execute_result"
    }
   ],
   "source": [
    "c[0]"
   ]
  },
  {
   "cell_type": "code",
   "execution_count": 3,
   "id": "94101843",
   "metadata": {},
   "outputs": [
    {
     "data": {
      "text/plain": [
       "'Hyderabad'"
      ]
     },
     "execution_count": 3,
     "metadata": {},
     "output_type": "execute_result"
    }
   ],
   "source": [
    "c[1]"
   ]
  },
  {
   "cell_type": "code",
   "execution_count": 4,
   "id": "78dfc7d4",
   "metadata": {},
   "outputs": [
    {
     "data": {
      "text/plain": [
       "90"
      ]
     },
     "execution_count": 4,
     "metadata": {},
     "output_type": "execute_result"
    }
   ],
   "source": [
    "c[-1]"
   ]
  },
  {
   "cell_type": "code",
   "execution_count": 5,
   "id": "1c18838b",
   "metadata": {},
   "outputs": [
    {
     "data": {
      "text/plain": [
       "175"
      ]
     },
     "execution_count": 5,
     "metadata": {},
     "output_type": "execute_result"
    }
   ],
   "source": [
    "c[-3]"
   ]
  },
  {
   "cell_type": "code",
   "execution_count": 6,
   "id": "3983ec3e",
   "metadata": {},
   "outputs": [
    {
     "data": {
      "text/plain": [
       "34"
      ]
     },
     "execution_count": 6,
     "metadata": {},
     "output_type": "execute_result"
    }
   ],
   "source": [
    "c[7]"
   ]
  },
  {
   "cell_type": "code",
   "execution_count": 7,
   "id": "c78478e5",
   "metadata": {},
   "outputs": [
    {
     "data": {
      "text/plain": [
       "34"
      ]
     },
     "execution_count": 7,
     "metadata": {},
     "output_type": "execute_result"
    }
   ],
   "source": [
    "c[7]"
   ]
  },
  {
   "cell_type": "code",
   "execution_count": 7,
   "id": "4cbf47b2",
   "metadata": {},
   "outputs": [
    {
     "ename": "SyntaxError",
     "evalue": "invalid syntax. Maybe you meant '==' or ':=' instead of '='? (2204730587.py, line 2)",
     "output_type": "error",
     "traceback": [
      "\u001b[1;36m  Cell \u001b[1;32mIn[7], line 2\u001b[1;36m\u001b[0m\n\u001b[1;33m    c = [start = end]\u001b[0m\n\u001b[1;37m         ^\u001b[0m\n\u001b[1;31mSyntaxError\u001b[0m\u001b[1;31m:\u001b[0m invalid syntax. Maybe you meant '==' or ':=' instead of '='?\n"
     ]
    }
   ],
   "source": [
    "#c = [203,'Hyderabad',45,True,False,78,175,34.90]\n",
    "#c = [start : end]"
   ]
  },
  {
   "cell_type": "code",
   "execution_count": 5,
   "id": "9c875e73",
   "metadata": {},
   "outputs": [
    {
     "data": {
      "text/plain": [
       "[45, True, False, 78, 175, 34.9]"
      ]
     },
     "execution_count": 5,
     "metadata": {},
     "output_type": "execute_result"
    }
   ],
   "source": [
    "c=[203,'Hyderabad',45,True,False,78,175,34.90]\n",
    "c[ 4:6]\n",
    "c[2: ]"
   ]
  },
  {
   "cell_type": "code",
   "execution_count": 14,
   "id": "ad41e504",
   "metadata": {},
   "outputs": [
    {
     "data": {
      "text/plain": [
       "['Hyderabad', True, 78]"
      ]
     },
     "execution_count": 14,
     "metadata": {},
     "output_type": "execute_result"
    }
   ],
   "source": [
    "c[1:7:2]"
   ]
  },
  {
   "cell_type": "code",
   "execution_count": 1,
   "id": "fb04625b",
   "metadata": {},
   "outputs": [
    {
     "ename": "NameError",
     "evalue": "name 'c' is not defined",
     "output_type": "error",
     "traceback": [
      "\u001b[1;31m---------------------------------------------------------------------------\u001b[0m",
      "\u001b[1;31mNameError\u001b[0m                                 Traceback (most recent call last)",
      "Cell \u001b[1;32mIn[1], line 1\u001b[0m\n\u001b[1;32m----> 1\u001b[0m c[\u001b[38;5;241m2\u001b[39m: ]\n",
      "\u001b[1;31mNameError\u001b[0m: name 'c' is not defined"
     ]
    }
   ],
   "source": []
  },
  {
   "cell_type": "code",
   "execution_count": null,
   "id": "2e31e863",
   "metadata": {},
   "outputs": [],
   "source": [
    "c=[203,'Hyderabad',45,True,False,78,175,34.90,]"
   ]
  },
  {
   "cell_type": "code",
   "execution_count": 7,
   "id": "c539cbc3",
   "metadata": {},
   "outputs": [
    {
     "data": {
      "text/plain": [
       "[45, True, False, 78, 175, 34.9]"
      ]
     },
     "execution_count": 7,
     "metadata": {},
     "output_type": "execute_result"
    }
   ],
   "source": [
    "c[2:]"
   ]
  },
  {
   "cell_type": "code",
   "execution_count": null,
   "id": "b020a88c",
   "metadata": {},
   "outputs": [],
   "source": [
    "#list methods\n",
    "#append \n",
    "#insert\n",
    "#extend\n",
    "#pop\n",
    "#remove\n",
    "#clear\n",
    "#count"
   ]
  },
  {
   "cell_type": "code",
   "execution_count": 3,
   "id": "72435ef5",
   "metadata": {},
   "outputs": [
    {
     "data": {
      "text/plain": [
       "[203, 'Hyderabad', 45, True, False, 78, 175, 34.9]"
      ]
     },
     "execution_count": 3,
     "metadata": {},
     "output_type": "execute_result"
    }
   ],
   "source": [
    "c"
   ]
  },
  {
   "cell_type": "code",
   "execution_count": 10,
   "id": "7a348ee1",
   "metadata": {},
   "outputs": [
    {
     "ename": "NameError",
     "evalue": "name 'c' is not defined",
     "output_type": "error",
     "traceback": [
      "\u001b[1;31m---------------------------------------------------------------------------\u001b[0m",
      "\u001b[1;31mNameError\u001b[0m                                 Traceback (most recent call last)",
      "Cell \u001b[1;32mIn[10], line 2\u001b[0m\n\u001b[0;32m      1\u001b[0m \u001b[38;5;66;03m#length of list\u001b[39;00m\n\u001b[1;32m----> 2\u001b[0m \u001b[38;5;28mlen\u001b[39m(c)\n",
      "\u001b[1;31mNameError\u001b[0m: name 'c' is not defined"
     ]
    }
   ],
   "source": [
    "#length of list\n",
    "len(c)"
   ]
  },
  {
   "cell_type": "code",
   "execution_count": 9,
   "id": "03a51983",
   "metadata": {},
   "outputs": [
    {
     "ename": "NameError",
     "evalue": "name 'c' is not defined",
     "output_type": "error",
     "traceback": [
      "\u001b[1;31m---------------------------------------------------------------------------\u001b[0m",
      "\u001b[1;31mNameError\u001b[0m                                 Traceback (most recent call last)",
      "Cell \u001b[1;32mIn[9], line 1\u001b[0m\n\u001b[1;32m----> 1\u001b[0m c\u001b[38;5;241m.\u001b[39mappend(\u001b[38;5;124m'\u001b[39m\u001b[38;5;124mFlase\u001b[39m\u001b[38;5;124m'\u001b[39m)\n",
      "\u001b[1;31mNameError\u001b[0m: name 'c' is not defined"
     ]
    }
   ],
   "source": [
    "c.append('India')"
   ]
  },
  {
   "cell_type": "code",
   "execution_count": 11,
   "id": "721487c2",
   "metadata": {},
   "outputs": [],
   "source": [
    "c=[203,'Hyderabad',45,True,False,78,175,34.90]\n"
   ]
  },
  {
   "cell_type": "code",
   "execution_count": 12,
   "id": "493cb1b9",
   "metadata": {},
   "outputs": [
    {
     "data": {
      "text/plain": [
       "8"
      ]
     },
     "execution_count": 12,
     "metadata": {},
     "output_type": "execute_result"
    }
   ],
   "source": [
    "len(c)"
   ]
  },
  {
   "cell_type": "code",
   "execution_count": 22,
   "id": "cd21bd2a",
   "metadata": {},
   "outputs": [
    {
     "data": {
      "text/plain": [
       "[90, 'India']"
      ]
     },
     "execution_count": 22,
     "metadata": {},
     "output_type": "execute_result"
    }
   ],
   "source": [
    "c.append('India')\n",
    "c"
   ]
  },
  {
   "cell_type": "code",
   "execution_count": 21,
   "id": "be3d9002",
   "metadata": {},
   "outputs": [
    {
     "data": {
      "text/plain": [
       "[90]"
      ]
     },
     "execution_count": 21,
     "metadata": {},
     "output_type": "execute_result"
    }
   ],
   "source": [
    "c.insert(3,90)\n",
    "c\n"
   ]
  },
  {
   "cell_type": "code",
   "execution_count": 15,
   "id": "89195e2b",
   "metadata": {},
   "outputs": [
    {
     "data": {
      "text/plain": [
       "False"
      ]
     },
     "execution_count": 15,
     "metadata": {},
     "output_type": "execute_result"
    }
   ],
   "source": [
    "c.pop(5)"
   ]
  },
  {
   "cell_type": "code",
   "execution_count": 16,
   "id": "292e872f",
   "metadata": {},
   "outputs": [
    {
     "data": {
      "text/plain": [
       "[203, 'Hyderabad', 45, 90, True, 78, 175, 34.9, 'India']"
      ]
     },
     "execution_count": 16,
     "metadata": {},
     "output_type": "execute_result"
    }
   ],
   "source": [
    "c"
   ]
  },
  {
   "cell_type": "code",
   "execution_count": 17,
   "id": "5eb9605d",
   "metadata": {},
   "outputs": [],
   "source": [
    "c.clear()"
   ]
  },
  {
   "cell_type": "code",
   "execution_count": 20,
   "id": "191812ab",
   "metadata": {},
   "outputs": [
    {
     "data": {
      "text/plain": [
       "[]"
      ]
     },
     "execution_count": 20,
     "metadata": {},
     "output_type": "execute_result"
    }
   ],
   "source": [
    "c"
   ]
  },
  {
   "cell_type": "code",
   "execution_count": 26,
   "id": "8f6ef886",
   "metadata": {},
   "outputs": [
    {
     "data": {
      "text/plain": [
       "[90, 'India']"
      ]
     },
     "execution_count": 26,
     "metadata": {},
     "output_type": "execute_result"
    }
   ],
   "source": [
    "c\n"
   ]
  },
  {
   "cell_type": "code",
   "execution_count": 28,
   "id": "4a85d609",
   "metadata": {},
   "outputs": [
    {
     "data": {
      "text/plain": [
       "['India']"
      ]
     },
     "execution_count": 28,
     "metadata": {},
     "output_type": "execute_result"
    }
   ],
   "source": [
    "c.remove(90)\n",
    "c"
   ]
  },
  {
   "cell_type": "code",
   "execution_count": 30,
   "id": "ea85df2b",
   "metadata": {},
   "outputs": [
    {
     "data": {
      "text/plain": [
       "['India']"
      ]
     },
     "execution_count": 30,
     "metadata": {},
     "output_type": "execute_result"
    }
   ],
   "source": [
    "c.count('India')\n",
    "c"
   ]
  },
  {
   "cell_type": "code",
   "execution_count": 31,
   "id": "88d1f1da",
   "metadata": {},
   "outputs": [
    {
     "data": {
      "text/plain": [
       "[6, 3, 9, 4, 1, 3, 0, 8.7, 45, 43, 89]"
      ]
     },
     "execution_count": 31,
     "metadata": {},
     "output_type": "execute_result"
    }
   ],
   "source": [
    "d=[6,3,9,4,1,3,0,8.7,45,43,89]\n",
    "d"
   ]
  },
  {
   "cell_type": "code",
   "execution_count": 35,
   "id": "0b43e191",
   "metadata": {},
   "outputs": [
    {
     "ename": "NameError",
     "evalue": "name 'd' is not defined",
     "output_type": "error",
     "traceback": [
      "\u001b[1;31m---------------------------------------------------------------------------\u001b[0m",
      "\u001b[1;31mNameError\u001b[0m                                 Traceback (most recent call last)",
      "Cell \u001b[1;32mIn[35], line 1\u001b[0m\n\u001b[1;32m----> 1\u001b[0m \u001b[38;5;28;01mdel\u001b[39;00m(d)\n",
      "\u001b[1;31mNameError\u001b[0m: name 'd' is not defined"
     ]
    }
   ],
   "source": [
    "del(d)"
   ]
  },
  {
   "cell_type": "code",
   "execution_count": 36,
   "id": "a4db9793",
   "metadata": {},
   "outputs": [
    {
     "ename": "NameError",
     "evalue": "name 'd' is not defined",
     "output_type": "error",
     "traceback": [
      "\u001b[1;31m---------------------------------------------------------------------------\u001b[0m",
      "\u001b[1;31mNameError\u001b[0m                                 Traceback (most recent call last)",
      "Cell \u001b[1;32mIn[36], line 1\u001b[0m\n\u001b[1;32m----> 1\u001b[0m d\n",
      "\u001b[1;31mNameError\u001b[0m: name 'd' is not defined"
     ]
    }
   ],
   "source": [
    "d"
   ]
  },
  {
   "cell_type": "code",
   "execution_count": 1,
   "id": "5c30fc63",
   "metadata": {},
   "outputs": [
    {
     "data": {
      "text/plain": [
       "(90, 45, 6)"
      ]
     },
     "execution_count": 1,
     "metadata": {},
     "output_type": "execute_result"
    }
   ],
   "source": [
    "h = (90,45,6)\n",
    "h"
   ]
  },
  {
   "cell_type": "code",
   "execution_count": 2,
   "id": "e0b1e40c",
   "metadata": {},
   "outputs": [
    {
     "data": {
      "text/plain": [
       "tuple"
      ]
     },
     "execution_count": 2,
     "metadata": {},
     "output_type": "execute_result"
    }
   ],
   "source": [
    "type(h)"
   ]
  },
  {
   "cell_type": "code",
   "execution_count": 3,
   "id": "142f4f24",
   "metadata": {},
   "outputs": [
    {
     "data": {
      "text/plain": [
       "1"
      ]
     },
     "execution_count": 3,
     "metadata": {},
     "output_type": "execute_result"
    }
   ],
   "source": [
    "##only two operations int tuple\n",
    "h.index(45)"
   ]
  },
  {
   "cell_type": "code",
   "execution_count": 4,
   "id": "7abd75fc",
   "metadata": {},
   "outputs": [
    {
     "data": {
      "text/plain": [
       "{7, 34, 56}"
      ]
     },
     "execution_count": 4,
     "metadata": {},
     "output_type": "execute_result"
    }
   ],
   "source": [
    "s ={34,56,7}\n",
    "s"
   ]
  },
  {
   "cell_type": "code",
   "execution_count": 5,
   "id": "1b4fa397",
   "metadata": {},
   "outputs": [
    {
     "data": {
      "text/plain": [
       "set"
      ]
     },
     "execution_count": 5,
     "metadata": {},
     "output_type": "execute_result"
    }
   ],
   "source": [
    "type(s)"
   ]
  },
  {
   "cell_type": "code",
   "execution_count": 6,
   "id": "681ae296",
   "metadata": {},
   "outputs": [],
   "source": [
    "#add is only used for set to add the element\n",
    "s.add(90)"
   ]
  },
  {
   "cell_type": "code",
   "execution_count": 7,
   "id": "9218dd9f",
   "metadata": {},
   "outputs": [
    {
     "data": {
      "text/plain": [
       "{7, 34, 56, 90}"
      ]
     },
     "execution_count": 7,
     "metadata": {},
     "output_type": "execute_result"
    }
   ],
   "source": [
    "s"
   ]
  },
  {
   "cell_type": "code",
   "execution_count": 14,
   "id": "387768b0",
   "metadata": {},
   "outputs": [
    {
     "data": {
      "text/plain": [
       "{7, 90}"
      ]
     },
     "execution_count": 14,
     "metadata": {},
     "output_type": "execute_result"
    }
   ],
   "source": [
    "s.remove(56)\n",
    "s"
   ]
  },
  {
   "cell_type": "code",
   "execution_count": 8,
   "id": "e24ebda9",
   "metadata": {},
   "outputs": [
    {
     "data": {
      "text/plain": [
       "{45, 79, 90, 214}"
      ]
     },
     "execution_count": 8,
     "metadata": {},
     "output_type": "execute_result"
    }
   ],
   "source": [
    "y = {45,79,90,214}\n",
    "y"
   ]
  },
  {
   "cell_type": "code",
   "execution_count": 10,
   "id": "78a8482a",
   "metadata": {},
   "outputs": [
    {
     "data": {
      "text/plain": [
       "{7, 34, 56}"
      ]
     },
     "execution_count": 10,
     "metadata": {},
     "output_type": "execute_result"
    }
   ],
   "source": [
    "s.difference(y)"
   ]
  },
  {
   "cell_type": "code",
   "execution_count": 15,
   "id": "139ea7e2",
   "metadata": {},
   "outputs": [
    {
     "data": {
      "text/plain": [
       "{90}"
      ]
     },
     "execution_count": 15,
     "metadata": {},
     "output_type": "execute_result"
    }
   ],
   "source": [
    "s.intersection(y)"
   ]
  },
  {
   "cell_type": "code",
   "execution_count": 16,
   "id": "f7b73480",
   "metadata": {},
   "outputs": [
    {
     "data": {
      "text/plain": [
       "{90}"
      ]
     },
     "execution_count": 16,
     "metadata": {},
     "output_type": "execute_result"
    }
   ],
   "source": [
    "y.intersection(s)"
   ]
  },
  {
   "cell_type": "code",
   "execution_count": 17,
   "id": "833f1480",
   "metadata": {},
   "outputs": [
    {
     "data": {
      "text/plain": [
       "{7, 45, 79, 90, 214}"
      ]
     },
     "execution_count": 17,
     "metadata": {},
     "output_type": "execute_result"
    }
   ],
   "source": [
    "s.union(y)"
   ]
  },
  {
   "cell_type": "code",
   "execution_count": 18,
   "id": "3a99d9e1",
   "metadata": {},
   "outputs": [
    {
     "data": {
      "text/plain": [
       "{7, 45, 79, 214}"
      ]
     },
     "execution_count": 18,
     "metadata": {},
     "output_type": "execute_result"
    }
   ],
   "source": [
    "s.symmetric_difference(y)"
   ]
  },
  {
   "cell_type": "code",
   "execution_count": 19,
   "id": "cc62a6e2",
   "metadata": {},
   "outputs": [
    {
     "data": {
      "text/plain": [
       "(50, 70, 80, 90)"
      ]
     },
     "execution_count": 19,
     "metadata": {},
     "output_type": "execute_result"
    }
   ],
   "source": [
    "a=(50,70,80,90)\n",
    "a"
   ]
  },
  {
   "cell_type": "code",
   "execution_count": 20,
   "id": "203f207d",
   "metadata": {},
   "outputs": [
    {
     "data": {
      "text/plain": [
       "[50, 70, 80, 90]"
      ]
     },
     "execution_count": 20,
     "metadata": {},
     "output_type": "execute_result"
    }
   ],
   "source": [
    "d=list(a)\n",
    "d"
   ]
  },
  {
   "cell_type": "code",
   "execution_count": 22,
   "id": "d37e48e4",
   "metadata": {},
   "outputs": [
    {
     "data": {
      "text/plain": [
       "[50, 70, 80, 90, 40, 40]"
      ]
     },
     "execution_count": 22,
     "metadata": {},
     "output_type": "execute_result"
    }
   ],
   "source": [
    "d.append(40)\n",
    "d"
   ]
  },
  {
   "cell_type": "code",
   "execution_count": null,
   "id": "33484778",
   "metadata": {},
   "outputs": [],
   "source": [
    "# a=tuple(d)\n",
    "a"
   ]
  },
  {
   "cell_type": "markdown",
   "id": "502f3c04",
   "metadata": {},
   "source": [
    "# day5"
   ]
  },
  {
   "cell_type": "code",
   "execution_count": 3,
   "id": "f5e6e4db",
   "metadata": {},
   "outputs": [
    {
     "data": {
      "text/plain": [
       "{'a': 4, 'b': 7, 'c': 2}"
      ]
     },
     "execution_count": 3,
     "metadata": {},
     "output_type": "execute_result"
    }
   ],
   "source": [
    "d = {'a': 4, 'b': 7, 'c':2}\n",
    "d"
   ]
  },
  {
   "cell_type": "code",
   "execution_count": 4,
   "id": "c60da94d",
   "metadata": {},
   "outputs": [
    {
     "data": {
      "text/plain": [
       "dict"
      ]
     },
     "execution_count": 4,
     "metadata": {},
     "output_type": "execute_result"
    }
   ],
   "source": [
    "type(d)"
   ]
  },
  {
   "cell_type": "code",
   "execution_count": 5,
   "id": "e585af04",
   "metadata": {},
   "outputs": [
    {
     "data": {
      "text/plain": [
       "{101: 9, 102: 7, 103: 2}"
      ]
     },
     "execution_count": 5,
     "metadata": {},
     "output_type": "execute_result"
    }
   ],
   "source": [
    "d ={101: 9,102: 7,103: 2}\n",
    "d"
   ]
  },
  {
   "cell_type": "code",
   "execution_count": 8,
   "id": "e90ac676",
   "metadata": {},
   "outputs": [
    {
     "data": {
      "text/plain": [
       "{101: 9, 102: 7, 103: 2, 104: 80}"
      ]
     },
     "execution_count": 8,
     "metadata": {},
     "output_type": "execute_result"
    }
   ],
   "source": [
    "d[101]=9\n",
    "d"
   ]
  },
  {
   "cell_type": "code",
   "execution_count": 9,
   "id": "f73d8f42",
   "metadata": {},
   "outputs": [
    {
     "data": {
      "text/plain": [
       "{101: 9, 102: 7, 103: 2, 104: 80}"
      ]
     },
     "execution_count": 9,
     "metadata": {},
     "output_type": "execute_result"
    }
   ],
   "source": [
    "d.update({104: 80})\n",
    "d"
   ]
  },
  {
   "cell_type": "code",
   "execution_count": 15,
   "id": "538c9fb2",
   "metadata": {},
   "outputs": [
    {
     "data": {
      "text/plain": [
       "{101: 4000, 103: 2, 104: 80}"
      ]
     },
     "execution_count": 15,
     "metadata": {},
     "output_type": "execute_result"
    }
   ],
   "source": [
    "d.get(101)\n",
    "d"
   ]
  },
  {
   "cell_type": "code",
   "execution_count": 10,
   "id": "4338bf11",
   "metadata": {},
   "outputs": [
    {
     "data": {
      "text/plain": [
       "{101: 9, 103: 2, 104: 80}"
      ]
     },
     "execution_count": 10,
     "metadata": {},
     "output_type": "execute_result"
    }
   ],
   "source": [
    "del d[102]\n",
    "d"
   ]
  },
  {
   "cell_type": "code",
   "execution_count": 12,
   "id": "85c054dd",
   "metadata": {},
   "outputs": [
    {
     "data": {
      "text/plain": [
       "{101: 4000, 103: 2, 104: 80}"
      ]
     },
     "execution_count": 12,
     "metadata": {},
     "output_type": "execute_result"
    }
   ],
   "source": [
    "d.update({101:4000})\n",
    "d"
   ]
  },
  {
   "cell_type": "code",
   "execution_count": 16,
   "id": "eb038a56",
   "metadata": {},
   "outputs": [
    {
     "data": {
      "text/plain": [
       "{101: 4000, 103: 2, 104: [1000, 5000, 6000, 7000]}"
      ]
     },
     "execution_count": 16,
     "metadata": {},
     "output_type": "execute_result"
    }
   ],
   "source": [
    "\n",
    "d[104]= [1000,5000,6000,7000]\n",
    "d"
   ]
  },
  {
   "cell_type": "code",
   "execution_count": 17,
   "id": "5c8395cb",
   "metadata": {},
   "outputs": [
    {
     "data": {
      "text/plain": [
       "{101: 4000, 103: 2, 104: [1000, 5000, 6000, 7000]}"
      ]
     },
     "execution_count": 17,
     "metadata": {},
     "output_type": "execute_result"
    }
   ],
   "source": [
    "d[101]\n",
    "d"
   ]
  },
  {
   "cell_type": "code",
   "execution_count": 18,
   "id": "d8532be3",
   "metadata": {},
   "outputs": [
    {
     "data": {
      "text/plain": [
       "4000"
      ]
     },
     "execution_count": 18,
     "metadata": {},
     "output_type": "execute_result"
    }
   ],
   "source": [
    "d[101]"
   ]
  },
  {
   "cell_type": "code",
   "execution_count": 19,
   "id": "bf42e8d0",
   "metadata": {},
   "outputs": [
    {
     "data": {
      "text/plain": [
       "[1000, 5000, 6000]"
      ]
     },
     "execution_count": 19,
     "metadata": {},
     "output_type": "execute_result"
    }
   ],
   "source": [
    "d[104][0:3]"
   ]
  },
  {
   "cell_type": "code",
   "execution_count": 22,
   "id": "7d07d88e",
   "metadata": {},
   "outputs": [
    {
     "data": {
      "text/plain": [
       "{101: 4000, 103: (30, 40, 50, 60, 70), 104: [1000, 5000, 6000, 7000]}"
      ]
     },
     "execution_count": 22,
     "metadata": {},
     "output_type": "execute_result"
    }
   ],
   "source": [
    "d.update({103:(30,40,50,60,70)})\n",
    "d"
   ]
  },
  {
   "cell_type": "code",
   "execution_count": 23,
   "id": "55d0beed",
   "metadata": {},
   "outputs": [
    {
     "data": {
      "text/plain": [
       "(30, 40, 50, 60, 70)"
      ]
     },
     "execution_count": 23,
     "metadata": {},
     "output_type": "execute_result"
    }
   ],
   "source": [
    "d[103]"
   ]
  },
  {
   "cell_type": "code",
   "execution_count": 24,
   "id": "7162b24d",
   "metadata": {},
   "outputs": [
    {
     "data": {
      "text/plain": [
       "dict"
      ]
     },
     "execution_count": 24,
     "metadata": {},
     "output_type": "execute_result"
    }
   ],
   "source": [
    "type(d)"
   ]
  },
  {
   "cell_type": "code",
   "execution_count": 27,
   "id": "78793ac8",
   "metadata": {},
   "outputs": [
    {
     "data": {
      "text/plain": [
       "list"
      ]
     },
     "execution_count": 27,
     "metadata": {},
     "output_type": "execute_result"
    }
   ],
   "source": [
    "type(d[104])"
   ]
  },
  {
   "cell_type": "code",
   "execution_count": null,
   "id": "2841975b",
   "metadata": {},
   "outputs": [],
   "source": [
    "d[105]=('a':(30,50,70),'b':(1000,5000,7000,9000),'c':['K',('L':(11,12))])"
   ]
  },
  {
   "cell_type": "markdown",
   "id": "0fae78db",
   "metadata": {},
   "source": [
    "# day6"
   ]
  },
  {
   "cell_type": "code",
   "execution_count": null,
   "id": "c5efd5fe",
   "metadata": {},
   "outputs": [],
   "source": [
    "if condition:\n",
    "    task1 block of code\n",
    "elif condition2:\n",
    "    task1 block of code\n",
    "elif condition3:\n",
    "    task3 block of code \n",
    "else:\n",
    "    task4 block of code\n"
   ]
  },
  {
   "cell_type": "code",
   "execution_count": 2,
   "id": "871bd5d6",
   "metadata": {},
   "outputs": [
    {
     "data": {
      "text/plain": [
       "9"
      ]
     },
     "execution_count": 2,
     "metadata": {},
     "output_type": "execute_result"
    }
   ],
   "source": [
    "x"
   ]
  },
  {
   "cell_type": "code",
   "execution_count": 1,
   "id": "e7de56e9",
   "metadata": {},
   "outputs": [
    {
     "name": "stdout",
     "output_type": "stream",
     "text": [
      "odd\n"
     ]
    }
   ],
   "source": [
    "x = 9\n",
    "if x%2==0:\n",
    "    print(\"Even\")\n",
    "else:\n",
    "    print(\"odd\")"
   ]
  },
  {
   "cell_type": "code",
   "execution_count": 3,
   "id": "dce92fa1",
   "metadata": {},
   "outputs": [
    {
     "data": {
      "text/plain": [
       "'karthik'"
      ]
     },
     "execution_count": 3,
     "metadata": {},
     "output_type": "execute_result"
    }
   ],
   "source": [
    "y='karthik'\n",
    "y"
   ]
  },
  {
   "cell_type": "code",
   "execution_count": 4,
   "id": "beeff720",
   "metadata": {},
   "outputs": [
    {
     "data": {
      "text/plain": [
       "True"
      ]
     },
     "execution_count": 4,
     "metadata": {},
     "output_type": "execute_result"
    }
   ],
   "source": [
    "y.isalpha()\n"
   ]
  },
  {
   "cell_type": "code",
   "execution_count": 8,
   "id": "05385120",
   "metadata": {},
   "outputs": [],
   "source": [
    "name='Rishika'"
   ]
  },
  {
   "cell_type": "code",
   "execution_count": 10,
   "id": "c502a6cf",
   "metadata": {},
   "outputs": [
    {
     "name": "stdout",
     "output_type": "stream",
     "text": [
      "Accept\n"
     ]
    }
   ],
   "source": [
    "if name.isalpha()==True:\n",
    "    print('Accept')\n",
    "else:\n",
    "    print('Name should not contain digits and symbols')"
   ]
  },
  {
   "cell_type": "code",
   "execution_count": 12,
   "id": "e4f38795",
   "metadata": {},
   "outputs": [
    {
     "data": {
      "text/plain": [
       "True"
      ]
     },
     "execution_count": 12,
     "metadata": {},
     "output_type": "execute_result"
    }
   ],
   "source": [
    "name.isalpha()"
   ]
  },
  {
   "cell_type": "code",
   "execution_count": 13,
   "id": "a566b211",
   "metadata": {},
   "outputs": [
    {
     "data": {
      "text/plain": [
       "'Telangana'"
      ]
     },
     "execution_count": 13,
     "metadata": {},
     "output_type": "execute_result"
    }
   ],
   "source": [
    "x ='Telangana'\n",
    "x"
   ]
  },
  {
   "cell_type": "code",
   "execution_count": 14,
   "id": "97757e83",
   "metadata": {},
   "outputs": [
    {
     "data": {
      "text/plain": [
       "'mumbai'"
      ]
     },
     "execution_count": 14,
     "metadata": {},
     "output_type": "execute_result"
    }
   ],
   "source": [
    "x ='mumbai'\n",
    "x"
   ]
  },
  {
   "cell_type": "code",
   "execution_count": 15,
   "id": "a8b2ac88",
   "metadata": {},
   "outputs": [
    {
     "data": {
      "text/plain": [
       "'maharshtra'"
      ]
     },
     "execution_count": 15,
     "metadata": {},
     "output_type": "execute_result"
    }
   ],
   "source": [
    "x ='maharshtra'\n",
    "x"
   ]
  },
  {
   "cell_type": "code",
   "execution_count": 20,
   "id": "0ea325aa",
   "metadata": {},
   "outputs": [
    {
     "data": {
      "text/plain": [
       "'wow'"
      ]
     },
     "execution_count": 20,
     "metadata": {},
     "output_type": "execute_result"
    }
   ],
   "source": [
    "x ='wow'\n",
    "x"
   ]
  },
  {
   "cell_type": "code",
   "execution_count": 21,
   "id": "22802671",
   "metadata": {},
   "outputs": [
    {
     "name": "stdout",
     "output_type": "stream",
     "text": [
      "Name should not contain digits and symbols\n"
     ]
    }
   ],
   "source": [
    "if x.isalpha()==x:\n",
    "    \n",
    "    print('Accept')\n",
    "else:\n",
    "    print('Name should not contain digits and symbols')"
   ]
  },
  {
   "cell_type": "code",
   "execution_count": 23,
   "id": "46ceb588",
   "metadata": {},
   "outputs": [
    {
     "data": {
      "text/plain": [
       "True"
      ]
     },
     "execution_count": 23,
     "metadata": {},
     "output_type": "execute_result"
    }
   ],
   "source": [
    "x.isalpha()"
   ]
  },
  {
   "cell_type": "markdown",
   "id": "5744082e",
   "metadata": {},
   "source": [
    "x='maha'\n",
    "if x[0].lower()=='m':\n",
    "    print('yes')\n",
    "else:\n",
    "    print(\"no\")"
   ]
  },
  {
   "cell_type": "code",
   "execution_count": 25,
   "id": "660d214d",
   "metadata": {},
   "outputs": [
    {
     "data": {
      "text/plain": [
       "True"
      ]
     },
     "execution_count": 25,
     "metadata": {},
     "output_type": "execute_result"
    }
   ],
   "source": [
    "x[0].lower()=='m'"
   ]
  },
  {
   "cell_type": "code",
   "execution_count": 35,
   "id": "e1e726a6",
   "metadata": {},
   "outputs": [
    {
     "name": "stdout",
     "output_type": "stream",
     "text": [
      "yes\n"
     ]
    }
   ],
   "source": [
    "x = \"bye\"\n",
    "if x[0].upper()=='b'or'y'or'e':\n",
    "    print('yes')\n",
    "else:\n",
    "    print(\"no\")"
   ]
  },
  {
   "cell_type": "markdown",
   "id": "3196acff",
   "metadata": {},
   "source": [
    "# Day7"
   ]
  },
  {
   "cell_type": "code",
   "execution_count": null,
   "id": "1a14d1ba",
   "metadata": {},
   "outputs": [],
   "source": [
    "#for\n",
    "#while\n"
   ]
  },
  {
   "cell_type": "code",
   "execution_count": null,
   "id": "a71e0797",
   "metadata": {},
   "outputs": [],
   "source": []
  },
  {
   "cell_type": "code",
   "execution_count": 2,
   "id": "512e1b50",
   "metadata": {},
   "outputs": [],
   "source": [
    "x=45\n",
    "while x<10:\n",
    "    print('yes',x)\n",
    "    x=x+1\n",
    "    \n",
    "    \n",
    "    \n",
    "    "
   ]
  },
  {
   "cell_type": "markdown",
   "id": "bda5fa27",
   "metadata": {},
   "source": [
    "x=45\n",
    "while x<10:\n",
    "    print('yes',x)\n",
    "    x=x+1\n",
    "    \n",
    "    \n",
    "    \n",
    "    "
   ]
  },
  {
   "cell_type": "code",
   "execution_count": 1,
   "id": "e0e8e446",
   "metadata": {},
   "outputs": [
    {
     "name": "stdout",
     "output_type": "stream",
     "text": [
      "yes 35\n",
      "yes 30\n",
      "yes 25\n",
      "yes 20\n",
      "yes 15\n"
     ]
    }
   ],
   "source": [
    "x=35\n",
    "while x>10:\n",
    "    print('yes',x)\n",
    "    x=x-5\n",
    "    \n",
    "    \n",
    "    \n",
    "    "
   ]
  },
  {
   "cell_type": "code",
   "execution_count": 2,
   "id": "f9e6dcb2",
   "metadata": {},
   "outputs": [
    {
     "data": {
      "text/plain": [
       "[40, 20, 60, 80, 50, 30, 60, 90]"
      ]
     },
     "execution_count": 2,
     "metadata": {},
     "output_type": "execute_result"
    }
   ],
   "source": [
    "y=[40,20,60,80,50,30,60,90]\n",
    "y\n"
   ]
  },
  {
   "cell_type": "code",
   "execution_count": 3,
   "id": "5e96e945",
   "metadata": {},
   "outputs": [
    {
     "ename": "TypeError",
     "evalue": "can only concatenate list (not \"int\") to list",
     "output_type": "error",
     "traceback": [
      "\u001b[1;31m---------------------------------------------------------------------------\u001b[0m",
      "\u001b[1;31mTypeError\u001b[0m                                 Traceback (most recent call last)",
      "Cell \u001b[1;32mIn[3], line 1\u001b[0m\n\u001b[1;32m----> 1\u001b[0m y\u001b[38;5;241m+\u001b[39m\u001b[38;5;241m5\u001b[39m\n",
      "\u001b[1;31mTypeError\u001b[0m: can only concatenate list (not \"int\") to list"
     ]
    }
   ],
   "source": [
    "y+5"
   ]
  },
  {
   "cell_type": "code",
   "execution_count": 5,
   "id": "86c57b64",
   "metadata": {},
   "outputs": [
    {
     "data": {
      "text/plain": [
       "[40, 20, 60, 80, 50, 30, 60, 90]"
      ]
     },
     "execution_count": 5,
     "metadata": {},
     "output_type": "execute_result"
    }
   ],
   "source": [
    "y*5\n",
    "y"
   ]
  },
  {
   "cell_type": "code",
   "execution_count": 6,
   "id": "e3580ce9",
   "metadata": {},
   "outputs": [
    {
     "data": {
      "text/plain": [
       "[40, 20, 80, 50, 30, 60, 90]"
      ]
     },
     "execution_count": 6,
     "metadata": {},
     "output_type": "execute_result"
    }
   ],
   "source": [
    "world=[40,20,80,50,30,60,90]\n",
    "world\n"
   ]
  },
  {
   "cell_type": "code",
   "execution_count": 12,
   "id": "17673943",
   "metadata": {},
   "outputs": [
    {
     "name": "stdout",
     "output_type": "stream",
     "text": [
      "5024.0\n",
      "1256.0\n",
      "20096.0\n",
      "7850.0\n",
      "2826.0\n",
      "11304.0\n",
      "25434.000000000004\n"
     ]
    }
   ],
   "source": [
    "for i in world:\n",
    "    print(3.14*i*i)"
   ]
  },
  {
   "cell_type": "code",
   "execution_count": 13,
   "id": "2ca6b243",
   "metadata": {},
   "outputs": [
    {
     "data": {
      "text/plain": [
       "[50, 70, 89, 75, 90, 45]"
      ]
     },
     "execution_count": 13,
     "metadata": {},
     "output_type": "execute_result"
    }
   ],
   "source": [
    "gate=[50,70,89,75,90,45]\n",
    "gate"
   ]
  },
  {
   "cell_type": "code",
   "execution_count": 30,
   "id": "6a51d027",
   "metadata": {},
   "outputs": [],
   "source": [
    "area=[]\n",
    "for i in gate:\n",
    "    area.append(5.14*i*i)\n",
    "\n",
    "    "
   ]
  },
  {
   "cell_type": "code",
   "execution_count": 31,
   "id": "e5c37d3f",
   "metadata": {},
   "outputs": [
    {
     "data": {
      "text/plain": [
       "[12850.0, 25185.999999999996, 40713.939999999995, 28912.5, 41634.0, 10408.5]"
      ]
     },
     "execution_count": 31,
     "metadata": {},
     "output_type": "execute_result"
    }
   ],
   "source": [
    "area"
   ]
  },
  {
   "cell_type": "code",
   "execution_count": 33,
   "id": "bd0bc312",
   "metadata": {},
   "outputs": [
    {
     "data": {
      "text/plain": [
       "[50, 70, 89, 75, 90, 45]"
      ]
     },
     "execution_count": 33,
     "metadata": {},
     "output_type": "execute_result"
    }
   ],
   "source": [
    "type(gate)\n",
    "gate"
   ]
  },
  {
   "cell_type": "code",
   "execution_count": 34,
   "id": "86a8d763",
   "metadata": {},
   "outputs": [
    {
     "data": {
      "text/plain": [
       "[39, 45, 66, 93, 90, 78, 67, 87, 89, 93, 24, 59, 49, 91]"
      ]
     },
     "execution_count": 34,
     "metadata": {},
     "output_type": "execute_result"
    }
   ],
   "source": [
    "num=[39,45,66,93,90,78,67,87,89,93,24,59,49,91]\n",
    "num"
   ]
  },
  {
   "cell_type": "code",
   "execution_count": 41,
   "id": "93bba8ef",
   "metadata": {},
   "outputs": [
    {
     "ename": "SyntaxError",
     "evalue": "cannot assign to expression here. Maybe you meant '==' instead of '='? (494901156.py, line 2)",
     "output_type": "error",
     "traceback": [
      "\u001b[1;36m  Cell \u001b[1;32mIn[41], line 2\u001b[1;36m\u001b[0m\n\u001b[1;33m    if(i% 2=0):\u001b[0m\n\u001b[1;37m       ^\u001b[0m\n\u001b[1;31mSyntaxError\u001b[0m\u001b[1;31m:\u001b[0m cannot assign to expression here. Maybe you meant '==' instead of '='?\n"
     ]
    }
   ],
   "source": [
    "for i in num:\n",
    "    if(i% 2=0):\n",
    "        print('even')\n",
    "        else:\n",
    "            print('odd')"
   ]
  },
  {
   "cell_type": "code",
   "execution_count": 43,
   "id": "14aa2b10",
   "metadata": {},
   "outputs": [],
   "source": [
    "j=[]\n",
    "k=[]\n",
    "for i in num:\n",
    "    if i%2==0:\n",
    "        j.append(i)\n",
    "    else:\n",
    "        k.append(i)"
   ]
  },
  {
   "cell_type": "code",
   "execution_count": 44,
   "id": "d8f14729",
   "metadata": {},
   "outputs": [
    {
     "data": {
      "text/plain": [
       "[66, 90, 78, 24]"
      ]
     },
     "execution_count": 44,
     "metadata": {},
     "output_type": "execute_result"
    }
   ],
   "source": [
    "j"
   ]
  },
  {
   "cell_type": "code",
   "execution_count": 45,
   "id": "4dd3f0d3",
   "metadata": {},
   "outputs": [
    {
     "data": {
      "text/plain": [
       "[39, 45, 93, 67, 87, 89, 93, 59, 49, 91]"
      ]
     },
     "execution_count": 45,
     "metadata": {},
     "output_type": "execute_result"
    }
   ],
   "source": [
    "k"
   ]
  },
  {
   "cell_type": "code",
   "execution_count": 48,
   "id": "1c08d191",
   "metadata": {},
   "outputs": [],
   "source": [
    "num1=[39,45,93,67,87,89,93,59,49,91]\n"
   ]
  },
  {
   "cell_type": "code",
   "execution_count": 49,
   "id": "0b442350",
   "metadata": {},
   "outputs": [
    {
     "data": {
      "text/plain": [
       "'[39, 45, 93, 67, 87, 89, 93, 59, 49, 91]'"
      ]
     },
     "execution_count": 49,
     "metadata": {},
     "output_type": "execute_result"
    }
   ],
   "source": [
    "str(num1)"
   ]
  },
  {
   "cell_type": "code",
   "execution_count": 51,
   "id": "023f2f01",
   "metadata": {},
   "outputs": [],
   "source": [
    "d=num1[0]"
   ]
  },
  {
   "cell_type": "code",
   "execution_count": 52,
   "id": "0a7e2fba",
   "metadata": {},
   "outputs": [
    {
     "data": {
      "text/plain": [
       "39"
      ]
     },
     "execution_count": 52,
     "metadata": {},
     "output_type": "execute_result"
    }
   ],
   "source": [
    "d"
   ]
  },
  {
   "cell_type": "code",
   "execution_count": 55,
   "id": "31d8ad88",
   "metadata": {},
   "outputs": [],
   "source": [
    "h=[]\n",
    "for i in num:\n",
    "    a=str(i)\n",
    "    b=a.replace('9','2')\n",
    "    c=int(b)\n",
    "    h.append(c)"
   ]
  },
  {
   "cell_type": "code",
   "execution_count": 56,
   "id": "09e2787e",
   "metadata": {},
   "outputs": [
    {
     "data": {
      "text/plain": [
       "[32, 45, 66, 23, 20, 78, 67, 87, 82, 23, 24, 52, 42, 21]"
      ]
     },
     "execution_count": 56,
     "metadata": {},
     "output_type": "execute_result"
    }
   ],
   "source": [
    "h"
   ]
  },
  {
   "cell_type": "code",
   "execution_count": 57,
   "id": "d55e1a1f",
   "metadata": {},
   "outputs": [
    {
     "data": {
      "text/plain": [
       "'solutiOns'"
      ]
     },
     "execution_count": 57,
     "metadata": {},
     "output_type": "execute_result"
    }
   ],
   "source": [
    "a='solutiOns'\n",
    "a"
   ]
  },
  {
   "cell_type": "code",
   "execution_count": 2,
   "id": "18bcfa3e",
   "metadata": {},
   "outputs": [],
   "source": [
    "x='software'\n",
    "y=''\n",
    "\n",
    "for i in x:\n",
    "    if i.lower() not in ('s','o'):\n",
    "        y+=i\n",
    "        \n"
   ]
  },
  {
   "cell_type": "code",
   "execution_count": 3,
   "id": "cbf4cf79",
   "metadata": {},
   "outputs": [
    {
     "name": "stdout",
     "output_type": "stream",
     "text": [
      "s\n",
      "o\n",
      "f\n",
      "t\n",
      "w\n",
      "a\n",
      "r\n",
      "e\n"
     ]
    }
   ],
   "source": [
    "for i in x:\n",
    "    print(i)"
   ]
  },
  {
   "cell_type": "markdown",
   "id": "c55bd9fe",
   "metadata": {},
   "source": [
    "# Day8"
   ]
  },
  {
   "cell_type": "code",
   "execution_count": 1,
   "id": "0f766126",
   "metadata": {},
   "outputs": [
    {
     "ename": "SyntaxError",
     "evalue": "invalid syntax (3462563280.py, line 2)",
     "output_type": "error",
     "traceback": [
      "\u001b[1;36m  Cell \u001b[1;32mIn[1], line 2\u001b[1;36m\u001b[0m\n\u001b[1;33m    block of code\u001b[0m\n\u001b[1;37m          ^\u001b[0m\n\u001b[1;31mSyntaxError\u001b[0m\u001b[1;31m:\u001b[0m invalid syntax\n"
     ]
    }
   ],
   "source": [
    "def functionname(parameter):\n",
    "    block of code\n",
    "    return output"
   ]
  },
  {
   "cell_type": "code",
   "execution_count": 16,
   "id": "07ead4d3",
   "metadata": {},
   "outputs": [],
   "source": [
    "def calArea(r):\n",
    "    a=3.14*r*r\n",
    "    return a"
   ]
  },
  {
   "cell_type": "code",
   "execution_count": 19,
   "id": "43670a1a",
   "metadata": {},
   "outputs": [
    {
     "data": {
      "text/plain": [
       "314.0"
      ]
     },
     "execution_count": 19,
     "metadata": {},
     "output_type": "execute_result"
    }
   ],
   "source": [
    "w=calArea(r=10)\n",
    "w\n"
   ]
  },
  {
   "cell_type": "code",
   "execution_count": 18,
   "id": "b2ad2586",
   "metadata": {},
   "outputs": [
    {
     "data": {
      "text/plain": [
       "float"
      ]
     },
     "execution_count": 18,
     "metadata": {},
     "output_type": "execute_result"
    }
   ],
   "source": [
    "type(w)"
   ]
  },
  {
   "cell_type": "code",
   "execution_count": 20,
   "id": "e0996064",
   "metadata": {},
   "outputs": [],
   "source": [
    "def d_to_inr(x):\n",
    "    return x*85"
   ]
  },
  {
   "cell_type": "code",
   "execution_count": 25,
   "id": "b5e15873",
   "metadata": {},
   "outputs": [
    {
     "data": {
      "text/plain": [
       "1275"
      ]
     },
     "execution_count": 25,
     "metadata": {},
     "output_type": "execute_result"
    }
   ],
   "source": [
    "a=d_to_inr(15)\n",
    "a"
   ]
  },
  {
   "cell_type": "code",
   "execution_count": 24,
   "id": "664fd79f",
   "metadata": {},
   "outputs": [
    {
     "data": {
      "text/plain": [
       "1275"
      ]
     },
     "execution_count": 24,
     "metadata": {},
     "output_type": "execute_result"
    }
   ],
   "source": [
    "b=d_to_inr(15)\n",
    "b"
   ]
  },
  {
   "cell_type": "code",
   "execution_count": 26,
   "id": "9748b10c",
   "metadata": {},
   "outputs": [
    {
     "data": {
      "text/plain": [
       "2550"
      ]
     },
     "execution_count": 26,
     "metadata": {},
     "output_type": "execute_result"
    }
   ],
   "source": [
    "b+a"
   ]
  },
  {
   "cell_type": "code",
   "execution_count": 32,
   "id": "9ed91573",
   "metadata": {},
   "outputs": [
    {
     "name": "stdout",
     "output_type": "stream",
     "text": [
      "India\n"
     ]
    }
   ],
   "source": [
    "a=print(\"India\")\n",
    "a"
   ]
  },
  {
   "cell_type": "code",
   "execution_count": 35,
   "id": "89ce804c",
   "metadata": {},
   "outputs": [],
   "source": [
    "def aor(l,w):\n",
    "    area=l*w\n",
    "    return area"
   ]
  },
  {
   "cell_type": "raw",
   "id": "72940358",
   "metadata": {},
   "source": []
  },
  {
   "cell_type": "code",
   "execution_count": 36,
   "id": "3500a015",
   "metadata": {},
   "outputs": [
    {
     "data": {
      "text/plain": [
       "50"
      ]
     },
     "execution_count": 36,
     "metadata": {},
     "output_type": "execute_result"
    }
   ],
   "source": [
    "aor(w=5,l=10)"
   ]
  },
  {
   "cell_type": "code",
   "execution_count": 37,
   "id": "6dc5925a",
   "metadata": {},
   "outputs": [
    {
     "data": {
      "text/plain": [
       "300"
      ]
     },
     "execution_count": 37,
     "metadata": {},
     "output_type": "execute_result"
    }
   ],
   "source": [
    "aor(20,15)"
   ]
  },
  {
   "cell_type": "code",
   "execution_count": 38,
   "id": "8a09a671",
   "metadata": {},
   "outputs": [
    {
     "data": {
      "text/plain": [
       "50"
      ]
     },
     "execution_count": 38,
     "metadata": {},
     "output_type": "execute_result"
    }
   ],
   "source": [
    "aor(l=10,w=5)"
   ]
  },
  {
   "cell_type": "code",
   "execution_count": 9,
   "id": "0545fa6d",
   "metadata": {},
   "outputs": [],
   "source": [
    "def area(radius,length,width):\n",
    "    aoc=3.14*radius*radius\n",
    "    aor=length*width\n",
    "    return {'Area Of Rect':aor,'Area of Circle':aoc}"
   ]
  },
  {
   "cell_type": "raw",
   "id": "e75610c8",
   "metadata": {},
   "source": [
    "area(radius=10,length=20,width=5)\n",
    "\n",
    "\n",
    "\n",
    "\n",
    "\n",
    "\n"
   ]
  },
  {
   "cell_type": "code",
   "execution_count": 10,
   "id": "e9835032",
   "metadata": {},
   "outputs": [
    {
     "data": {
      "text/plain": [
       "'Area Of Rect'"
      ]
     },
     "execution_count": 10,
     "metadata": {},
     "output_type": "execute_result"
    }
   ],
   "source": [
    "aor,aoc=area(radius=10,length=20,width=5)\n",
    "aor"
   ]
  },
  {
   "cell_type": "code",
   "execution_count": 11,
   "id": "521eb661",
   "metadata": {},
   "outputs": [
    {
     "data": {
      "text/plain": [
       "'Area of Circle'"
      ]
     },
     "execution_count": 11,
     "metadata": {},
     "output_type": "execute_result"
    }
   ],
   "source": [
    "aoc"
   ]
  },
  {
   "cell_type": "code",
   "execution_count": 12,
   "id": "8de181a6",
   "metadata": {},
   "outputs": [
    {
     "data": {
      "text/plain": [
       "'Area Of Rect'"
      ]
     },
     "execution_count": 12,
     "metadata": {},
     "output_type": "execute_result"
    }
   ],
   "source": [
    "aor"
   ]
  },
  {
   "cell_type": "code",
   "execution_count": 21,
   "id": "9884dd32",
   "metadata": {},
   "outputs": [
    {
     "data": {
      "text/plain": [
       "'HyderabAAd 500008 Telangana'"
      ]
     },
     "execution_count": 21,
     "metadata": {},
     "output_type": "execute_result"
    }
   ],
   "source": [
    "t='HyderabAAd 500008 Telangana'\n",
    "t"
   ]
  },
  {
   "cell_type": "code",
   "execution_count": 24,
   "id": "2d432922",
   "metadata": {},
   "outputs": [],
   "source": [
    "def count_num_alpha(x):\n",
    "    c=0\n",
    "    d=0\n",
    "    for i in x:\n",
    "        if i.isalpha():\n",
    "            c+=1\n",
    "        elif i.isnumeric():    \n",
    "            d+=1\n",
    "    return {'Number of alphabets':c,'Number of digits':d}        \n",
    "    "
   ]
  },
  {
   "cell_type": "code",
   "execution_count": 25,
   "id": "1f9edf25",
   "metadata": {},
   "outputs": [
    {
     "ename": "NameError",
     "evalue": "name 'd' is not defined",
     "output_type": "error",
     "traceback": [
      "\u001b[1;31m---------------------------------------------------------------------------\u001b[0m",
      "\u001b[1;31mNameError\u001b[0m                                 Traceback (most recent call last)",
      "Cell \u001b[1;32mIn[25], line 1\u001b[0m\n\u001b[1;32m----> 1\u001b[0m d\n",
      "\u001b[1;31mNameError\u001b[0m: name 'd' is not defined"
     ]
    }
   ],
   "source": [
    "def remove_"
   ]
  },
  {
   "cell_type": "markdown",
   "id": "82616f01",
   "metadata": {},
   "source": [
    "# Day12"
   ]
  },
  {
   "cell_type": "code",
   "execution_count": 2,
   "id": "eac77041",
   "metadata": {},
   "outputs": [],
   "source": [
    "import numpy as np"
   ]
  },
  {
   "cell_type": "code",
   "execution_count": 1,
   "id": "5c8f344c",
   "metadata": {},
   "outputs": [],
   "source": [
    "j = [4,6,2,8,9];"
   ]
  },
  {
   "cell_type": "code",
   "execution_count": 1,
   "id": "e18371ac",
   "metadata": {},
   "outputs": [
    {
     "ename": "SyntaxError",
     "evalue": "invalid syntax (2270501605.py, line 1)",
     "output_type": "error",
     "traceback": [
      "\u001b[1;36m  Cell \u001b[1;32mIn[1], line 1\u001b[1;36m\u001b[0m\n\u001b[1;33m    numpy              Array operations\u001b[0m\n\u001b[1;37m                       ^\u001b[0m\n\u001b[1;31mSyntaxError\u001b[0m\u001b[1;31m:\u001b[0m invalid syntax\n"
     ]
    }
   ],
   "source": [
    "numpy              Array operations\n",
    "\n",
    "pandas             Data manipulation and analysis\n",
    "\n",
    "matplotlib         Graphical Analysis\n",
    "\n",
    "Sklearn            Machine learning algorithms and techniques\n",
    "\n",
    "statsmodels        Statistical analysis\n",
    "\n",
    "scipy              statistical analysis\n"
   ]
  },
  {
   "cell_type": "code",
   "execution_count": 4,
   "id": "719a92a0",
   "metadata": {},
   "outputs": [
    {
     "data": {
      "text/plain": [
       "[5, 7, 2, 8, 4, 7]"
      ]
     },
     "execution_count": 4,
     "metadata": {},
     "output_type": "execute_result"
    }
   ],
   "source": [
    "j=[5,7,2,8,4,7]\n",
    "j"
   ]
  },
  {
   "cell_type": "code",
   "execution_count": 15,
   "id": "7f429e7f",
   "metadata": {},
   "outputs": [
    {
     "ename": "SyntaxError",
     "evalue": "invalid syntax (427450670.py, line 1)",
     "output_type": "error",
     "traceback": [
      "\u001b[1;36m  Cell \u001b[1;32mIn[15], line 1\u001b[1;36m\u001b[0m\n\u001b[1;33m    d=.array(j)\u001b[0m\n\u001b[1;37m      ^\u001b[0m\n\u001b[1;31mSyntaxError\u001b[0m\u001b[1;31m:\u001b[0m invalid syntax\n"
     ]
    }
   ],
   "source": [
    "d=.array(j)\n",
    "d"
   ]
  },
  {
   "cell_type": "code",
   "execution_count": 9,
   "id": "dfd03d37",
   "metadata": {},
   "outputs": [
    {
     "data": {
      "text/plain": [
       "([4, 8, 90, 12],\n",
       " [56, 78, 54, 20],\n",
       " [67, 89, 50, 49],\n",
       " [77, 88, 22, 55],\n",
       " [90, 40, 70, 60])"
      ]
     },
     "execution_count": 9,
     "metadata": {},
     "output_type": "execute_result"
    }
   ],
   "source": [
    "s=[4,8,90,12],[56,78,54,20],[67,89,50,49],[77,88,22,55],[90,40,70,60]\n",
    "s"
   ]
  },
  {
   "cell_type": "code",
   "execution_count": 10,
   "id": "e11888f8",
   "metadata": {},
   "outputs": [
    {
     "data": {
      "text/plain": [
       "tuple"
      ]
     },
     "execution_count": 10,
     "metadata": {},
     "output_type": "execute_result"
    }
   ],
   "source": [
    "type(s)"
   ]
  },
  {
   "cell_type": "markdown",
   "id": "3b933342",
   "metadata": {},
   "source": [
    "arr1.ndim"
   ]
  },
  {
   "cell_type": "code",
   "execution_count": 14,
   "id": "7bc289c4",
   "metadata": {},
   "outputs": [
    {
     "ename": "NameError",
     "evalue": "name 'arr1' is not defined",
     "output_type": "error",
     "traceback": [
      "\u001b[1;31m---------------------------------------------------------------------------\u001b[0m",
      "\u001b[1;31mNameError\u001b[0m                                 Traceback (most recent call last)",
      "Cell \u001b[1;32mIn[14], line 1\u001b[0m\n\u001b[1;32m----> 1\u001b[0m arr1\u001b[38;5;241m.\u001b[39msize\n",
      "\u001b[1;31mNameError\u001b[0m: name 'arr1' is not defined"
     ]
    }
   ],
   "source": [
    "arr1.size"
   ]
  },
  {
   "cell_type": "code",
   "execution_count": 11,
   "id": "0063b620",
   "metadata": {},
   "outputs": [
    {
     "ename": "NameError",
     "evalue": "name 'd' is not defined",
     "output_type": "error",
     "traceback": [
      "\u001b[1;31m---------------------------------------------------------------------------\u001b[0m",
      "\u001b[1;31mNameError\u001b[0m                                 Traceback (most recent call last)",
      "Cell \u001b[1;32mIn[11], line 1\u001b[0m\n\u001b[1;32m----> 1\u001b[0m w\u001b[38;5;241m=\u001b[39md\u001b[38;5;241m.\u001b[39mreshape(\u001b[38;5;241m3\u001b[39m,\u001b[38;5;241m2\u001b[39m)\n\u001b[0;32m      2\u001b[0m w\n",
      "\u001b[1;31mNameError\u001b[0m: name 'd' is not defined"
     ]
    }
   ],
   "source": [
    "w=d.reshape(3,2)\n",
    "w"
   ]
  },
  {
   "cell_type": "code",
   "execution_count": null,
   "id": "08078e2c",
   "metadata": {},
   "outputs": [],
   "source": []
  },
  {
   "cell_type": "code",
   "execution_count": 12,
   "id": "22045c4d",
   "metadata": {},
   "outputs": [
    {
     "ename": "NameError",
     "evalue": "name 'w' is not defined",
     "output_type": "error",
     "traceback": [
      "\u001b[1;31m---------------------------------------------------------------------------\u001b[0m",
      "\u001b[1;31mNameError\u001b[0m                                 Traceback (most recent call last)",
      "Cell \u001b[1;32mIn[12], line 1\u001b[0m\n\u001b[1;32m----> 1\u001b[0m w\u001b[38;5;241m.\u001b[39mndim\n\u001b[0;32m      2\u001b[0m w\n",
      "\u001b[1;31mNameError\u001b[0m: name 'w' is not defined"
     ]
    }
   ],
   "source": [
    "w.ndim\n",
    "w"
   ]
  },
  {
   "cell_type": "raw",
   "id": "61811837",
   "metadata": {},
   "source": [
    "list(range(-10,1))"
   ]
  },
  {
   "cell_type": "code",
   "execution_count": 1,
   "id": "bedf37bb",
   "metadata": {},
   "outputs": [
    {
     "data": {
      "text/plain": [
       "range(5, 50, 5)"
      ]
     },
     "execution_count": 1,
     "metadata": {},
     "output_type": "execute_result"
    }
   ],
   "source": [
    "range(5,50,5)"
   ]
  },
  {
   "cell_type": "code",
   "execution_count": 5,
   "id": "88cf56bb",
   "metadata": {},
   "outputs": [
    {
     "name": "stdout",
     "output_type": "stream",
     "text": [
      "Data 5\n",
      "Data 10\n",
      "Data 15\n",
      "Data 20\n",
      "Data 25\n",
      "Data 30\n",
      "Data 35\n",
      "Data 40\n",
      "Data 45\n"
     ]
    }
   ],
   "source": [
    "for i in range(5,50,5):\n",
    "    print('Data',i)"
   ]
  },
  {
   "cell_type": "code",
   "execution_count": 3,
   "id": "09df9df0",
   "metadata": {},
   "outputs": [
    {
     "data": {
      "text/plain": [
       "[5, 87, 23, 46, 62, 84, 80, 45, 77, 33, 80]"
      ]
     },
     "execution_count": 3,
     "metadata": {},
     "output_type": "execute_result"
    }
   ],
   "source": [
    "j=[5,87,23,46,62,84,80,45,77,33,80]\n",
    "j"
   ]
  },
  {
   "cell_type": "code",
   "execution_count": 4,
   "id": "9f9c8458",
   "metadata": {},
   "outputs": [],
   "source": [
    "y=[]\n",
    "x=[]\n",
    "for i in range(len(j)):\n",
    "    if i%2==0:\n",
    "        x.append(j[i])\n",
    "    else:\n",
    "        y.append(j[i])"
   ]
  },
  {
   "cell_type": "code",
   "execution_count": 7,
   "id": "416e0035",
   "metadata": {},
   "outputs": [
    {
     "name": "stdout",
     "output_type": "stream",
     "text": [
      "5\n",
      "87\n",
      "23\n",
      "46\n",
      "62\n",
      "84\n",
      "80\n",
      "45\n",
      "77\n",
      "33\n",
      "80\n"
     ]
    }
   ],
   "source": [
    "y\n",
    "\n",
    "for i in j:\n",
    "    print(i)"
   ]
  },
  {
   "cell_type": "code",
   "execution_count": 6,
   "id": "c361e3c3",
   "metadata": {},
   "outputs": [
    {
     "data": {
      "text/plain": [
       "[5, 23, 62, 80, 77, 80]"
      ]
     },
     "execution_count": 6,
     "metadata": {},
     "output_type": "execute_result"
    }
   ],
   "source": [
    "x"
   ]
  },
  {
   "cell_type": "code",
   "execution_count": 4,
   "id": "7e4bea3c",
   "metadata": {},
   "outputs": [],
   "source": [
    "import numpy as np\n"
   ]
  },
  {
   "cell_type": "code",
   "execution_count": 5,
   "id": "bc009eed",
   "metadata": {},
   "outputs": [
    {
     "data": {
      "text/plain": [
       "array([10, 40, 50, 30, 70])"
      ]
     },
     "execution_count": 5,
     "metadata": {},
     "output_type": "execute_result"
    }
   ],
   "source": [
    "d=np.array([10,40,50,30,70])\n",
    "d"
   ]
  },
  {
   "cell_type": "code",
   "execution_count": 6,
   "id": "51369939",
   "metadata": {},
   "outputs": [
    {
     "data": {
      "text/plain": [
       "40.0"
      ]
     },
     "execution_count": 6,
     "metadata": {},
     "output_type": "execute_result"
    }
   ],
   "source": [
    "np.mean(d)"
   ]
  },
  {
   "cell_type": "code",
   "execution_count": 7,
   "id": "afdf1a97",
   "metadata": {},
   "outputs": [
    {
     "data": {
      "text/plain": [
       "40.0"
      ]
     },
     "execution_count": 7,
     "metadata": {},
     "output_type": "execute_result"
    }
   ],
   "source": [
    "np.median(d)"
   ]
  },
  {
   "cell_type": "code",
   "execution_count": 8,
   "id": "da31e0d0",
   "metadata": {},
   "outputs": [
    {
     "data": {
      "text/plain": [
       "400.0"
      ]
     },
     "execution_count": 8,
     "metadata": {},
     "output_type": "execute_result"
    }
   ],
   "source": [
    "np.var(d)"
   ]
  },
  {
   "cell_type": "code",
   "execution_count": 9,
   "id": "e629b368",
   "metadata": {},
   "outputs": [
    {
     "data": {
      "text/plain": [
       "20.0"
      ]
     },
     "execution_count": 9,
     "metadata": {},
     "output_type": "execute_result"
    }
   ],
   "source": [
    "np.std(d)"
   ]
  },
  {
   "cell_type": "code",
   "execution_count": 10,
   "id": "67f017a5",
   "metadata": {},
   "outputs": [
    {
     "data": {
      "text/plain": [
       "70"
      ]
     },
     "execution_count": 10,
     "metadata": {},
     "output_type": "execute_result"
    }
   ],
   "source": [
    "np.max(d)"
   ]
  },
  {
   "cell_type": "code",
   "execution_count": 11,
   "id": "7868741b",
   "metadata": {},
   "outputs": [
    {
     "data": {
      "text/plain": [
       "10"
      ]
     },
     "execution_count": 11,
     "metadata": {},
     "output_type": "execute_result"
    }
   ],
   "source": [
    "np.min(d)"
   ]
  },
  {
   "cell_type": "code",
   "execution_count": 12,
   "id": "693c8e80",
   "metadata": {},
   "outputs": [
    {
     "data": {
      "text/plain": [
       "30.0"
      ]
     },
     "execution_count": 12,
     "metadata": {},
     "output_type": "execute_result"
    }
   ],
   "source": [
    "np.quantile(d,0.25)"
   ]
  },
  {
   "cell_type": "code",
   "execution_count": 15,
   "id": "cfc8f3d5",
   "metadata": {},
   "outputs": [],
   "source": [
    "#Q1 = np.quantile(d,0.25)"
   ]
  },
  {
   "cell_type": "code",
   "execution_count": 21,
   "id": "ffd9f782",
   "metadata": {},
   "outputs": [],
   "source": [
    "#Q2 = np.quantile(d,0.5)"
   ]
  },
  {
   "cell_type": "code",
   "execution_count": 20,
   "id": "ca10ef14",
   "metadata": {},
   "outputs": [],
   "source": [
    "#Q3 = np.quantile(d,0.75)"
   ]
  },
  {
   "cell_type": "code",
   "execution_count": 13,
   "id": "197adf5d",
   "metadata": {},
   "outputs": [
    {
     "data": {
      "text/plain": [
       "0.22814931470888455"
      ]
     },
     "execution_count": 13,
     "metadata": {},
     "output_type": "execute_result"
    }
   ],
   "source": [
    "np.random.rand()"
   ]
  },
  {
   "cell_type": "code",
   "execution_count": 14,
   "id": "ff3ff277",
   "metadata": {},
   "outputs": [
    {
     "data": {
      "text/plain": [
       "array([9.16519081e-01, 2.41188107e-01, 5.13547142e-01, 8.86728654e-01,\n",
       "       6.99760926e-01, 4.72141039e-01, 6.94411196e-02, 7.14553999e-01,\n",
       "       5.34475235e-01, 6.60102732e-01, 6.23536080e-01, 2.72850300e-01,\n",
       "       6.64133897e-01, 1.28530934e-01, 4.19706385e-01, 9.07925959e-01,\n",
       "       3.59732014e-01, 3.52975232e-01, 6.05275416e-01, 9.07306563e-01,\n",
       "       1.87086413e-02, 6.26870887e-01, 1.98430953e-01, 9.12563148e-01,\n",
       "       5.57645828e-01, 4.69460857e-01, 6.96295313e-01, 7.08295337e-01,\n",
       "       5.10807872e-01, 1.71729792e-01, 8.21695686e-01, 2.26284950e-01,\n",
       "       6.17927338e-01, 6.13178623e-01, 5.14391865e-01, 3.65542025e-02,\n",
       "       5.48595062e-01, 5.61443708e-01, 4.80949861e-01, 1.10560078e-02,\n",
       "       8.31050459e-02, 3.05375801e-02, 7.17375499e-01, 8.39399048e-01,\n",
       "       7.89079272e-01, 6.20732263e-01, 3.28379296e-01, 1.83361551e-01,\n",
       "       7.04205762e-01, 7.27286205e-01, 1.95358046e-01, 5.51089601e-01,\n",
       "       8.44199661e-04, 7.75363940e-01, 3.49053435e-01, 8.36738903e-01,\n",
       "       4.23727257e-01, 8.76028922e-01, 8.58984229e-01, 2.14091885e-01,\n",
       "       6.07269905e-01, 5.63315039e-02, 9.09323777e-02, 7.46821831e-01,\n",
       "       6.04181323e-01, 2.53570305e-01, 4.22620285e-02, 9.12615385e-01,\n",
       "       8.35179316e-01, 5.23517656e-01, 9.78703763e-01, 5.55914039e-01,\n",
       "       6.77308654e-01, 1.43747084e-01, 9.33424507e-01, 9.16479928e-01,\n",
       "       3.51986142e-01, 4.64156355e-01, 9.27365086e-01, 6.64153037e-01,\n",
       "       8.47131323e-01, 7.39717019e-01, 4.16634533e-01, 8.88633154e-01,\n",
       "       9.87585612e-02, 1.96464945e-01, 5.91372150e-01, 2.69791501e-01,\n",
       "       6.42307051e-01, 9.08772215e-01, 1.94871204e-01, 3.38862444e-01,\n",
       "       8.35275805e-01, 1.44537586e-01, 9.01377912e-01, 7.11786035e-01,\n",
       "       8.14478861e-01, 4.92074258e-01, 7.71652684e-01, 1.95454758e-02])"
      ]
     },
     "execution_count": 14,
     "metadata": {},
     "output_type": "execute_result"
    }
   ],
   "source": [
    "r=np.random.rand(100)\n",
    "r"
   ]
  },
  {
   "cell_type": "raw",
   "id": "15b4521e",
   "metadata": {},
   "source": [
    "r.size"
   ]
  },
  {
   "cell_type": "code",
   "execution_count": 15,
   "id": "90269e3e",
   "metadata": {},
   "outputs": [
    {
     "data": {
      "text/plain": [
       "100"
      ]
     },
     "execution_count": 15,
     "metadata": {},
     "output_type": "execute_result"
    }
   ],
   "source": [
    "r.size"
   ]
  },
  {
   "cell_type": "code",
   "execution_count": 16,
   "id": "033ad459",
   "metadata": {},
   "outputs": [
    {
     "data": {
      "text/plain": [
       "(100,)"
      ]
     },
     "execution_count": 16,
     "metadata": {},
     "output_type": "execute_result"
    }
   ],
   "source": [
    "r.shape"
   ]
  },
  {
   "cell_type": "code",
   "execution_count": 17,
   "id": "276de7d6",
   "metadata": {},
   "outputs": [
    {
     "data": {
      "text/plain": [
       "1"
      ]
     },
     "execution_count": 17,
     "metadata": {},
     "output_type": "execute_result"
    }
   ],
   "source": [
    "r.ndim"
   ]
  },
  {
   "cell_type": "code",
   "execution_count": 18,
   "id": "cffb276c",
   "metadata": {},
   "outputs": [
    {
     "data": {
      "text/plain": [
       "array([[0.32133559, 0.66476022, 0.08683803, ..., 0.62487567, 0.76087899,\n",
       "        0.41780621],\n",
       "       [0.98260322, 0.64877563, 0.43478692, ..., 0.8945159 , 0.67319186,\n",
       "        0.08099059],\n",
       "       [0.59614754, 0.8706535 , 0.44369235, ..., 0.39270452, 0.23436568,\n",
       "        0.87307063],\n",
       "       ...,\n",
       "       [0.6042411 , 0.19385225, 0.43151261, ..., 0.46864316, 0.48340564,\n",
       "        0.21698066],\n",
       "       [0.9076727 , 0.93897539, 0.79760526, ..., 0.06568974, 0.87192742,\n",
       "        0.97705387],\n",
       "       [0.42412518, 0.90746759, 0.81923599, ..., 0.12078479, 0.52845652,\n",
       "        0.44269701]])"
      ]
     },
     "execution_count": 18,
     "metadata": {},
     "output_type": "execute_result"
    }
   ],
   "source": [
    "np.random.rand(100,14)"
   ]
  },
  {
   "cell_type": "code",
   "execution_count": 19,
   "id": "2ab5990e",
   "metadata": {},
   "outputs": [
    {
     "data": {
      "text/plain": [
       "array([[-1.22161343,  1.27233597,  0.86036803, -0.90366539],\n",
       "       [ 0.81064539, -1.84959736, -1.34190048,  0.83546004],\n",
       "       [-0.65458188, -0.41305616, -0.54016302,  0.52507674],\n",
       "       [-0.62517656,  0.54845622, -1.16405051, -0.21971042],\n",
       "       [ 1.62717531,  0.29643903,  0.38691612,  0.50209588],\n",
       "       [-0.89242169, -1.27676873, -0.53237251, -0.64585409],\n",
       "       [ 0.75102611, -0.23704011, -0.52068853, -1.64753928],\n",
       "       [-0.10701503, -0.6660043 , -0.80269567,  0.07090572],\n",
       "       [ 1.83042915, -2.17395693,  0.28627432,  1.09785382],\n",
       "       [-0.21406976, -1.9032628 ,  0.15998548,  0.40801341]])"
      ]
     },
     "execution_count": 19,
     "metadata": {},
     "output_type": "execute_result"
    }
   ],
   "source": [
    "np.random.randn(10,4)"
   ]
  },
  {
   "cell_type": "code",
   "execution_count": 20,
   "id": "be4a1047",
   "metadata": {},
   "outputs": [
    {
     "data": {
      "text/plain": [
       "array([[-0.12972381,  0.35530413, -0.60574777, ..., -1.26447148,\n",
       "         0.5264451 ,  1.3740245 ],\n",
       "       [ 0.3991449 ,  0.80736018,  0.24270109, ...,  0.04673415,\n",
       "        -0.31439242, -1.46722678],\n",
       "       [-2.16896182, -1.14260214,  0.37645334, ...,  1.0195262 ,\n",
       "         0.81292766,  0.73648788],\n",
       "       ...,\n",
       "       [-0.36580866, -1.70867648,  1.980675  , ...,  0.94522503,\n",
       "        -0.29299017,  0.8425507 ],\n",
       "       [-2.02683339,  0.04528675, -0.55828578, ..., -0.30253481,\n",
       "         0.61981303, -0.59256811],\n",
       "       [-0.86304347,  1.1136949 ,  0.39105061, ..., -0.43394833,\n",
       "         0.59468339, -1.31471391]])"
      ]
     },
     "execution_count": 20,
     "metadata": {},
     "output_type": "execute_result"
    }
   ],
   "source": [
    "np.random.randn(100,50)"
   ]
  },
  {
   "cell_type": "code",
   "execution_count": 21,
   "id": "7c0a36f9",
   "metadata": {},
   "outputs": [
    {
     "data": {
      "text/plain": [
       "39"
      ]
     },
     "execution_count": 21,
     "metadata": {},
     "output_type": "execute_result"
    }
   ],
   "source": [
    "np.random.randint(35,80)"
   ]
  },
  {
   "cell_type": "markdown",
   "id": "b7652698",
   "metadata": {},
   "source": [
    "# Day13"
   ]
  },
  {
   "cell_type": "code",
   "execution_count": 23,
   "id": "6069b7de",
   "metadata": {},
   "outputs": [],
   "source": [
    "import numpy as np"
   ]
  },
  {
   "cell_type": "code",
   "execution_count": 24,
   "id": "ce0878ce",
   "metadata": {},
   "outputs": [
    {
     "data": {
      "text/plain": [
       "[30, 20, 5, 8, 9]"
      ]
     },
     "execution_count": 24,
     "metadata": {},
     "output_type": "execute_result"
    }
   ],
   "source": [
    "h=[30,20,5,8,9]\n",
    "h"
   ]
  },
  {
   "cell_type": "code",
   "execution_count": 25,
   "id": "d1f136f1",
   "metadata": {},
   "outputs": [],
   "source": [
    "d=[]\n",
    "for i in h:\n",
    "    d.append(i+7)"
   ]
  },
  {
   "cell_type": "code",
   "execution_count": 26,
   "id": "80ca63f8",
   "metadata": {},
   "outputs": [
    {
     "data": {
      "text/plain": [
       "[37, 27, 12, 15, 16]"
      ]
     },
     "execution_count": 26,
     "metadata": {},
     "output_type": "execute_result"
    }
   ],
   "source": [
    "d"
   ]
  },
  {
   "cell_type": "code",
   "execution_count": 37,
   "id": "f6e15de5",
   "metadata": {},
   "outputs": [
    {
     "data": {
      "text/plain": [
       "(6, 2, 3, 9, 7, 5, 8)"
      ]
     },
     "execution_count": 37,
     "metadata": {},
     "output_type": "execute_result"
    }
   ],
   "source": [
    "s=(6,2,3,9,7,5,8)\n",
    "s"
   ]
  },
  {
   "cell_type": "code",
   "execution_count": 28,
   "id": "19184fca",
   "metadata": {},
   "outputs": [
    {
     "data": {
      "text/plain": [
       "tuple"
      ]
     },
     "execution_count": 28,
     "metadata": {},
     "output_type": "execute_result"
    }
   ],
   "source": [
    "type(s)"
   ]
  },
  {
   "cell_type": "code",
   "execution_count": 38,
   "id": "a1db893d",
   "metadata": {},
   "outputs": [],
   "source": [
    "y=list(s)\n",
    "k=[]\n",
    "for i in y:\n",
    "    k.append(i**2)\n",
    "s=tuple(k)\n",
    "    "
   ]
  },
  {
   "cell_type": "code",
   "execution_count": 39,
   "id": "973761a2",
   "metadata": {},
   "outputs": [
    {
     "data": {
      "text/plain": [
       "(36, 4, 9, 81, 49, 25, 64)"
      ]
     },
     "execution_count": 39,
     "metadata": {},
     "output_type": "execute_result"
    }
   ],
   "source": [
    "s"
   ]
  },
  {
   "cell_type": "code",
   "execution_count": 40,
   "id": "7bae1d84",
   "metadata": {},
   "outputs": [],
   "source": [
    "m=[]\n",
    "for i in s:\n",
    "    if i>50:\n",
    "        m.append(i)"
   ]
  },
  {
   "cell_type": "code",
   "execution_count": 41,
   "id": "d5382c32",
   "metadata": {},
   "outputs": [
    {
     "data": {
      "text/plain": [
       "[81, 64]"
      ]
     },
     "execution_count": 41,
     "metadata": {},
     "output_type": "execute_result"
    }
   ],
   "source": [
    "m"
   ]
  },
  {
   "cell_type": "code",
   "execution_count": 52,
   "id": "82d6e035",
   "metadata": {},
   "outputs": [],
   "source": [
    "index=[]\n",
    "for i in range(len(k)):\n",
    "    if k[i]>50:\n",
    "        index.append(i)\n",
    "        index\n",
    "        "
   ]
  },
  {
   "cell_type": "code",
   "execution_count": 54,
   "id": "16c0fc32",
   "metadata": {},
   "outputs": [
    {
     "data": {
      "text/plain": [
       "[3, 6]"
      ]
     },
     "execution_count": 54,
     "metadata": {},
     "output_type": "execute_result"
    }
   ],
   "source": [
    "index"
   ]
  },
  {
   "cell_type": "code",
   "execution_count": 42,
   "id": "ef1c1cab",
   "metadata": {},
   "outputs": [],
   "source": [
    "arr=np.array([20,50,30,70,80,40,36,54,23,90])"
   ]
  },
  {
   "cell_type": "code",
   "execution_count": 43,
   "id": "301e8fda",
   "metadata": {},
   "outputs": [
    {
     "data": {
      "text/plain": [
       "array([20, 50, 30, 70, 80, 40, 36, 54, 23, 90])"
      ]
     },
     "execution_count": 43,
     "metadata": {},
     "output_type": "execute_result"
    }
   ],
   "source": [
    "arr"
   ]
  },
  {
   "cell_type": "code",
   "execution_count": 44,
   "id": "f4f6b079",
   "metadata": {},
   "outputs": [
    {
     "data": {
      "text/plain": [
       "array([27, 57, 37, 77, 87, 47, 43, 61, 30, 97])"
      ]
     },
     "execution_count": 44,
     "metadata": {},
     "output_type": "execute_result"
    }
   ],
   "source": [
    "arr+7"
   ]
  },
  {
   "cell_type": "code",
   "execution_count": 46,
   "id": "9f236dd6",
   "metadata": {},
   "outputs": [],
   "source": [
    "t = arr+7"
   ]
  },
  {
   "cell_type": "code",
   "execution_count": 47,
   "id": "b1ca9119",
   "metadata": {},
   "outputs": [
    {
     "data": {
      "text/plain": [
       "array([27, 57, 37, 77, 87, 47, 43, 61, 30, 97])"
      ]
     },
     "execution_count": 47,
     "metadata": {},
     "output_type": "execute_result"
    }
   ],
   "source": [
    "t"
   ]
  },
  {
   "cell_type": "code",
   "execution_count": 48,
   "id": "13660521",
   "metadata": {},
   "outputs": [
    {
     "data": {
      "text/plain": [
       "array([100, 250, 150, 350, 400, 200, 180, 270, 115, 450])"
      ]
     },
     "execution_count": 48,
     "metadata": {},
     "output_type": "execute_result"
    }
   ],
   "source": [
    "arr*5"
   ]
  },
  {
   "cell_type": "code",
   "execution_count": 49,
   "id": "315b5cd4",
   "metadata": {},
   "outputs": [
    {
     "data": {
      "text/plain": [
       "array([70, 80, 54, 90])"
      ]
     },
     "execution_count": 49,
     "metadata": {},
     "output_type": "execute_result"
    }
   ],
   "source": [
    "arr[arr>50]"
   ]
  },
  {
   "cell_type": "code",
   "execution_count": 50,
   "id": "459250c3",
   "metadata": {},
   "outputs": [
    {
     "data": {
      "text/plain": [
       "array([False, False, False,  True,  True, False, False,  True, False,\n",
       "        True])"
      ]
     },
     "execution_count": 50,
     "metadata": {},
     "output_type": "execute_result"
    }
   ],
   "source": [
    "arr>50"
   ]
  },
  {
   "cell_type": "markdown",
   "id": "f3099db8",
   "metadata": {},
   "source": [
    "# Day14"
   ]
  },
  {
   "cell_type": "code",
   "execution_count": 10,
   "id": "32bd54f7",
   "metadata": {},
   "outputs": [],
   "source": [
    "import numpy as np"
   ]
  },
  {
   "cell_type": "code",
   "execution_count": 11,
   "id": "380312c3",
   "metadata": {},
   "outputs": [],
   "source": [
    "np.random.seed(94)\n",
    "b=np.random.randint(45,78,(7,8))\n"
   ]
  },
  {
   "cell_type": "code",
   "execution_count": 12,
   "id": "819fb704",
   "metadata": {
    "scrolled": true
   },
   "outputs": [
    {
     "data": {
      "text/plain": [
       "array([[63, 45, 48, 67, 74, 64, 61, 53],\n",
       "       [61, 59, 55, 77, 69, 69, 48, 60],\n",
       "       [71, 56, 51, 58, 59, 47, 68, 77],\n",
       "       [46, 45, 52, 74, 65, 53, 60, 55],\n",
       "       [64, 72, 46, 69, 65, 75, 75, 51],\n",
       "       [75, 67, 53, 77, 60, 67, 67, 47],\n",
       "       [75, 54, 74, 69, 54, 64, 52, 61]])"
      ]
     },
     "execution_count": 12,
     "metadata": {},
     "output_type": "execute_result"
    }
   ],
   "source": [
    "b"
   ]
  },
  {
   "cell_type": "code",
   "execution_count": 18,
   "id": "1d2420a2",
   "metadata": {},
   "outputs": [
    {
     "data": {
      "text/plain": [
       "array([56, 51, 58, 59, 47])"
      ]
     },
     "execution_count": 18,
     "metadata": {},
     "output_type": "execute_result"
    }
   ],
   "source": [
    "b[2,1:6]"
   ]
  },
  {
   "cell_type": "code",
   "execution_count": 20,
   "id": "8f8a3333",
   "metadata": {},
   "outputs": [
    {
     "ename": "NameError",
     "evalue": "name 'array' is not defined",
     "output_type": "error",
     "traceback": [
      "\u001b[1;31m---------------------------------------------------------------------------\u001b[0m",
      "\u001b[1;31mNameError\u001b[0m                                 Traceback (most recent call last)",
      "Cell \u001b[1;32mIn[20], line 1\u001b[0m\n\u001b[1;32m----> 1\u001b[0m array [ row_start : row\u001b[38;5;241m-\u001b[39mend : row\u001b[38;5;241m-\u001b[39mstep , col_start : col_end : col_step]\n\u001b[0;32m      2\u001b[0m b\n",
      "\u001b[1;31mNameError\u001b[0m: name 'array' is not defined"
     ]
    }
   ],
   "source": []
  },
  {
   "cell_type": "code",
   "execution_count": 13,
   "id": "ac22d1ee",
   "metadata": {},
   "outputs": [
    {
     "data": {
      "text/plain": [
       "array([71, 56, 51, 58, 59, 47, 68, 77])"
      ]
     },
     "execution_count": 13,
     "metadata": {},
     "output_type": "execute_result"
    }
   ],
   "source": [
    "b[2] "
   ]
  },
  {
   "cell_type": "code",
   "execution_count": 15,
   "id": "75d54ab8",
   "metadata": {},
   "outputs": [
    {
     "data": {
      "text/plain": [
       "array([53, 60, 77, 55, 51, 47, 61])"
      ]
     },
     "execution_count": 15,
     "metadata": {},
     "output_type": "execute_result"
    }
   ],
   "source": [
    "b[:,7]"
   ]
  },
  {
   "cell_type": "code",
   "execution_count": 16,
   "id": "c10d8114",
   "metadata": {},
   "outputs": [
    {
     "data": {
      "text/plain": [
       "array([67, 77, 58, 74, 69, 77, 69])"
      ]
     },
     "execution_count": 16,
     "metadata": {},
     "output_type": "execute_result"
    }
   ],
   "source": [
    "b[:,3]"
   ]
  },
  {
   "cell_type": "code",
   "execution_count": 17,
   "id": "214033fb",
   "metadata": {},
   "outputs": [
    {
     "data": {
      "text/plain": [
       "77"
      ]
     },
     "execution_count": 17,
     "metadata": {},
     "output_type": "execute_result"
    }
   ],
   "source": [
    "b[1,3]"
   ]
  },
  {
   "cell_type": "code",
   "execution_count": 21,
   "id": "bc42336e",
   "metadata": {},
   "outputs": [],
   "source": [
    "np.random.seed(94)\n",
    "b=np.random.randint(45,78,(7,8))\n"
   ]
  },
  {
   "cell_type": "code",
   "execution_count": 22,
   "id": "69075892",
   "metadata": {},
   "outputs": [
    {
     "data": {
      "text/plain": [
       "array([[63, 45, 48, 67, 74, 64, 61, 53],\n",
       "       [61, 59, 55, 77, 69, 69, 48, 60],\n",
       "       [71, 56, 51, 58, 59, 47, 68, 77],\n",
       "       [46, 45, 52, 74, 65, 53, 60, 55],\n",
       "       [64, 72, 46, 69, 65, 75, 75, 51],\n",
       "       [75, 67, 53, 77, 60, 67, 67, 47],\n",
       "       [75, 54, 74, 69, 54, 64, 52, 61]])"
      ]
     },
     "execution_count": 22,
     "metadata": {},
     "output_type": "execute_result"
    }
   ],
   "source": [
    "b"
   ]
  },
  {
   "cell_type": "code",
   "execution_count": 24,
   "id": "724bdb01",
   "metadata": {},
   "outputs": [
    {
     "data": {
      "text/plain": [
       "array([[59, 69, 60],\n",
       "       [45, 65, 55],\n",
       "       [67, 60, 47]])"
      ]
     },
     "execution_count": 24,
     "metadata": {},
     "output_type": "execute_result"
    }
   ],
   "source": [
    "b[1:6:2, 1:8:3]"
   ]
  },
  {
   "cell_type": "markdown",
   "id": "6d2f9d6c",
   "metadata": {},
   "source": [
    "\n",
    "# Day15"
   ]
  },
  {
   "cell_type": "code",
   "execution_count": 2,
   "id": "df7382f3",
   "metadata": {},
   "outputs": [],
   "source": [
    "import pandas as pd\n",
    "import seaborn as sns"
   ]
  },
  {
   "cell_type": "code",
   "execution_count": 3,
   "id": "a72fa357",
   "metadata": {},
   "outputs": [
    {
     "data": {
      "text/plain": [
       "['anagrams',\n",
       " 'anscombe',\n",
       " 'attention',\n",
       " 'brain_networks',\n",
       " 'car_crashes',\n",
       " 'diamonds',\n",
       " 'dots',\n",
       " 'dowjones',\n",
       " 'exercise',\n",
       " 'flights',\n",
       " 'fmri',\n",
       " 'geyser',\n",
       " 'glue',\n",
       " 'healthexp',\n",
       " 'iris',\n",
       " 'mpg',\n",
       " 'penguins',\n",
       " 'planets',\n",
       " 'seaice',\n",
       " 'taxis',\n",
       " 'tips',\n",
       " 'titanic',\n",
       " 'anagrams',\n",
       " 'anagrams',\n",
       " 'anscombe',\n",
       " 'anscombe',\n",
       " 'attention',\n",
       " 'attention',\n",
       " 'brain_networks',\n",
       " 'brain_networks',\n",
       " 'car_crashes',\n",
       " 'car_crashes',\n",
       " 'diamonds',\n",
       " 'diamonds',\n",
       " 'dots',\n",
       " 'dots',\n",
       " 'dowjones',\n",
       " 'dowjones',\n",
       " 'exercise',\n",
       " 'exercise',\n",
       " 'flights',\n",
       " 'flights',\n",
       " 'fmri',\n",
       " 'fmri',\n",
       " 'geyser',\n",
       " 'geyser',\n",
       " 'glue',\n",
       " 'glue',\n",
       " 'healthexp',\n",
       " 'healthexp',\n",
       " 'iris',\n",
       " 'iris',\n",
       " 'mpg',\n",
       " 'mpg',\n",
       " 'penguins',\n",
       " 'penguins',\n",
       " 'planets',\n",
       " 'planets',\n",
       " 'seaice',\n",
       " 'seaice',\n",
       " 'taxis',\n",
       " 'taxis',\n",
       " 'tips',\n",
       " 'tips',\n",
       " 'titanic',\n",
       " 'titanic',\n",
       " 'anagrams',\n",
       " 'anscombe',\n",
       " 'attention',\n",
       " 'brain_networks',\n",
       " 'car_crashes',\n",
       " 'diamonds',\n",
       " 'dots',\n",
       " 'dowjones',\n",
       " 'exercise',\n",
       " 'flights',\n",
       " 'fmri',\n",
       " 'geyser',\n",
       " 'glue',\n",
       " 'healthexp',\n",
       " 'iris',\n",
       " 'mpg',\n",
       " 'penguins',\n",
       " 'planets',\n",
       " 'seaice',\n",
       " 'taxis',\n",
       " 'tips',\n",
       " 'titanic']"
      ]
     },
     "execution_count": 3,
     "metadata": {},
     "output_type": "execute_result"
    }
   ],
   "source": [
    "sns.get_dataset_names()"
   ]
  },
  {
   "cell_type": "code",
   "execution_count": 4,
   "id": "b4c479c9",
   "metadata": {},
   "outputs": [],
   "source": [
    "k=[4,5,6,7,6,5,4,3]"
   ]
  },
  {
   "cell_type": "code",
   "execution_count": 5,
   "id": "89eaca5f",
   "metadata": {},
   "outputs": [
    {
     "data": {
      "text/plain": [
       "[4, 5, 6, 7, 6, 5, 4, 3]"
      ]
     },
     "execution_count": 5,
     "metadata": {},
     "output_type": "execute_result"
    }
   ],
   "source": [
    "k"
   ]
  },
  {
   "cell_type": "code",
   "execution_count": 7,
   "id": "be31b26d",
   "metadata": {},
   "outputs": [
    {
     "data": {
      "text/plain": [
       "0    4\n",
       "1    5\n",
       "2    6\n",
       "3    7\n",
       "4    6\n",
       "5    5\n",
       "6    4\n",
       "7    3\n",
       "dtype: int64"
      ]
     },
     "execution_count": 7,
     "metadata": {},
     "output_type": "execute_result"
    }
   ],
   "source": [
    "pd.Series(k)"
   ]
  },
  {
   "cell_type": "code",
   "execution_count": 8,
   "id": "53517460",
   "metadata": {},
   "outputs": [
    {
     "data": {
      "text/plain": [
       "array([35, 44, 33, 26, 30, 41, 47, 36, 48, 49, 48, 24, 35, 25, 43])"
      ]
     },
     "execution_count": 8,
     "metadata": {},
     "output_type": "execute_result"
    }
   ],
   "source": [
    "import numpy as np\n",
    "a=np.random.randint(20,50,15)\n",
    "a"
   ]
  },
  {
   "cell_type": "code",
   "execution_count": 10,
   "id": "7d22fc85",
   "metadata": {},
   "outputs": [
    {
     "data": {
      "text/plain": [
       "1"
      ]
     },
     "execution_count": 10,
     "metadata": {},
     "output_type": "execute_result"
    }
   ],
   "source": [
    "a.ndim"
   ]
  },
  {
   "cell_type": "code",
   "execution_count": 11,
   "id": "c3ca3dc8",
   "metadata": {},
   "outputs": [
    {
     "data": {
      "text/html": [
       "<div>\n",
       "<style scoped>\n",
       "    .dataframe tbody tr th:only-of-type {\n",
       "        vertical-align: middle;\n",
       "    }\n",
       "\n",
       "    .dataframe tbody tr th {\n",
       "        vertical-align: top;\n",
       "    }\n",
       "\n",
       "    .dataframe thead th {\n",
       "        text-align: right;\n",
       "    }\n",
       "</style>\n",
       "<table border=\"1\" class=\"dataframe\">\n",
       "  <thead>\n",
       "    <tr style=\"text-align: right;\">\n",
       "      <th></th>\n",
       "      <th>0</th>\n",
       "    </tr>\n",
       "  </thead>\n",
       "  <tbody>\n",
       "    <tr>\n",
       "      <th>0</th>\n",
       "      <td>35</td>\n",
       "    </tr>\n",
       "    <tr>\n",
       "      <th>1</th>\n",
       "      <td>44</td>\n",
       "    </tr>\n",
       "    <tr>\n",
       "      <th>2</th>\n",
       "      <td>33</td>\n",
       "    </tr>\n",
       "    <tr>\n",
       "      <th>3</th>\n",
       "      <td>26</td>\n",
       "    </tr>\n",
       "    <tr>\n",
       "      <th>4</th>\n",
       "      <td>30</td>\n",
       "    </tr>\n",
       "    <tr>\n",
       "      <th>5</th>\n",
       "      <td>41</td>\n",
       "    </tr>\n",
       "    <tr>\n",
       "      <th>6</th>\n",
       "      <td>47</td>\n",
       "    </tr>\n",
       "    <tr>\n",
       "      <th>7</th>\n",
       "      <td>36</td>\n",
       "    </tr>\n",
       "    <tr>\n",
       "      <th>8</th>\n",
       "      <td>48</td>\n",
       "    </tr>\n",
       "    <tr>\n",
       "      <th>9</th>\n",
       "      <td>49</td>\n",
       "    </tr>\n",
       "    <tr>\n",
       "      <th>10</th>\n",
       "      <td>48</td>\n",
       "    </tr>\n",
       "    <tr>\n",
       "      <th>11</th>\n",
       "      <td>24</td>\n",
       "    </tr>\n",
       "    <tr>\n",
       "      <th>12</th>\n",
       "      <td>35</td>\n",
       "    </tr>\n",
       "    <tr>\n",
       "      <th>13</th>\n",
       "      <td>25</td>\n",
       "    </tr>\n",
       "    <tr>\n",
       "      <th>14</th>\n",
       "      <td>43</td>\n",
       "    </tr>\n",
       "  </tbody>\n",
       "</table>\n",
       "</div>"
      ],
      "text/plain": [
       "     0\n",
       "0   35\n",
       "1   44\n",
       "2   33\n",
       "3   26\n",
       "4   30\n",
       "5   41\n",
       "6   47\n",
       "7   36\n",
       "8   48\n",
       "9   49\n",
       "10  48\n",
       "11  24\n",
       "12  35\n",
       "13  25\n",
       "14  43"
      ]
     },
     "execution_count": 11,
     "metadata": {},
     "output_type": "execute_result"
    }
   ],
   "source": [
    "pd.DataFrame(a)"
   ]
  },
  {
   "cell_type": "code",
   "execution_count": 24,
   "id": "6b068e87",
   "metadata": {},
   "outputs": [
    {
     "data": {
      "text/plain": [
       "0     35\n",
       "1     44\n",
       "2     33\n",
       "3     26\n",
       "4     30\n",
       "5     41\n",
       "6     47\n",
       "7     36\n",
       "8     48\n",
       "9     49\n",
       "10    48\n",
       "11    24\n",
       "12    35\n",
       "13    25\n",
       "14    43\n",
       "dtype: int32"
      ]
     },
     "execution_count": 24,
     "metadata": {},
     "output_type": "execute_result"
    }
   ],
   "source": [
    "pd.Series(a)"
   ]
  },
  {
   "cell_type": "code",
   "execution_count": 25,
   "id": "788b44be",
   "metadata": {},
   "outputs": [
    {
     "ename": "SyntaxError",
     "evalue": "cannot assign to function call (3266546335.py, line 1)",
     "output_type": "error",
     "traceback": [
      "\u001b[1;36m  Cell \u001b[1;32mIn[25], line 1\u001b[1;36m\u001b[0m\n\u001b[1;33m    df1 =pd.DataFrame(a,columns)=['roll no','age','marks','height'],index=['A001','A002']\u001b[0m\n\u001b[1;37m         ^\u001b[0m\n\u001b[1;31mSyntaxError\u001b[0m\u001b[1;31m:\u001b[0m cannot assign to function call\n"
     ]
    }
   ],
   "source": [
    "df1 =pd.DataFrame(a,columns)=['roll no','age','marks','height'],index=['A001','A002']"
   ]
  },
  {
   "cell_type": "code",
   "execution_count": 35,
   "id": "330a3925",
   "metadata": {},
   "outputs": [
    {
     "ename": "ValueError",
     "evalue": "'[taxis]' is not one of the example datasets.",
     "output_type": "error",
     "traceback": [
      "\u001b[1;31m---------------------------------------------------------------------------\u001b[0m",
      "\u001b[1;31mValueError\u001b[0m                                Traceback (most recent call last)",
      "Cell \u001b[1;32mIn[35], line 1\u001b[0m\n\u001b[1;32m----> 1\u001b[0m df\u001b[38;5;241m=\u001b[39msns\u001b[38;5;241m.\u001b[39mload_dataset(\u001b[38;5;124m'\u001b[39m\u001b[38;5;124m[taxis]\u001b[39m\u001b[38;5;124m'\u001b[39m)\n",
      "File \u001b[1;32m~\\anaconda3\\Lib\\site-packages\\seaborn\\utils.py:587\u001b[0m, in \u001b[0;36mload_dataset\u001b[1;34m(name, cache, data_home, **kws)\u001b[0m\n\u001b[0;32m    585\u001b[0m \u001b[38;5;28;01mif\u001b[39;00m \u001b[38;5;129;01mnot\u001b[39;00m os\u001b[38;5;241m.\u001b[39mpath\u001b[38;5;241m.\u001b[39mexists(cache_path):\n\u001b[0;32m    586\u001b[0m     \u001b[38;5;28;01mif\u001b[39;00m name \u001b[38;5;129;01mnot\u001b[39;00m \u001b[38;5;129;01min\u001b[39;00m get_dataset_names():\n\u001b[1;32m--> 587\u001b[0m         \u001b[38;5;28;01mraise\u001b[39;00m \u001b[38;5;167;01mValueError\u001b[39;00m(\u001b[38;5;124mf\u001b[39m\u001b[38;5;124m\"\u001b[39m\u001b[38;5;124m'\u001b[39m\u001b[38;5;132;01m{\u001b[39;00mname\u001b[38;5;132;01m}\u001b[39;00m\u001b[38;5;124m'\u001b[39m\u001b[38;5;124m is not one of the example datasets.\u001b[39m\u001b[38;5;124m\"\u001b[39m)\n\u001b[0;32m    588\u001b[0m     urlretrieve(url, cache_path)\n\u001b[0;32m    589\u001b[0m full_path \u001b[38;5;241m=\u001b[39m cache_path\n",
      "\u001b[1;31mValueError\u001b[0m: '[taxis]' is not one of the example datasets."
     ]
    }
   ],
   "source": [
    "df=sns.load_dataset('[taxis]')"
   ]
  },
  {
   "cell_type": "code",
   "execution_count": 36,
   "id": "ec5e5a97",
   "metadata": {},
   "outputs": [
    {
     "data": {
      "text/html": [
       "<div>\n",
       "<style scoped>\n",
       "    .dataframe tbody tr th:only-of-type {\n",
       "        vertical-align: middle;\n",
       "    }\n",
       "\n",
       "    .dataframe tbody tr th {\n",
       "        vertical-align: top;\n",
       "    }\n",
       "\n",
       "    .dataframe thead th {\n",
       "        text-align: right;\n",
       "    }\n",
       "</style>\n",
       "<table border=\"1\" class=\"dataframe\">\n",
       "  <thead>\n",
       "    <tr style=\"text-align: right;\">\n",
       "      <th></th>\n",
       "      <th>year</th>\n",
       "      <th>month</th>\n",
       "      <th>passengers</th>\n",
       "    </tr>\n",
       "  </thead>\n",
       "  <tbody>\n",
       "    <tr>\n",
       "      <th>0</th>\n",
       "      <td>1949</td>\n",
       "      <td>Jan</td>\n",
       "      <td>112</td>\n",
       "    </tr>\n",
       "    <tr>\n",
       "      <th>1</th>\n",
       "      <td>1949</td>\n",
       "      <td>Feb</td>\n",
       "      <td>118</td>\n",
       "    </tr>\n",
       "    <tr>\n",
       "      <th>2</th>\n",
       "      <td>1949</td>\n",
       "      <td>Mar</td>\n",
       "      <td>132</td>\n",
       "    </tr>\n",
       "    <tr>\n",
       "      <th>3</th>\n",
       "      <td>1949</td>\n",
       "      <td>Apr</td>\n",
       "      <td>129</td>\n",
       "    </tr>\n",
       "    <tr>\n",
       "      <th>4</th>\n",
       "      <td>1949</td>\n",
       "      <td>May</td>\n",
       "      <td>121</td>\n",
       "    </tr>\n",
       "    <tr>\n",
       "      <th>...</th>\n",
       "      <td>...</td>\n",
       "      <td>...</td>\n",
       "      <td>...</td>\n",
       "    </tr>\n",
       "    <tr>\n",
       "      <th>139</th>\n",
       "      <td>1960</td>\n",
       "      <td>Aug</td>\n",
       "      <td>606</td>\n",
       "    </tr>\n",
       "    <tr>\n",
       "      <th>140</th>\n",
       "      <td>1960</td>\n",
       "      <td>Sep</td>\n",
       "      <td>508</td>\n",
       "    </tr>\n",
       "    <tr>\n",
       "      <th>141</th>\n",
       "      <td>1960</td>\n",
       "      <td>Oct</td>\n",
       "      <td>461</td>\n",
       "    </tr>\n",
       "    <tr>\n",
       "      <th>142</th>\n",
       "      <td>1960</td>\n",
       "      <td>Nov</td>\n",
       "      <td>390</td>\n",
       "    </tr>\n",
       "    <tr>\n",
       "      <th>143</th>\n",
       "      <td>1960</td>\n",
       "      <td>Dec</td>\n",
       "      <td>432</td>\n",
       "    </tr>\n",
       "  </tbody>\n",
       "</table>\n",
       "<p>144 rows × 3 columns</p>\n",
       "</div>"
      ],
      "text/plain": [
       "     year month  passengers\n",
       "0    1949   Jan         112\n",
       "1    1949   Feb         118\n",
       "2    1949   Mar         132\n",
       "3    1949   Apr         129\n",
       "4    1949   May         121\n",
       "..    ...   ...         ...\n",
       "139  1960   Aug         606\n",
       "140  1960   Sep         508\n",
       "141  1960   Oct         461\n",
       "142  1960   Nov         390\n",
       "143  1960   Dec         432\n",
       "\n",
       "[144 rows x 3 columns]"
      ]
     },
     "execution_count": 36,
     "metadata": {},
     "output_type": "execute_result"
    }
   ],
   "source": [
    "df"
   ]
  },
  {
   "cell_type": "code",
   "execution_count": 33,
   "id": "d7a780f4",
   "metadata": {},
   "outputs": [
    {
     "ename": "ValueError",
     "evalue": "'[taxis]' is not one of the example datasets.",
     "output_type": "error",
     "traceback": [
      "\u001b[1;31m---------------------------------------------------------------------------\u001b[0m",
      "\u001b[1;31mValueError\u001b[0m                                Traceback (most recent call last)",
      "Cell \u001b[1;32mIn[33], line 1\u001b[0m\n\u001b[1;32m----> 1\u001b[0m df\u001b[38;5;241m=\u001b[39msns\u001b[38;5;241m.\u001b[39mload_dataset(\u001b[38;5;124m'\u001b[39m\u001b[38;5;124m[taxis]\u001b[39m\u001b[38;5;124m'\u001b[39m)\n",
      "File \u001b[1;32m~\\anaconda3\\Lib\\site-packages\\seaborn\\utils.py:587\u001b[0m, in \u001b[0;36mload_dataset\u001b[1;34m(name, cache, data_home, **kws)\u001b[0m\n\u001b[0;32m    585\u001b[0m \u001b[38;5;28;01mif\u001b[39;00m \u001b[38;5;129;01mnot\u001b[39;00m os\u001b[38;5;241m.\u001b[39mpath\u001b[38;5;241m.\u001b[39mexists(cache_path):\n\u001b[0;32m    586\u001b[0m     \u001b[38;5;28;01mif\u001b[39;00m name \u001b[38;5;129;01mnot\u001b[39;00m \u001b[38;5;129;01min\u001b[39;00m get_dataset_names():\n\u001b[1;32m--> 587\u001b[0m         \u001b[38;5;28;01mraise\u001b[39;00m \u001b[38;5;167;01mValueError\u001b[39;00m(\u001b[38;5;124mf\u001b[39m\u001b[38;5;124m\"\u001b[39m\u001b[38;5;124m'\u001b[39m\u001b[38;5;132;01m{\u001b[39;00mname\u001b[38;5;132;01m}\u001b[39;00m\u001b[38;5;124m'\u001b[39m\u001b[38;5;124m is not one of the example datasets.\u001b[39m\u001b[38;5;124m\"\u001b[39m)\n\u001b[0;32m    588\u001b[0m     urlretrieve(url, cache_path)\n\u001b[0;32m    589\u001b[0m full_path \u001b[38;5;241m=\u001b[39m cache_path\n",
      "\u001b[1;31mValueError\u001b[0m: '[taxis]' is not one of the example datasets."
     ]
    }
   ],
   "source": [
    "df=sns.load_dataset('[taxis]')"
   ]
  },
  {
   "cell_type": "code",
   "execution_count": 34,
   "id": "28f9bfd7",
   "metadata": {},
   "outputs": [
    {
     "data": {
      "text/html": [
       "<div>\n",
       "<style scoped>\n",
       "    .dataframe tbody tr th:only-of-type {\n",
       "        vertical-align: middle;\n",
       "    }\n",
       "\n",
       "    .dataframe tbody tr th {\n",
       "        vertical-align: top;\n",
       "    }\n",
       "\n",
       "    .dataframe thead th {\n",
       "        text-align: right;\n",
       "    }\n",
       "</style>\n",
       "<table border=\"1\" class=\"dataframe\">\n",
       "  <thead>\n",
       "    <tr style=\"text-align: right;\">\n",
       "      <th></th>\n",
       "      <th>year</th>\n",
       "      <th>month</th>\n",
       "      <th>passengers</th>\n",
       "    </tr>\n",
       "  </thead>\n",
       "  <tbody>\n",
       "    <tr>\n",
       "      <th>0</th>\n",
       "      <td>1949</td>\n",
       "      <td>Jan</td>\n",
       "      <td>112</td>\n",
       "    </tr>\n",
       "    <tr>\n",
       "      <th>1</th>\n",
       "      <td>1949</td>\n",
       "      <td>Feb</td>\n",
       "      <td>118</td>\n",
       "    </tr>\n",
       "    <tr>\n",
       "      <th>2</th>\n",
       "      <td>1949</td>\n",
       "      <td>Mar</td>\n",
       "      <td>132</td>\n",
       "    </tr>\n",
       "    <tr>\n",
       "      <th>3</th>\n",
       "      <td>1949</td>\n",
       "      <td>Apr</td>\n",
       "      <td>129</td>\n",
       "    </tr>\n",
       "    <tr>\n",
       "      <th>4</th>\n",
       "      <td>1949</td>\n",
       "      <td>May</td>\n",
       "      <td>121</td>\n",
       "    </tr>\n",
       "    <tr>\n",
       "      <th>...</th>\n",
       "      <td>...</td>\n",
       "      <td>...</td>\n",
       "      <td>...</td>\n",
       "    </tr>\n",
       "    <tr>\n",
       "      <th>139</th>\n",
       "      <td>1960</td>\n",
       "      <td>Aug</td>\n",
       "      <td>606</td>\n",
       "    </tr>\n",
       "    <tr>\n",
       "      <th>140</th>\n",
       "      <td>1960</td>\n",
       "      <td>Sep</td>\n",
       "      <td>508</td>\n",
       "    </tr>\n",
       "    <tr>\n",
       "      <th>141</th>\n",
       "      <td>1960</td>\n",
       "      <td>Oct</td>\n",
       "      <td>461</td>\n",
       "    </tr>\n",
       "    <tr>\n",
       "      <th>142</th>\n",
       "      <td>1960</td>\n",
       "      <td>Nov</td>\n",
       "      <td>390</td>\n",
       "    </tr>\n",
       "    <tr>\n",
       "      <th>143</th>\n",
       "      <td>1960</td>\n",
       "      <td>Dec</td>\n",
       "      <td>432</td>\n",
       "    </tr>\n",
       "  </tbody>\n",
       "</table>\n",
       "<p>144 rows × 3 columns</p>\n",
       "</div>"
      ],
      "text/plain": [
       "     year month  passengers\n",
       "0    1949   Jan         112\n",
       "1    1949   Feb         118\n",
       "2    1949   Mar         132\n",
       "3    1949   Apr         129\n",
       "4    1949   May         121\n",
       "..    ...   ...         ...\n",
       "139  1960   Aug         606\n",
       "140  1960   Sep         508\n",
       "141  1960   Oct         461\n",
       "142  1960   Nov         390\n",
       "143  1960   Dec         432\n",
       "\n",
       "[144 rows x 3 columns]"
      ]
     },
     "execution_count": 34,
     "metadata": {},
     "output_type": "execute_result"
    }
   ],
   "source": [
    "df"
   ]
  },
  {
   "cell_type": "code",
   "execution_count": null,
   "id": "41f51063",
   "metadata": {},
   "outputs": [],
   "source": []
  },
  {
   "cell_type": "markdown",
   "id": "4e0f780d",
   "metadata": {},
   "source": [
    "# Day-15\n"
   ]
  },
  {
   "cell_type": "markdown",
   "id": "68a67d91",
   "metadata": {},
   "source": []
  },
  {
   "cell_type": "code",
   "execution_count": 7,
   "id": "a0023fcc",
   "metadata": {},
   "outputs": [],
   "source": [
    "import pandas as pd\n",
    "import numpy as np\n",
    "import seaborn as sns\n",
    "import matplotlib.pyplot as plt\n",
    "\n"
   ]
  },
  {
   "cell_type": "code",
   "execution_count": 8,
   "id": "3110c980",
   "metadata": {},
   "outputs": [
    {
     "data": {
      "text/html": [
       "<div>\n",
       "<style scoped>\n",
       "    .dataframe tbody tr th:only-of-type {\n",
       "        vertical-align: middle;\n",
       "    }\n",
       "\n",
       "    .dataframe tbody tr th {\n",
       "        vertical-align: top;\n",
       "    }\n",
       "\n",
       "    .dataframe thead th {\n",
       "        text-align: right;\n",
       "    }\n",
       "</style>\n",
       "<table border=\"1\" class=\"dataframe\">\n",
       "  <thead>\n",
       "    <tr style=\"text-align: right;\">\n",
       "      <th></th>\n",
       "      <th>pickup</th>\n",
       "      <th>dropoff</th>\n",
       "      <th>passengers</th>\n",
       "      <th>distance</th>\n",
       "      <th>fare</th>\n",
       "      <th>tip</th>\n",
       "      <th>tolls</th>\n",
       "      <th>total</th>\n",
       "      <th>color</th>\n",
       "      <th>payment</th>\n",
       "      <th>pickup_zone</th>\n",
       "      <th>dropoff_zone</th>\n",
       "      <th>pickup_borough</th>\n",
       "      <th>dropoff_borough</th>\n",
       "    </tr>\n",
       "  </thead>\n",
       "  <tbody>\n",
       "    <tr>\n",
       "      <th>0</th>\n",
       "      <td>2019-03-23 20:21:09</td>\n",
       "      <td>2019-03-23 20:27:24</td>\n",
       "      <td>1</td>\n",
       "      <td>1.60</td>\n",
       "      <td>7.0</td>\n",
       "      <td>2.15</td>\n",
       "      <td>0.0</td>\n",
       "      <td>12.95</td>\n",
       "      <td>yellow</td>\n",
       "      <td>credit card</td>\n",
       "      <td>Lenox Hill West</td>\n",
       "      <td>UN/Turtle Bay South</td>\n",
       "      <td>Manhattan</td>\n",
       "      <td>Manhattan</td>\n",
       "    </tr>\n",
       "    <tr>\n",
       "      <th>1</th>\n",
       "      <td>2019-03-04 16:11:55</td>\n",
       "      <td>2019-03-04 16:19:00</td>\n",
       "      <td>1</td>\n",
       "      <td>0.79</td>\n",
       "      <td>5.0</td>\n",
       "      <td>0.00</td>\n",
       "      <td>0.0</td>\n",
       "      <td>9.30</td>\n",
       "      <td>yellow</td>\n",
       "      <td>cash</td>\n",
       "      <td>Upper West Side South</td>\n",
       "      <td>Upper West Side South</td>\n",
       "      <td>Manhattan</td>\n",
       "      <td>Manhattan</td>\n",
       "    </tr>\n",
       "    <tr>\n",
       "      <th>2</th>\n",
       "      <td>2019-03-27 17:53:01</td>\n",
       "      <td>2019-03-27 18:00:25</td>\n",
       "      <td>1</td>\n",
       "      <td>1.37</td>\n",
       "      <td>7.5</td>\n",
       "      <td>2.36</td>\n",
       "      <td>0.0</td>\n",
       "      <td>14.16</td>\n",
       "      <td>yellow</td>\n",
       "      <td>credit card</td>\n",
       "      <td>Alphabet City</td>\n",
       "      <td>West Village</td>\n",
       "      <td>Manhattan</td>\n",
       "      <td>Manhattan</td>\n",
       "    </tr>\n",
       "    <tr>\n",
       "      <th>3</th>\n",
       "      <td>2019-03-10 01:23:59</td>\n",
       "      <td>2019-03-10 01:49:51</td>\n",
       "      <td>1</td>\n",
       "      <td>7.70</td>\n",
       "      <td>27.0</td>\n",
       "      <td>6.15</td>\n",
       "      <td>0.0</td>\n",
       "      <td>36.95</td>\n",
       "      <td>yellow</td>\n",
       "      <td>credit card</td>\n",
       "      <td>Hudson Sq</td>\n",
       "      <td>Yorkville West</td>\n",
       "      <td>Manhattan</td>\n",
       "      <td>Manhattan</td>\n",
       "    </tr>\n",
       "    <tr>\n",
       "      <th>4</th>\n",
       "      <td>2019-03-30 13:27:42</td>\n",
       "      <td>2019-03-30 13:37:14</td>\n",
       "      <td>3</td>\n",
       "      <td>2.16</td>\n",
       "      <td>9.0</td>\n",
       "      <td>1.10</td>\n",
       "      <td>0.0</td>\n",
       "      <td>13.40</td>\n",
       "      <td>yellow</td>\n",
       "      <td>credit card</td>\n",
       "      <td>Midtown East</td>\n",
       "      <td>Yorkville West</td>\n",
       "      <td>Manhattan</td>\n",
       "      <td>Manhattan</td>\n",
       "    </tr>\n",
       "    <tr>\n",
       "      <th>...</th>\n",
       "      <td>...</td>\n",
       "      <td>...</td>\n",
       "      <td>...</td>\n",
       "      <td>...</td>\n",
       "      <td>...</td>\n",
       "      <td>...</td>\n",
       "      <td>...</td>\n",
       "      <td>...</td>\n",
       "      <td>...</td>\n",
       "      <td>...</td>\n",
       "      <td>...</td>\n",
       "      <td>...</td>\n",
       "      <td>...</td>\n",
       "      <td>...</td>\n",
       "    </tr>\n",
       "    <tr>\n",
       "      <th>6428</th>\n",
       "      <td>2019-03-31 09:51:53</td>\n",
       "      <td>2019-03-31 09:55:27</td>\n",
       "      <td>1</td>\n",
       "      <td>0.75</td>\n",
       "      <td>4.5</td>\n",
       "      <td>1.06</td>\n",
       "      <td>0.0</td>\n",
       "      <td>6.36</td>\n",
       "      <td>green</td>\n",
       "      <td>credit card</td>\n",
       "      <td>East Harlem North</td>\n",
       "      <td>Central Harlem North</td>\n",
       "      <td>Manhattan</td>\n",
       "      <td>Manhattan</td>\n",
       "    </tr>\n",
       "    <tr>\n",
       "      <th>6429</th>\n",
       "      <td>2019-03-31 17:38:00</td>\n",
       "      <td>2019-03-31 18:34:23</td>\n",
       "      <td>1</td>\n",
       "      <td>18.74</td>\n",
       "      <td>58.0</td>\n",
       "      <td>0.00</td>\n",
       "      <td>0.0</td>\n",
       "      <td>58.80</td>\n",
       "      <td>green</td>\n",
       "      <td>credit card</td>\n",
       "      <td>Jamaica</td>\n",
       "      <td>East Concourse/Concourse Village</td>\n",
       "      <td>Queens</td>\n",
       "      <td>Bronx</td>\n",
       "    </tr>\n",
       "    <tr>\n",
       "      <th>6430</th>\n",
       "      <td>2019-03-23 22:55:18</td>\n",
       "      <td>2019-03-23 23:14:25</td>\n",
       "      <td>1</td>\n",
       "      <td>4.14</td>\n",
       "      <td>16.0</td>\n",
       "      <td>0.00</td>\n",
       "      <td>0.0</td>\n",
       "      <td>17.30</td>\n",
       "      <td>green</td>\n",
       "      <td>cash</td>\n",
       "      <td>Crown Heights North</td>\n",
       "      <td>Bushwick North</td>\n",
       "      <td>Brooklyn</td>\n",
       "      <td>Brooklyn</td>\n",
       "    </tr>\n",
       "    <tr>\n",
       "      <th>6431</th>\n",
       "      <td>2019-03-04 10:09:25</td>\n",
       "      <td>2019-03-04 10:14:29</td>\n",
       "      <td>1</td>\n",
       "      <td>1.12</td>\n",
       "      <td>6.0</td>\n",
       "      <td>0.00</td>\n",
       "      <td>0.0</td>\n",
       "      <td>6.80</td>\n",
       "      <td>green</td>\n",
       "      <td>credit card</td>\n",
       "      <td>East New York</td>\n",
       "      <td>East Flatbush/Remsen Village</td>\n",
       "      <td>Brooklyn</td>\n",
       "      <td>Brooklyn</td>\n",
       "    </tr>\n",
       "    <tr>\n",
       "      <th>6432</th>\n",
       "      <td>2019-03-13 19:31:22</td>\n",
       "      <td>2019-03-13 19:48:02</td>\n",
       "      <td>1</td>\n",
       "      <td>3.85</td>\n",
       "      <td>15.0</td>\n",
       "      <td>3.36</td>\n",
       "      <td>0.0</td>\n",
       "      <td>20.16</td>\n",
       "      <td>green</td>\n",
       "      <td>credit card</td>\n",
       "      <td>Boerum Hill</td>\n",
       "      <td>Windsor Terrace</td>\n",
       "      <td>Brooklyn</td>\n",
       "      <td>Brooklyn</td>\n",
       "    </tr>\n",
       "  </tbody>\n",
       "</table>\n",
       "<p>6433 rows × 14 columns</p>\n",
       "</div>"
      ],
      "text/plain": [
       "                  pickup             dropoff  passengers  distance  fare  \\\n",
       "0    2019-03-23 20:21:09 2019-03-23 20:27:24           1      1.60   7.0   \n",
       "1    2019-03-04 16:11:55 2019-03-04 16:19:00           1      0.79   5.0   \n",
       "2    2019-03-27 17:53:01 2019-03-27 18:00:25           1      1.37   7.5   \n",
       "3    2019-03-10 01:23:59 2019-03-10 01:49:51           1      7.70  27.0   \n",
       "4    2019-03-30 13:27:42 2019-03-30 13:37:14           3      2.16   9.0   \n",
       "...                  ...                 ...         ...       ...   ...   \n",
       "6428 2019-03-31 09:51:53 2019-03-31 09:55:27           1      0.75   4.5   \n",
       "6429 2019-03-31 17:38:00 2019-03-31 18:34:23           1     18.74  58.0   \n",
       "6430 2019-03-23 22:55:18 2019-03-23 23:14:25           1      4.14  16.0   \n",
       "6431 2019-03-04 10:09:25 2019-03-04 10:14:29           1      1.12   6.0   \n",
       "6432 2019-03-13 19:31:22 2019-03-13 19:48:02           1      3.85  15.0   \n",
       "\n",
       "       tip  tolls  total   color      payment            pickup_zone  \\\n",
       "0     2.15    0.0  12.95  yellow  credit card        Lenox Hill West   \n",
       "1     0.00    0.0   9.30  yellow         cash  Upper West Side South   \n",
       "2     2.36    0.0  14.16  yellow  credit card          Alphabet City   \n",
       "3     6.15    0.0  36.95  yellow  credit card              Hudson Sq   \n",
       "4     1.10    0.0  13.40  yellow  credit card           Midtown East   \n",
       "...    ...    ...    ...     ...          ...                    ...   \n",
       "6428  1.06    0.0   6.36   green  credit card      East Harlem North   \n",
       "6429  0.00    0.0  58.80   green  credit card                Jamaica   \n",
       "6430  0.00    0.0  17.30   green         cash    Crown Heights North   \n",
       "6431  0.00    0.0   6.80   green  credit card          East New York   \n",
       "6432  3.36    0.0  20.16   green  credit card            Boerum Hill   \n",
       "\n",
       "                          dropoff_zone pickup_borough dropoff_borough  \n",
       "0                  UN/Turtle Bay South      Manhattan       Manhattan  \n",
       "1                Upper West Side South      Manhattan       Manhattan  \n",
       "2                         West Village      Manhattan       Manhattan  \n",
       "3                       Yorkville West      Manhattan       Manhattan  \n",
       "4                       Yorkville West      Manhattan       Manhattan  \n",
       "...                                ...            ...             ...  \n",
       "6428              Central Harlem North      Manhattan       Manhattan  \n",
       "6429  East Concourse/Concourse Village         Queens           Bronx  \n",
       "6430                    Bushwick North       Brooklyn        Brooklyn  \n",
       "6431      East Flatbush/Remsen Village       Brooklyn        Brooklyn  \n",
       "6432                   Windsor Terrace       Brooklyn        Brooklyn  \n",
       "\n",
       "[6433 rows x 14 columns]"
      ]
     },
     "execution_count": 8,
     "metadata": {},
     "output_type": "execute_result"
    }
   ],
   "source": [
    "df=sns.load_dataset('taxis')\n",
    "\n",
    "\n",
    "df"
   ]
  },
  {
   "cell_type": "code",
   "execution_count": 9,
   "id": "4cc11487",
   "metadata": {},
   "outputs": [
    {
     "data": {
      "image/png": "[encoded data removed]",
      "text/plain": [
       "<Figure size 640x480 with 1 Axes>"
      ]
     },
     "metadata": {},
     "output_type": "display_data"
    }
   ],
   "source": [
    "\n",
    "\n",
    "sns.barplot(x='color', y='total', data=df)\n",
    "plt.show()"
   ]
  },
  {
   "cell_type": "code",
   "execution_count": 10,
   "id": "48eb0c02",
   "metadata": {},
   "outputs": [
    {
     "data": {
      "text/html": [
       "<div>\n",
       "<style scoped>\n",
       "    .dataframe tbody tr th:only-of-type {\n",
       "        vertical-align: middle;\n",
       "    }\n",
       "\n",
       "    .dataframe tbody tr th {\n",
       "        vertical-align: top;\n",
       "    }\n",
       "\n",
       "    .dataframe thead th {\n",
       "        text-align: right;\n",
       "    }\n",
       "</style>\n",
       "<table border=\"1\" class=\"dataframe\">\n",
       "  <thead>\n",
       "    <tr style=\"text-align: right;\">\n",
       "      <th></th>\n",
       "      <th>pickup</th>\n",
       "      <th>dropoff</th>\n",
       "      <th>passengers</th>\n",
       "      <th>distance</th>\n",
       "      <th>fare</th>\n",
       "      <th>tip</th>\n",
       "      <th>tolls</th>\n",
       "      <th>total</th>\n",
       "      <th>color</th>\n",
       "      <th>payment</th>\n",
       "      <th>pickup_zone</th>\n",
       "      <th>dropoff_zone</th>\n",
       "      <th>pickup_borough</th>\n",
       "      <th>dropoff_borough</th>\n",
       "    </tr>\n",
       "  </thead>\n",
       "  <tbody>\n",
       "    <tr>\n",
       "      <th>4880</th>\n",
       "      <td>2019-03-07 21:51:01</td>\n",
       "      <td>2019-03-07 22:00:44</td>\n",
       "      <td>1</td>\n",
       "      <td>1.40</td>\n",
       "      <td>8.5</td>\n",
       "      <td>1.10</td>\n",
       "      <td>0.00</td>\n",
       "      <td>13.40</td>\n",
       "      <td>yellow</td>\n",
       "      <td>credit card</td>\n",
       "      <td>Flatiron</td>\n",
       "      <td>Murray Hill</td>\n",
       "      <td>Manhattan</td>\n",
       "      <td>Manhattan</td>\n",
       "    </tr>\n",
       "    <tr>\n",
       "      <th>2721</th>\n",
       "      <td>2019-03-11 04:56:26</td>\n",
       "      <td>2019-03-11 05:46:08</td>\n",
       "      <td>1</td>\n",
       "      <td>16.35</td>\n",
       "      <td>46.0</td>\n",
       "      <td>0.00</td>\n",
       "      <td>0.00</td>\n",
       "      <td>49.80</td>\n",
       "      <td>yellow</td>\n",
       "      <td>cash</td>\n",
       "      <td>East Chelsea</td>\n",
       "      <td>Norwood</td>\n",
       "      <td>Manhattan</td>\n",
       "      <td>Bronx</td>\n",
       "    </tr>\n",
       "    <tr>\n",
       "      <th>5515</th>\n",
       "      <td>2019-03-01 10:28:18</td>\n",
       "      <td>2019-03-01 10:38:14</td>\n",
       "      <td>1</td>\n",
       "      <td>0.83</td>\n",
       "      <td>7.5</td>\n",
       "      <td>0.00</td>\n",
       "      <td>0.00</td>\n",
       "      <td>8.30</td>\n",
       "      <td>green</td>\n",
       "      <td>cash</td>\n",
       "      <td>Cobble Hill</td>\n",
       "      <td>Brooklyn Heights</td>\n",
       "      <td>Brooklyn</td>\n",
       "      <td>Brooklyn</td>\n",
       "    </tr>\n",
       "    <tr>\n",
       "      <th>2306</th>\n",
       "      <td>2019-03-14 21:35:43</td>\n",
       "      <td>2019-03-14 21:48:29</td>\n",
       "      <td>1</td>\n",
       "      <td>1.90</td>\n",
       "      <td>10.0</td>\n",
       "      <td>0.00</td>\n",
       "      <td>0.00</td>\n",
       "      <td>13.80</td>\n",
       "      <td>yellow</td>\n",
       "      <td>cash</td>\n",
       "      <td>West Village</td>\n",
       "      <td>Kips Bay</td>\n",
       "      <td>Manhattan</td>\n",
       "      <td>Manhattan</td>\n",
       "    </tr>\n",
       "    <tr>\n",
       "      <th>4282</th>\n",
       "      <td>2019-03-19 19:00:56</td>\n",
       "      <td>2019-03-19 19:07:12</td>\n",
       "      <td>1</td>\n",
       "      <td>0.50</td>\n",
       "      <td>5.5</td>\n",
       "      <td>1.00</td>\n",
       "      <td>0.00</td>\n",
       "      <td>10.80</td>\n",
       "      <td>yellow</td>\n",
       "      <td>credit card</td>\n",
       "      <td>Midtown East</td>\n",
       "      <td>Upper East Side South</td>\n",
       "      <td>Manhattan</td>\n",
       "      <td>Manhattan</td>\n",
       "    </tr>\n",
       "    <tr>\n",
       "      <th>3312</th>\n",
       "      <td>2019-03-13 13:35:16</td>\n",
       "      <td>2019-03-13 14:09:39</td>\n",
       "      <td>2</td>\n",
       "      <td>11.20</td>\n",
       "      <td>36.0</td>\n",
       "      <td>11.25</td>\n",
       "      <td>5.76</td>\n",
       "      <td>56.31</td>\n",
       "      <td>yellow</td>\n",
       "      <td>credit card</td>\n",
       "      <td>LaGuardia Airport</td>\n",
       "      <td>Clinton East</td>\n",
       "      <td>Queens</td>\n",
       "      <td>Manhattan</td>\n",
       "    </tr>\n",
       "    <tr>\n",
       "      <th>930</th>\n",
       "      <td>2019-03-14 06:22:56</td>\n",
       "      <td>2019-03-14 06:25:51</td>\n",
       "      <td>1</td>\n",
       "      <td>0.70</td>\n",
       "      <td>4.5</td>\n",
       "      <td>1.06</td>\n",
       "      <td>0.00</td>\n",
       "      <td>6.36</td>\n",
       "      <td>yellow</td>\n",
       "      <td>credit card</td>\n",
       "      <td>Cobble Hill</td>\n",
       "      <td>Brooklyn Heights</td>\n",
       "      <td>Brooklyn</td>\n",
       "      <td>Brooklyn</td>\n",
       "    </tr>\n",
       "    <tr>\n",
       "      <th>499</th>\n",
       "      <td>2019-03-15 13:06:10</td>\n",
       "      <td>2019-03-15 13:30:26</td>\n",
       "      <td>1</td>\n",
       "      <td>8.40</td>\n",
       "      <td>27.5</td>\n",
       "      <td>6.15</td>\n",
       "      <td>0.00</td>\n",
       "      <td>36.95</td>\n",
       "      <td>yellow</td>\n",
       "      <td>credit card</td>\n",
       "      <td>Lenox Hill East</td>\n",
       "      <td>Fort Greene</td>\n",
       "      <td>Manhattan</td>\n",
       "      <td>Brooklyn</td>\n",
       "    </tr>\n",
       "    <tr>\n",
       "      <th>311</th>\n",
       "      <td>2019-03-22 19:16:34</td>\n",
       "      <td>2019-03-22 19:21:02</td>\n",
       "      <td>2</td>\n",
       "      <td>0.95</td>\n",
       "      <td>5.5</td>\n",
       "      <td>2.45</td>\n",
       "      <td>0.00</td>\n",
       "      <td>12.25</td>\n",
       "      <td>yellow</td>\n",
       "      <td>credit card</td>\n",
       "      <td>Lincoln Square East</td>\n",
       "      <td>Midtown North</td>\n",
       "      <td>Manhattan</td>\n",
       "      <td>Manhattan</td>\n",
       "    </tr>\n",
       "    <tr>\n",
       "      <th>2823</th>\n",
       "      <td>2019-03-06 20:02:37</td>\n",
       "      <td>2019-03-06 20:11:01</td>\n",
       "      <td>1</td>\n",
       "      <td>0.99</td>\n",
       "      <td>7.0</td>\n",
       "      <td>1.66</td>\n",
       "      <td>0.00</td>\n",
       "      <td>9.96</td>\n",
       "      <td>yellow</td>\n",
       "      <td>credit card</td>\n",
       "      <td>Boerum Hill</td>\n",
       "      <td>Downtown Brooklyn/MetroTech</td>\n",
       "      <td>Brooklyn</td>\n",
       "      <td>Brooklyn</td>\n",
       "    </tr>\n",
       "  </tbody>\n",
       "</table>\n",
       "</div>"
      ],
      "text/plain": [
       "                  pickup             dropoff  passengers  distance  fare  \\\n",
       "4880 2019-03-07 21:51:01 2019-03-07 22:00:44           1      1.40   8.5   \n",
       "2721 2019-03-11 04:56:26 2019-03-11 05:46:08           1     16.35  46.0   \n",
       "5515 2019-03-01 10:28:18 2019-03-01 10:38:14           1      0.83   7.5   \n",
       "2306 2019-03-14 21:35:43 2019-03-14 21:48:29           1      1.90  10.0   \n",
       "4282 2019-03-19 19:00:56 2019-03-19 19:07:12           1      0.50   5.5   \n",
       "3312 2019-03-13 13:35:16 2019-03-13 14:09:39           2     11.20  36.0   \n",
       "930  2019-03-14 06:22:56 2019-03-14 06:25:51           1      0.70   4.5   \n",
       "499  2019-03-15 13:06:10 2019-03-15 13:30:26           1      8.40  27.5   \n",
       "311  2019-03-22 19:16:34 2019-03-22 19:21:02           2      0.95   5.5   \n",
       "2823 2019-03-06 20:02:37 2019-03-06 20:11:01           1      0.99   7.0   \n",
       "\n",
       "        tip  tolls  total   color      payment          pickup_zone  \\\n",
       "4880   1.10   0.00  13.40  yellow  credit card             Flatiron   \n",
       "2721   0.00   0.00  49.80  yellow         cash         East Chelsea   \n",
       "5515   0.00   0.00   8.30   green         cash          Cobble Hill   \n",
       "2306   0.00   0.00  13.80  yellow         cash         West Village   \n",
       "4282   1.00   0.00  10.80  yellow  credit card         Midtown East   \n",
       "3312  11.25   5.76  56.31  yellow  credit card    LaGuardia Airport   \n",
       "930    1.06   0.00   6.36  yellow  credit card          Cobble Hill   \n",
       "499    6.15   0.00  36.95  yellow  credit card      Lenox Hill East   \n",
       "311    2.45   0.00  12.25  yellow  credit card  Lincoln Square East   \n",
       "2823   1.66   0.00   9.96  yellow  credit card          Boerum Hill   \n",
       "\n",
       "                     dropoff_zone pickup_borough dropoff_borough  \n",
       "4880                  Murray Hill      Manhattan       Manhattan  \n",
       "2721                      Norwood      Manhattan           Bronx  \n",
       "5515             Brooklyn Heights       Brooklyn        Brooklyn  \n",
       "2306                     Kips Bay      Manhattan       Manhattan  \n",
       "4282        Upper East Side South      Manhattan       Manhattan  \n",
       "3312                 Clinton East         Queens       Manhattan  \n",
       "930              Brooklyn Heights       Brooklyn        Brooklyn  \n",
       "499                   Fort Greene      Manhattan        Brooklyn  \n",
       "311                 Midtown North      Manhattan       Manhattan  \n",
       "2823  Downtown Brooklyn/MetroTech       Brooklyn        Brooklyn  "
      ]
     },
     "execution_count": 10,
     "metadata": {},
     "output_type": "execute_result"
    }
   ],
   "source": [
    "df.sample(10)"
   ]
  },
  {
   "cell_type": "code",
   "execution_count": 15,
   "id": "eadd1001",
   "metadata": {},
   "outputs": [
    {
     "data": {
      "text/html": [
       "<div>\n",
       "<style scoped>\n",
       "    .dataframe tbody tr th:only-of-type {\n",
       "        vertical-align: middle;\n",
       "    }\n",
       "\n",
       "    .dataframe tbody tr th {\n",
       "        vertical-align: top;\n",
       "    }\n",
       "\n",
       "    .dataframe thead th {\n",
       "        text-align: right;\n",
       "    }\n",
       "</style>\n",
       "<table border=\"1\" class=\"dataframe\">\n",
       "  <thead>\n",
       "    <tr style=\"text-align: right;\">\n",
       "      <th></th>\n",
       "      <th>pickup</th>\n",
       "      <th>dropoff</th>\n",
       "      <th>passengers</th>\n",
       "      <th>distance</th>\n",
       "      <th>fare</th>\n",
       "      <th>tip</th>\n",
       "      <th>tolls</th>\n",
       "      <th>total</th>\n",
       "      <th>color</th>\n",
       "      <th>payment</th>\n",
       "      <th>pickup_zone</th>\n",
       "      <th>dropoff_zone</th>\n",
       "      <th>pickup_borough</th>\n",
       "      <th>dropoff_borough</th>\n",
       "    </tr>\n",
       "  </thead>\n",
       "  <tbody>\n",
       "    <tr>\n",
       "      <th>0</th>\n",
       "      <td>2019-03-23 20:21:09</td>\n",
       "      <td>2019-03-23 20:27:24</td>\n",
       "      <td>1</td>\n",
       "      <td>1.60</td>\n",
       "      <td>7.0</td>\n",
       "      <td>2.15</td>\n",
       "      <td>0.0</td>\n",
       "      <td>12.95</td>\n",
       "      <td>yellow</td>\n",
       "      <td>credit card</td>\n",
       "      <td>Lenox Hill West</td>\n",
       "      <td>UN/Turtle Bay South</td>\n",
       "      <td>Manhattan</td>\n",
       "      <td>Manhattan</td>\n",
       "    </tr>\n",
       "    <tr>\n",
       "      <th>1</th>\n",
       "      <td>2019-03-04 16:11:55</td>\n",
       "      <td>2019-03-04 16:19:00</td>\n",
       "      <td>1</td>\n",
       "      <td>0.79</td>\n",
       "      <td>5.0</td>\n",
       "      <td>0.00</td>\n",
       "      <td>0.0</td>\n",
       "      <td>9.30</td>\n",
       "      <td>yellow</td>\n",
       "      <td>cash</td>\n",
       "      <td>Upper West Side South</td>\n",
       "      <td>Upper West Side South</td>\n",
       "      <td>Manhattan</td>\n",
       "      <td>Manhattan</td>\n",
       "    </tr>\n",
       "    <tr>\n",
       "      <th>2</th>\n",
       "      <td>2019-03-27 17:53:01</td>\n",
       "      <td>2019-03-27 18:00:25</td>\n",
       "      <td>1</td>\n",
       "      <td>1.37</td>\n",
       "      <td>7.5</td>\n",
       "      <td>2.36</td>\n",
       "      <td>0.0</td>\n",
       "      <td>14.16</td>\n",
       "      <td>yellow</td>\n",
       "      <td>credit card</td>\n",
       "      <td>Alphabet City</td>\n",
       "      <td>West Village</td>\n",
       "      <td>Manhattan</td>\n",
       "      <td>Manhattan</td>\n",
       "    </tr>\n",
       "    <tr>\n",
       "      <th>3</th>\n",
       "      <td>2019-03-10 01:23:59</td>\n",
       "      <td>2019-03-10 01:49:51</td>\n",
       "      <td>1</td>\n",
       "      <td>7.70</td>\n",
       "      <td>27.0</td>\n",
       "      <td>6.15</td>\n",
       "      <td>0.0</td>\n",
       "      <td>36.95</td>\n",
       "      <td>yellow</td>\n",
       "      <td>credit card</td>\n",
       "      <td>Hudson Sq</td>\n",
       "      <td>Yorkville West</td>\n",
       "      <td>Manhattan</td>\n",
       "      <td>Manhattan</td>\n",
       "    </tr>\n",
       "    <tr>\n",
       "      <th>4</th>\n",
       "      <td>2019-03-30 13:27:42</td>\n",
       "      <td>2019-03-30 13:37:14</td>\n",
       "      <td>3</td>\n",
       "      <td>2.16</td>\n",
       "      <td>9.0</td>\n",
       "      <td>1.10</td>\n",
       "      <td>0.0</td>\n",
       "      <td>13.40</td>\n",
       "      <td>yellow</td>\n",
       "      <td>credit card</td>\n",
       "      <td>Midtown East</td>\n",
       "      <td>Yorkville West</td>\n",
       "      <td>Manhattan</td>\n",
       "      <td>Manhattan</td>\n",
       "    </tr>\n",
       "    <tr>\n",
       "      <th>5</th>\n",
       "      <td>2019-03-11 10:37:23</td>\n",
       "      <td>2019-03-11 10:47:31</td>\n",
       "      <td>1</td>\n",
       "      <td>0.49</td>\n",
       "      <td>7.5</td>\n",
       "      <td>2.16</td>\n",
       "      <td>0.0</td>\n",
       "      <td>12.96</td>\n",
       "      <td>yellow</td>\n",
       "      <td>credit card</td>\n",
       "      <td>Times Sq/Theatre District</td>\n",
       "      <td>Midtown East</td>\n",
       "      <td>Manhattan</td>\n",
       "      <td>Manhattan</td>\n",
       "    </tr>\n",
       "    <tr>\n",
       "      <th>6</th>\n",
       "      <td>2019-03-26 21:07:31</td>\n",
       "      <td>2019-03-26 21:17:29</td>\n",
       "      <td>1</td>\n",
       "      <td>3.65</td>\n",
       "      <td>13.0</td>\n",
       "      <td>2.00</td>\n",
       "      <td>0.0</td>\n",
       "      <td>18.80</td>\n",
       "      <td>yellow</td>\n",
       "      <td>credit card</td>\n",
       "      <td>Battery Park City</td>\n",
       "      <td>Two Bridges/Seward Park</td>\n",
       "      <td>Manhattan</td>\n",
       "      <td>Manhattan</td>\n",
       "    </tr>\n",
       "    <tr>\n",
       "      <th>7</th>\n",
       "      <td>2019-03-22 12:47:13</td>\n",
       "      <td>2019-03-22 12:58:17</td>\n",
       "      <td>0</td>\n",
       "      <td>1.40</td>\n",
       "      <td>8.5</td>\n",
       "      <td>0.00</td>\n",
       "      <td>0.0</td>\n",
       "      <td>11.80</td>\n",
       "      <td>yellow</td>\n",
       "      <td>NaN</td>\n",
       "      <td>Murray Hill</td>\n",
       "      <td>Flatiron</td>\n",
       "      <td>Manhattan</td>\n",
       "      <td>Manhattan</td>\n",
       "    </tr>\n",
       "    <tr>\n",
       "      <th>8</th>\n",
       "      <td>2019-03-23 11:48:50</td>\n",
       "      <td>2019-03-23 12:06:14</td>\n",
       "      <td>1</td>\n",
       "      <td>3.63</td>\n",
       "      <td>15.0</td>\n",
       "      <td>1.00</td>\n",
       "      <td>0.0</td>\n",
       "      <td>19.30</td>\n",
       "      <td>yellow</td>\n",
       "      <td>credit card</td>\n",
       "      <td>East Harlem South</td>\n",
       "      <td>Midtown Center</td>\n",
       "      <td>Manhattan</td>\n",
       "      <td>Manhattan</td>\n",
       "    </tr>\n",
       "    <tr>\n",
       "      <th>9</th>\n",
       "      <td>2019-03-08 16:18:37</td>\n",
       "      <td>2019-03-08 16:26:57</td>\n",
       "      <td>1</td>\n",
       "      <td>1.52</td>\n",
       "      <td>8.0</td>\n",
       "      <td>1.00</td>\n",
       "      <td>0.0</td>\n",
       "      <td>13.30</td>\n",
       "      <td>yellow</td>\n",
       "      <td>credit card</td>\n",
       "      <td>Lincoln Square East</td>\n",
       "      <td>Central Park</td>\n",
       "      <td>Manhattan</td>\n",
       "      <td>Manhattan</td>\n",
       "    </tr>\n",
       "    <tr>\n",
       "      <th>10</th>\n",
       "      <td>2019-03-16 10:02:25</td>\n",
       "      <td>2019-03-16 10:22:29</td>\n",
       "      <td>1</td>\n",
       "      <td>3.90</td>\n",
       "      <td>17.0</td>\n",
       "      <td>0.00</td>\n",
       "      <td>0.0</td>\n",
       "      <td>17.80</td>\n",
       "      <td>yellow</td>\n",
       "      <td>cash</td>\n",
       "      <td>LaGuardia Airport</td>\n",
       "      <td>Astoria</td>\n",
       "      <td>Queens</td>\n",
       "      <td>Queens</td>\n",
       "    </tr>\n",
       "    <tr>\n",
       "      <th>11</th>\n",
       "      <td>2019-03-20 19:39:42</td>\n",
       "      <td>2019-03-20 19:45:36</td>\n",
       "      <td>1</td>\n",
       "      <td>1.53</td>\n",
       "      <td>6.5</td>\n",
       "      <td>2.16</td>\n",
       "      <td>0.0</td>\n",
       "      <td>12.96</td>\n",
       "      <td>yellow</td>\n",
       "      <td>credit card</td>\n",
       "      <td>Upper West Side South</td>\n",
       "      <td>Manhattan Valley</td>\n",
       "      <td>Manhattan</td>\n",
       "      <td>Manhattan</td>\n",
       "    </tr>\n",
       "    <tr>\n",
       "      <th>12</th>\n",
       "      <td>2019-03-18 21:27:14</td>\n",
       "      <td>2019-03-18 21:34:16</td>\n",
       "      <td>1</td>\n",
       "      <td>1.05</td>\n",
       "      <td>6.5</td>\n",
       "      <td>1.00</td>\n",
       "      <td>0.0</td>\n",
       "      <td>11.30</td>\n",
       "      <td>yellow</td>\n",
       "      <td>credit card</td>\n",
       "      <td>Murray Hill</td>\n",
       "      <td>Midtown Center</td>\n",
       "      <td>Manhattan</td>\n",
       "      <td>Manhattan</td>\n",
       "    </tr>\n",
       "    <tr>\n",
       "      <th>13</th>\n",
       "      <td>2019-03-19 07:55:25</td>\n",
       "      <td>2019-03-19 08:09:17</td>\n",
       "      <td>1</td>\n",
       "      <td>1.75</td>\n",
       "      <td>10.5</td>\n",
       "      <td>0.00</td>\n",
       "      <td>0.0</td>\n",
       "      <td>13.80</td>\n",
       "      <td>yellow</td>\n",
       "      <td>cash</td>\n",
       "      <td>Lincoln Square West</td>\n",
       "      <td>Times Sq/Theatre District</td>\n",
       "      <td>Manhattan</td>\n",
       "      <td>Manhattan</td>\n",
       "    </tr>\n",
       "    <tr>\n",
       "      <th>14</th>\n",
       "      <td>2019-03-27 12:13:34</td>\n",
       "      <td>2019-03-27 12:25:48</td>\n",
       "      <td>0</td>\n",
       "      <td>2.90</td>\n",
       "      <td>11.5</td>\n",
       "      <td>0.00</td>\n",
       "      <td>0.0</td>\n",
       "      <td>14.80</td>\n",
       "      <td>yellow</td>\n",
       "      <td>cash</td>\n",
       "      <td>Financial District North</td>\n",
       "      <td>Two Bridges/Seward Park</td>\n",
       "      <td>Manhattan</td>\n",
       "      <td>Manhattan</td>\n",
       "    </tr>\n",
       "  </tbody>\n",
       "</table>\n",
       "</div>"
      ],
      "text/plain": [
       "                pickup             dropoff  passengers  distance  fare   tip  \\\n",
       "0  2019-03-23 20:21:09 2019-03-23 20:27:24           1      1.60   7.0  2.15   \n",
       "1  2019-03-04 16:11:55 2019-03-04 16:19:00           1      0.79   5.0  0.00   \n",
       "2  2019-03-27 17:53:01 2019-03-27 18:00:25           1      1.37   7.5  2.36   \n",
       "3  2019-03-10 01:23:59 2019-03-10 01:49:51           1      7.70  27.0  6.15   \n",
       "4  2019-03-30 13:27:42 2019-03-30 13:37:14           3      2.16   9.0  1.10   \n",
       "5  2019-03-11 10:37:23 2019-03-11 10:47:31           1      0.49   7.5  2.16   \n",
       "6  2019-03-26 21:07:31 2019-03-26 21:17:29           1      3.65  13.0  2.00   \n",
       "7  2019-03-22 12:47:13 2019-03-22 12:58:17           0      1.40   8.5  0.00   \n",
       "8  2019-03-23 11:48:50 2019-03-23 12:06:14           1      3.63  15.0  1.00   \n",
       "9  2019-03-08 16:18:37 2019-03-08 16:26:57           1      1.52   8.0  1.00   \n",
       "10 2019-03-16 10:02:25 2019-03-16 10:22:29           1      3.90  17.0  0.00   \n",
       "11 2019-03-20 19:39:42 2019-03-20 19:45:36           1      1.53   6.5  2.16   \n",
       "12 2019-03-18 21:27:14 2019-03-18 21:34:16           1      1.05   6.5  1.00   \n",
       "13 2019-03-19 07:55:25 2019-03-19 08:09:17           1      1.75  10.5  0.00   \n",
       "14 2019-03-27 12:13:34 2019-03-27 12:25:48           0      2.90  11.5  0.00   \n",
       "\n",
       "    tolls  total   color      payment                pickup_zone  \\\n",
       "0     0.0  12.95  yellow  credit card            Lenox Hill West   \n",
       "1     0.0   9.30  yellow         cash      Upper West Side South   \n",
       "2     0.0  14.16  yellow  credit card              Alphabet City   \n",
       "3     0.0  36.95  yellow  credit card                  Hudson Sq   \n",
       "4     0.0  13.40  yellow  credit card               Midtown East   \n",
       "5     0.0  12.96  yellow  credit card  Times Sq/Theatre District   \n",
       "6     0.0  18.80  yellow  credit card          Battery Park City   \n",
       "7     0.0  11.80  yellow          NaN                Murray Hill   \n",
       "8     0.0  19.30  yellow  credit card          East Harlem South   \n",
       "9     0.0  13.30  yellow  credit card        Lincoln Square East   \n",
       "10    0.0  17.80  yellow         cash          LaGuardia Airport   \n",
       "11    0.0  12.96  yellow  credit card      Upper West Side South   \n",
       "12    0.0  11.30  yellow  credit card                Murray Hill   \n",
       "13    0.0  13.80  yellow         cash        Lincoln Square West   \n",
       "14    0.0  14.80  yellow         cash   Financial District North   \n",
       "\n",
       "                 dropoff_zone pickup_borough dropoff_borough  \n",
       "0         UN/Turtle Bay South      Manhattan       Manhattan  \n",
       "1       Upper West Side South      Manhattan       Manhattan  \n",
       "2                West Village      Manhattan       Manhattan  \n",
       "3              Yorkville West      Manhattan       Manhattan  \n",
       "4              Yorkville West      Manhattan       Manhattan  \n",
       "5                Midtown East      Manhattan       Manhattan  \n",
       "6     Two Bridges/Seward Park      Manhattan       Manhattan  \n",
       "7                    Flatiron      Manhattan       Manhattan  \n",
       "8              Midtown Center      Manhattan       Manhattan  \n",
       "9                Central Park      Manhattan       Manhattan  \n",
       "10                    Astoria         Queens          Queens  \n",
       "11           Manhattan Valley      Manhattan       Manhattan  \n",
       "12             Midtown Center      Manhattan       Manhattan  \n",
       "13  Times Sq/Theatre District      Manhattan       Manhattan  \n",
       "14    Two Bridges/Seward Park      Manhattan       Manhattan  "
      ]
     },
     "execution_count": 15,
     "metadata": {},
     "output_type": "execute_result"
    }
   ],
   "source": [
    "df.head(15)"
   ]
  },
  {
   "cell_type": "code",
   "execution_count": 16,
   "id": "493c17f6",
   "metadata": {},
   "outputs": [
    {
     "data": {
      "text/html": [
       "<div>\n",
       "<style scoped>\n",
       "    .dataframe tbody tr th:only-of-type {\n",
       "        vertical-align: middle;\n",
       "    }\n",
       "\n",
       "    .dataframe tbody tr th {\n",
       "        vertical-align: top;\n",
       "    }\n",
       "\n",
       "    .dataframe thead th {\n",
       "        text-align: right;\n",
       "    }\n",
       "</style>\n",
       "<table border=\"1\" class=\"dataframe\">\n",
       "  <thead>\n",
       "    <tr style=\"text-align: right;\">\n",
       "      <th></th>\n",
       "      <th>pickup</th>\n",
       "      <th>dropoff</th>\n",
       "      <th>passengers</th>\n",
       "      <th>distance</th>\n",
       "      <th>fare</th>\n",
       "      <th>tip</th>\n",
       "      <th>tolls</th>\n",
       "      <th>total</th>\n",
       "      <th>color</th>\n",
       "      <th>payment</th>\n",
       "      <th>pickup_zone</th>\n",
       "      <th>dropoff_zone</th>\n",
       "      <th>pickup_borough</th>\n",
       "      <th>dropoff_borough</th>\n",
       "    </tr>\n",
       "  </thead>\n",
       "  <tbody>\n",
       "    <tr>\n",
       "      <th>6428</th>\n",
       "      <td>2019-03-31 09:51:53</td>\n",
       "      <td>2019-03-31 09:55:27</td>\n",
       "      <td>1</td>\n",
       "      <td>0.75</td>\n",
       "      <td>4.5</td>\n",
       "      <td>1.06</td>\n",
       "      <td>0.0</td>\n",
       "      <td>6.36</td>\n",
       "      <td>green</td>\n",
       "      <td>credit card</td>\n",
       "      <td>East Harlem North</td>\n",
       "      <td>Central Harlem North</td>\n",
       "      <td>Manhattan</td>\n",
       "      <td>Manhattan</td>\n",
       "    </tr>\n",
       "    <tr>\n",
       "      <th>6429</th>\n",
       "      <td>2019-03-31 17:38:00</td>\n",
       "      <td>2019-03-31 18:34:23</td>\n",
       "      <td>1</td>\n",
       "      <td>18.74</td>\n",
       "      <td>58.0</td>\n",
       "      <td>0.00</td>\n",
       "      <td>0.0</td>\n",
       "      <td>58.80</td>\n",
       "      <td>green</td>\n",
       "      <td>credit card</td>\n",
       "      <td>Jamaica</td>\n",
       "      <td>East Concourse/Concourse Village</td>\n",
       "      <td>Queens</td>\n",
       "      <td>Bronx</td>\n",
       "    </tr>\n",
       "    <tr>\n",
       "      <th>6430</th>\n",
       "      <td>2019-03-23 22:55:18</td>\n",
       "      <td>2019-03-23 23:14:25</td>\n",
       "      <td>1</td>\n",
       "      <td>4.14</td>\n",
       "      <td>16.0</td>\n",
       "      <td>0.00</td>\n",
       "      <td>0.0</td>\n",
       "      <td>17.30</td>\n",
       "      <td>green</td>\n",
       "      <td>cash</td>\n",
       "      <td>Crown Heights North</td>\n",
       "      <td>Bushwick North</td>\n",
       "      <td>Brooklyn</td>\n",
       "      <td>Brooklyn</td>\n",
       "    </tr>\n",
       "    <tr>\n",
       "      <th>6431</th>\n",
       "      <td>2019-03-04 10:09:25</td>\n",
       "      <td>2019-03-04 10:14:29</td>\n",
       "      <td>1</td>\n",
       "      <td>1.12</td>\n",
       "      <td>6.0</td>\n",
       "      <td>0.00</td>\n",
       "      <td>0.0</td>\n",
       "      <td>6.80</td>\n",
       "      <td>green</td>\n",
       "      <td>credit card</td>\n",
       "      <td>East New York</td>\n",
       "      <td>East Flatbush/Remsen Village</td>\n",
       "      <td>Brooklyn</td>\n",
       "      <td>Brooklyn</td>\n",
       "    </tr>\n",
       "    <tr>\n",
       "      <th>6432</th>\n",
       "      <td>2019-03-13 19:31:22</td>\n",
       "      <td>2019-03-13 19:48:02</td>\n",
       "      <td>1</td>\n",
       "      <td>3.85</td>\n",
       "      <td>15.0</td>\n",
       "      <td>3.36</td>\n",
       "      <td>0.0</td>\n",
       "      <td>20.16</td>\n",
       "      <td>green</td>\n",
       "      <td>credit card</td>\n",
       "      <td>Boerum Hill</td>\n",
       "      <td>Windsor Terrace</td>\n",
       "      <td>Brooklyn</td>\n",
       "      <td>Brooklyn</td>\n",
       "    </tr>\n",
       "  </tbody>\n",
       "</table>\n",
       "</div>"
      ],
      "text/plain": [
       "                  pickup             dropoff  passengers  distance  fare  \\\n",
       "6428 2019-03-31 09:51:53 2019-03-31 09:55:27           1      0.75   4.5   \n",
       "6429 2019-03-31 17:38:00 2019-03-31 18:34:23           1     18.74  58.0   \n",
       "6430 2019-03-23 22:55:18 2019-03-23 23:14:25           1      4.14  16.0   \n",
       "6431 2019-03-04 10:09:25 2019-03-04 10:14:29           1      1.12   6.0   \n",
       "6432 2019-03-13 19:31:22 2019-03-13 19:48:02           1      3.85  15.0   \n",
       "\n",
       "       tip  tolls  total  color      payment          pickup_zone  \\\n",
       "6428  1.06    0.0   6.36  green  credit card    East Harlem North   \n",
       "6429  0.00    0.0  58.80  green  credit card              Jamaica   \n",
       "6430  0.00    0.0  17.30  green         cash  Crown Heights North   \n",
       "6431  0.00    0.0   6.80  green  credit card        East New York   \n",
       "6432  3.36    0.0  20.16  green  credit card          Boerum Hill   \n",
       "\n",
       "                          dropoff_zone pickup_borough dropoff_borough  \n",
       "6428              Central Harlem North      Manhattan       Manhattan  \n",
       "6429  East Concourse/Concourse Village         Queens           Bronx  \n",
       "6430                    Bushwick North       Brooklyn        Brooklyn  \n",
       "6431      East Flatbush/Remsen Village       Brooklyn        Brooklyn  \n",
       "6432                   Windsor Terrace       Brooklyn        Brooklyn  "
      ]
     },
     "execution_count": 16,
     "metadata": {},
     "output_type": "execute_result"
    }
   ],
   "source": [
    "df.tail()"
   ]
  },
  {
   "cell_type": "code",
   "execution_count": 17,
   "id": "4f8b2093",
   "metadata": {},
   "outputs": [
    {
     "data": {
      "text/plain": [
       "0"
      ]
     },
     "execution_count": 17,
     "metadata": {},
     "output_type": "execute_result"
    }
   ],
   "source": [
    "df['color'].isnull().sum()"
   ]
  },
  {
   "cell_type": "code",
   "execution_count": 18,
   "id": "6f811c3c",
   "metadata": {},
   "outputs": [
    {
     "data": {
      "text/plain": [
       "0       yellow\n",
       "1       yellow\n",
       "2       yellow\n",
       "3       yellow\n",
       "4       yellow\n",
       "         ...  \n",
       "6428     green\n",
       "6429     green\n",
       "6430     green\n",
       "6431     green\n",
       "6432     green\n",
       "Name: color, Length: 6433, dtype: object"
      ]
     },
     "execution_count": 18,
     "metadata": {},
     "output_type": "execute_result"
    }
   ],
   "source": [
    "df['color']"
   ]
  },
  {
   "cell_type": "code",
   "execution_count": 19,
   "id": "759ca441",
   "metadata": {},
   "outputs": [
    {
     "data": {
      "text/plain": [
       "0"
      ]
     },
     "execution_count": 19,
     "metadata": {},
     "output_type": "execute_result"
    }
   ],
   "source": [
    "df['color'].isnull().sum()"
   ]
  },
  {
   "cell_type": "code",
   "execution_count": 20,
   "id": "dd446dda",
   "metadata": {},
   "outputs": [
    {
     "data": {
      "text/plain": [
       "pickup              0\n",
       "dropoff             0\n",
       "passengers          0\n",
       "distance            0\n",
       "fare                0\n",
       "tip                 0\n",
       "tolls               0\n",
       "total               0\n",
       "color               0\n",
       "payment            44\n",
       "pickup_zone        26\n",
       "dropoff_zone       45\n",
       "pickup_borough     26\n",
       "dropoff_borough    45\n",
       "dtype: int64"
      ]
     },
     "execution_count": 20,
     "metadata": {},
     "output_type": "execute_result"
    }
   ],
   "source": [
    "df.isnull().sum()"
   ]
  },
  {
   "cell_type": "code",
   "execution_count": null,
   "id": "4bc6c319",
   "metadata": {},
   "outputs": [],
   "source": []
  },
  {
   "cell_type": "code",
   "execution_count": 21,
   "id": "4031bee9",
   "metadata": {},
   "outputs": [
    {
     "data": {
      "text/plain": [
       "0.6839732628633608"
      ]
     },
     "execution_count": 21,
     "metadata": {},
     "output_type": "execute_result"
    }
   ],
   "source": [
    "(44/6433)*100"
   ]
  },
  {
   "cell_type": "code",
   "execution_count": 22,
   "id": "d993d3db",
   "metadata": {},
   "outputs": [
    {
     "data": {
      "text/plain": [
       "pickup             0.000000\n",
       "dropoff            0.000000\n",
       "passengers         0.000000\n",
       "distance           0.000000\n",
       "fare               0.000000\n",
       "tip                0.000000\n",
       "tolls              0.000000\n",
       "total              0.000000\n",
       "color              0.000000\n",
       "payment            0.683973\n",
       "pickup_zone        0.404166\n",
       "dropoff_zone       0.699518\n",
       "pickup_borough     0.404166\n",
       "dropoff_borough    0.699518\n",
       "dtype: float64"
      ]
     },
     "execution_count": 22,
     "metadata": {},
     "output_type": "execute_result"
    }
   ],
   "source": [
    "(df.isnull().sum()/6433)*100\n"
   ]
  },
  {
   "cell_type": "code",
   "execution_count": 23,
   "id": "d1526326",
   "metadata": {},
   "outputs": [
    {
     "data": {
      "text/html": [
       "<div>\n",
       "<style scoped>\n",
       "    .dataframe tbody tr th:only-of-type {\n",
       "        vertical-align: middle;\n",
       "    }\n",
       "\n",
       "    .dataframe tbody tr th {\n",
       "        vertical-align: top;\n",
       "    }\n",
       "\n",
       "    .dataframe thead th {\n",
       "        text-align: right;\n",
       "    }\n",
       "</style>\n",
       "<table border=\"1\" class=\"dataframe\">\n",
       "  <thead>\n",
       "    <tr style=\"text-align: right;\">\n",
       "      <th></th>\n",
       "      <th>dropoff</th>\n",
       "      <th>passengers</th>\n",
       "      <th>distance</th>\n",
       "      <th>fare</th>\n",
       "      <th>tip</th>\n",
       "      <th>tolls</th>\n",
       "      <th>pickup_zone</th>\n",
       "      <th>dropoff_zone</th>\n",
       "      <th>pickup_borough</th>\n",
       "      <th>dropoff_borough</th>\n",
       "    </tr>\n",
       "  </thead>\n",
       "  <tbody>\n",
       "    <tr>\n",
       "      <th>0</th>\n",
       "      <td>2019-03-23 20:27:24</td>\n",
       "      <td>1</td>\n",
       "      <td>1.60</td>\n",
       "      <td>7.0</td>\n",
       "      <td>2.15</td>\n",
       "      <td>0.0</td>\n",
       "      <td>Lenox Hill West</td>\n",
       "      <td>UN/Turtle Bay South</td>\n",
       "      <td>Manhattan</td>\n",
       "      <td>Manhattan</td>\n",
       "    </tr>\n",
       "    <tr>\n",
       "      <th>1</th>\n",
       "      <td>2019-03-04 16:19:00</td>\n",
       "      <td>1</td>\n",
       "      <td>0.79</td>\n",
       "      <td>5.0</td>\n",
       "      <td>0.00</td>\n",
       "      <td>0.0</td>\n",
       "      <td>Upper West Side South</td>\n",
       "      <td>Upper West Side South</td>\n",
       "      <td>Manhattan</td>\n",
       "      <td>Manhattan</td>\n",
       "    </tr>\n",
       "    <tr>\n",
       "      <th>2</th>\n",
       "      <td>2019-03-27 18:00:25</td>\n",
       "      <td>1</td>\n",
       "      <td>1.37</td>\n",
       "      <td>7.5</td>\n",
       "      <td>2.36</td>\n",
       "      <td>0.0</td>\n",
       "      <td>Alphabet City</td>\n",
       "      <td>West Village</td>\n",
       "      <td>Manhattan</td>\n",
       "      <td>Manhattan</td>\n",
       "    </tr>\n",
       "    <tr>\n",
       "      <th>3</th>\n",
       "      <td>2019-03-10 01:49:51</td>\n",
       "      <td>1</td>\n",
       "      <td>7.70</td>\n",
       "      <td>27.0</td>\n",
       "      <td>6.15</td>\n",
       "      <td>0.0</td>\n",
       "      <td>Hudson Sq</td>\n",
       "      <td>Yorkville West</td>\n",
       "      <td>Manhattan</td>\n",
       "      <td>Manhattan</td>\n",
       "    </tr>\n",
       "    <tr>\n",
       "      <th>4</th>\n",
       "      <td>2019-03-30 13:37:14</td>\n",
       "      <td>3</td>\n",
       "      <td>2.16</td>\n",
       "      <td>9.0</td>\n",
       "      <td>1.10</td>\n",
       "      <td>0.0</td>\n",
       "      <td>Midtown East</td>\n",
       "      <td>Yorkville West</td>\n",
       "      <td>Manhattan</td>\n",
       "      <td>Manhattan</td>\n",
       "    </tr>\n",
       "    <tr>\n",
       "      <th>...</th>\n",
       "      <td>...</td>\n",
       "      <td>...</td>\n",
       "      <td>...</td>\n",
       "      <td>...</td>\n",
       "      <td>...</td>\n",
       "      <td>...</td>\n",
       "      <td>...</td>\n",
       "      <td>...</td>\n",
       "      <td>...</td>\n",
       "      <td>...</td>\n",
       "    </tr>\n",
       "    <tr>\n",
       "      <th>6428</th>\n",
       "      <td>2019-03-31 09:55:27</td>\n",
       "      <td>1</td>\n",
       "      <td>0.75</td>\n",
       "      <td>4.5</td>\n",
       "      <td>1.06</td>\n",
       "      <td>0.0</td>\n",
       "      <td>East Harlem North</td>\n",
       "      <td>Central Harlem North</td>\n",
       "      <td>Manhattan</td>\n",
       "      <td>Manhattan</td>\n",
       "    </tr>\n",
       "    <tr>\n",
       "      <th>6429</th>\n",
       "      <td>2019-03-31 18:34:23</td>\n",
       "      <td>1</td>\n",
       "      <td>18.74</td>\n",
       "      <td>58.0</td>\n",
       "      <td>0.00</td>\n",
       "      <td>0.0</td>\n",
       "      <td>Jamaica</td>\n",
       "      <td>East Concourse/Concourse Village</td>\n",
       "      <td>Queens</td>\n",
       "      <td>Bronx</td>\n",
       "    </tr>\n",
       "    <tr>\n",
       "      <th>6430</th>\n",
       "      <td>2019-03-23 23:14:25</td>\n",
       "      <td>1</td>\n",
       "      <td>4.14</td>\n",
       "      <td>16.0</td>\n",
       "      <td>0.00</td>\n",
       "      <td>0.0</td>\n",
       "      <td>Crown Heights North</td>\n",
       "      <td>Bushwick North</td>\n",
       "      <td>Brooklyn</td>\n",
       "      <td>Brooklyn</td>\n",
       "    </tr>\n",
       "    <tr>\n",
       "      <th>6431</th>\n",
       "      <td>2019-03-04 10:14:29</td>\n",
       "      <td>1</td>\n",
       "      <td>1.12</td>\n",
       "      <td>6.0</td>\n",
       "      <td>0.00</td>\n",
       "      <td>0.0</td>\n",
       "      <td>East New York</td>\n",
       "      <td>East Flatbush/Remsen Village</td>\n",
       "      <td>Brooklyn</td>\n",
       "      <td>Brooklyn</td>\n",
       "    </tr>\n",
       "    <tr>\n",
       "      <th>6432</th>\n",
       "      <td>2019-03-13 19:48:02</td>\n",
       "      <td>1</td>\n",
       "      <td>3.85</td>\n",
       "      <td>15.0</td>\n",
       "      <td>3.36</td>\n",
       "      <td>0.0</td>\n",
       "      <td>Boerum Hill</td>\n",
       "      <td>Windsor Terrace</td>\n",
       "      <td>Brooklyn</td>\n",
       "      <td>Brooklyn</td>\n",
       "    </tr>\n",
       "  </tbody>\n",
       "</table>\n",
       "<p>6433 rows × 10 columns</p>\n",
       "</div>"
      ],
      "text/plain": [
       "                 dropoff  passengers  distance  fare   tip  tolls  \\\n",
       "0    2019-03-23 20:27:24           1      1.60   7.0  2.15    0.0   \n",
       "1    2019-03-04 16:19:00           1      0.79   5.0  0.00    0.0   \n",
       "2    2019-03-27 18:00:25           1      1.37   7.5  2.36    0.0   \n",
       "3    2019-03-10 01:49:51           1      7.70  27.0  6.15    0.0   \n",
       "4    2019-03-30 13:37:14           3      2.16   9.0  1.10    0.0   \n",
       "...                  ...         ...       ...   ...   ...    ...   \n",
       "6428 2019-03-31 09:55:27           1      0.75   4.5  1.06    0.0   \n",
       "6429 2019-03-31 18:34:23           1     18.74  58.0  0.00    0.0   \n",
       "6430 2019-03-23 23:14:25           1      4.14  16.0  0.00    0.0   \n",
       "6431 2019-03-04 10:14:29           1      1.12   6.0  0.00    0.0   \n",
       "6432 2019-03-13 19:48:02           1      3.85  15.0  3.36    0.0   \n",
       "\n",
       "                pickup_zone                      dropoff_zone pickup_borough  \\\n",
       "0           Lenox Hill West               UN/Turtle Bay South      Manhattan   \n",
       "1     Upper West Side South             Upper West Side South      Manhattan   \n",
       "2             Alphabet City                      West Village      Manhattan   \n",
       "3                 Hudson Sq                    Yorkville West      Manhattan   \n",
       "4              Midtown East                    Yorkville West      Manhattan   \n",
       "...                     ...                               ...            ...   \n",
       "6428      East Harlem North              Central Harlem North      Manhattan   \n",
       "6429                Jamaica  East Concourse/Concourse Village         Queens   \n",
       "6430    Crown Heights North                    Bushwick North       Brooklyn   \n",
       "6431          East New York      East Flatbush/Remsen Village       Brooklyn   \n",
       "6432            Boerum Hill                   Windsor Terrace       Brooklyn   \n",
       "\n",
       "     dropoff_borough  \n",
       "0          Manhattan  \n",
       "1          Manhattan  \n",
       "2          Manhattan  \n",
       "3          Manhattan  \n",
       "4          Manhattan  \n",
       "...              ...  \n",
       "6428       Manhattan  \n",
       "6429           Bronx  \n",
       "6430        Brooklyn  \n",
       "6431        Brooklyn  \n",
       "6432        Brooklyn  \n",
       "\n",
       "[6433 rows x 10 columns]"
      ]
     },
     "execution_count": 23,
     "metadata": {},
     "output_type": "execute_result"
    }
   ],
   "source": [
    "df.drop(['pickup','color','payment','total'],axis=1)\n",
    "\n"
   ]
  },
  {
   "cell_type": "code",
   "execution_count": 32,
   "id": "d525f813",
   "metadata": {},
   "outputs": [
    {
     "data": {
      "text/html": [
       "<div>\n",
       "<style scoped>\n",
       "    .dataframe tbody tr th:only-of-type {\n",
       "        vertical-align: middle;\n",
       "    }\n",
       "\n",
       "    .dataframe tbody tr th {\n",
       "        vertical-align: top;\n",
       "    }\n",
       "\n",
       "    .dataframe thead th {\n",
       "        text-align: right;\n",
       "    }\n",
       "</style>\n",
       "<table border=\"1\" class=\"dataframe\">\n",
       "  <thead>\n",
       "    <tr style=\"text-align: right;\">\n",
       "      <th></th>\n",
       "      <th>dropoff</th>\n",
       "      <th>passengers</th>\n",
       "      <th>distance</th>\n",
       "      <th>fare</th>\n",
       "      <th>tip</th>\n",
       "      <th>tolls</th>\n",
       "      <th>dropoff_zone</th>\n",
       "      <th>pickup_borough</th>\n",
       "      <th>dropoff_borough</th>\n",
       "    </tr>\n",
       "  </thead>\n",
       "  <tbody>\n",
       "    <tr>\n",
       "      <th>0</th>\n",
       "      <td>2019-03-23 20:27:24</td>\n",
       "      <td>1</td>\n",
       "      <td>1.60</td>\n",
       "      <td>7.0</td>\n",
       "      <td>2.15</td>\n",
       "      <td>0.0</td>\n",
       "      <td>UN/Turtle Bay South</td>\n",
       "      <td>Manhattan</td>\n",
       "      <td>Manhattan</td>\n",
       "    </tr>\n",
       "    <tr>\n",
       "      <th>1</th>\n",
       "      <td>2019-03-04 16:19:00</td>\n",
       "      <td>1</td>\n",
       "      <td>0.79</td>\n",
       "      <td>5.0</td>\n",
       "      <td>0.00</td>\n",
       "      <td>0.0</td>\n",
       "      <td>Upper West Side South</td>\n",
       "      <td>Manhattan</td>\n",
       "      <td>Manhattan</td>\n",
       "    </tr>\n",
       "    <tr>\n",
       "      <th>2</th>\n",
       "      <td>2019-03-27 18:00:25</td>\n",
       "      <td>1</td>\n",
       "      <td>1.37</td>\n",
       "      <td>7.5</td>\n",
       "      <td>2.36</td>\n",
       "      <td>0.0</td>\n",
       "      <td>West Village</td>\n",
       "      <td>Manhattan</td>\n",
       "      <td>Manhattan</td>\n",
       "    </tr>\n",
       "    <tr>\n",
       "      <th>3</th>\n",
       "      <td>2019-03-10 01:49:51</td>\n",
       "      <td>1</td>\n",
       "      <td>7.70</td>\n",
       "      <td>27.0</td>\n",
       "      <td>6.15</td>\n",
       "      <td>0.0</td>\n",
       "      <td>Yorkville West</td>\n",
       "      <td>Manhattan</td>\n",
       "      <td>Manhattan</td>\n",
       "    </tr>\n",
       "    <tr>\n",
       "      <th>4</th>\n",
       "      <td>2019-03-30 13:37:14</td>\n",
       "      <td>3</td>\n",
       "      <td>2.16</td>\n",
       "      <td>9.0</td>\n",
       "      <td>1.10</td>\n",
       "      <td>0.0</td>\n",
       "      <td>Yorkville West</td>\n",
       "      <td>Manhattan</td>\n",
       "      <td>Manhattan</td>\n",
       "    </tr>\n",
       "    <tr>\n",
       "      <th>...</th>\n",
       "      <td>...</td>\n",
       "      <td>...</td>\n",
       "      <td>...</td>\n",
       "      <td>...</td>\n",
       "      <td>...</td>\n",
       "      <td>...</td>\n",
       "      <td>...</td>\n",
       "      <td>...</td>\n",
       "      <td>...</td>\n",
       "    </tr>\n",
       "    <tr>\n",
       "      <th>6428</th>\n",
       "      <td>2019-03-31 09:55:27</td>\n",
       "      <td>1</td>\n",
       "      <td>0.75</td>\n",
       "      <td>4.5</td>\n",
       "      <td>1.06</td>\n",
       "      <td>0.0</td>\n",
       "      <td>Central Harlem North</td>\n",
       "      <td>Manhattan</td>\n",
       "      <td>Manhattan</td>\n",
       "    </tr>\n",
       "    <tr>\n",
       "      <th>6429</th>\n",
       "      <td>2019-03-31 18:34:23</td>\n",
       "      <td>1</td>\n",
       "      <td>18.74</td>\n",
       "      <td>58.0</td>\n",
       "      <td>0.00</td>\n",
       "      <td>0.0</td>\n",
       "      <td>East Concourse/Concourse Village</td>\n",
       "      <td>Queens</td>\n",
       "      <td>Bronx</td>\n",
       "    </tr>\n",
       "    <tr>\n",
       "      <th>6430</th>\n",
       "      <td>2019-03-23 23:14:25</td>\n",
       "      <td>1</td>\n",
       "      <td>4.14</td>\n",
       "      <td>16.0</td>\n",
       "      <td>0.00</td>\n",
       "      <td>0.0</td>\n",
       "      <td>Bushwick North</td>\n",
       "      <td>Brooklyn</td>\n",
       "      <td>Brooklyn</td>\n",
       "    </tr>\n",
       "    <tr>\n",
       "      <th>6431</th>\n",
       "      <td>2019-03-04 10:14:29</td>\n",
       "      <td>1</td>\n",
       "      <td>1.12</td>\n",
       "      <td>6.0</td>\n",
       "      <td>0.00</td>\n",
       "      <td>0.0</td>\n",
       "      <td>East Flatbush/Remsen Village</td>\n",
       "      <td>Brooklyn</td>\n",
       "      <td>Brooklyn</td>\n",
       "    </tr>\n",
       "    <tr>\n",
       "      <th>6432</th>\n",
       "      <td>2019-03-13 19:48:02</td>\n",
       "      <td>1</td>\n",
       "      <td>3.85</td>\n",
       "      <td>15.0</td>\n",
       "      <td>3.36</td>\n",
       "      <td>0.0</td>\n",
       "      <td>Windsor Terrace</td>\n",
       "      <td>Brooklyn</td>\n",
       "      <td>Brooklyn</td>\n",
       "    </tr>\n",
       "  </tbody>\n",
       "</table>\n",
       "<p>6433 rows × 9 columns</p>\n",
       "</div>"
      ],
      "text/plain": [
       "                 dropoff  passengers  distance  fare   tip  tolls  \\\n",
       "0    2019-03-23 20:27:24           1      1.60   7.0  2.15    0.0   \n",
       "1    2019-03-04 16:19:00           1      0.79   5.0  0.00    0.0   \n",
       "2    2019-03-27 18:00:25           1      1.37   7.5  2.36    0.0   \n",
       "3    2019-03-10 01:49:51           1      7.70  27.0  6.15    0.0   \n",
       "4    2019-03-30 13:37:14           3      2.16   9.0  1.10    0.0   \n",
       "...                  ...         ...       ...   ...   ...    ...   \n",
       "6428 2019-03-31 09:55:27           1      0.75   4.5  1.06    0.0   \n",
       "6429 2019-03-31 18:34:23           1     18.74  58.0  0.00    0.0   \n",
       "6430 2019-03-23 23:14:25           1      4.14  16.0  0.00    0.0   \n",
       "6431 2019-03-04 10:14:29           1      1.12   6.0  0.00    0.0   \n",
       "6432 2019-03-13 19:48:02           1      3.85  15.0  3.36    0.0   \n",
       "\n",
       "                          dropoff_zone pickup_borough dropoff_borough  \n",
       "0                  UN/Turtle Bay South      Manhattan       Manhattan  \n",
       "1                Upper West Side South      Manhattan       Manhattan  \n",
       "2                         West Village      Manhattan       Manhattan  \n",
       "3                       Yorkville West      Manhattan       Manhattan  \n",
       "4                       Yorkville West      Manhattan       Manhattan  \n",
       "...                                ...            ...             ...  \n",
       "6428              Central Harlem North      Manhattan       Manhattan  \n",
       "6429  East Concourse/Concourse Village         Queens           Bronx  \n",
       "6430                    Bushwick North       Brooklyn        Brooklyn  \n",
       "6431      East Flatbush/Remsen Village       Brooklyn        Brooklyn  \n",
       "6432                   Windsor Terrace       Brooklyn        Brooklyn  \n",
       "\n",
       "[6433 rows x 9 columns]"
      ]
     },
     "execution_count": 32,
     "metadata": {},
     "output_type": "execute_result"
    }
   ],
   "source": [
    "\n"
   ]
  },
  {
   "cell_type": "code",
   "execution_count": 24,
   "id": "889faf70",
   "metadata": {},
   "outputs": [],
   "source": [
    "df.drop(['color','payment','total'],axis=1,inplace=True)"
   ]
  },
  {
   "cell_type": "code",
   "execution_count": 25,
   "id": "f5920403",
   "metadata": {},
   "outputs": [
    {
     "data": {
      "text/html": [
       "<div>\n",
       "<style scoped>\n",
       "    .dataframe tbody tr th:only-of-type {\n",
       "        vertical-align: middle;\n",
       "    }\n",
       "\n",
       "    .dataframe tbody tr th {\n",
       "        vertical-align: top;\n",
       "    }\n",
       "\n",
       "    .dataframe thead th {\n",
       "        text-align: right;\n",
       "    }\n",
       "</style>\n",
       "<table border=\"1\" class=\"dataframe\">\n",
       "  <thead>\n",
       "    <tr style=\"text-align: right;\">\n",
       "      <th></th>\n",
       "      <th>pickup</th>\n",
       "      <th>dropoff</th>\n",
       "      <th>passengers</th>\n",
       "      <th>distance</th>\n",
       "      <th>fare</th>\n",
       "      <th>tip</th>\n",
       "      <th>tolls</th>\n",
       "      <th>pickup_zone</th>\n",
       "      <th>dropoff_zone</th>\n",
       "      <th>pickup_borough</th>\n",
       "      <th>dropoff_borough</th>\n",
       "    </tr>\n",
       "  </thead>\n",
       "  <tbody>\n",
       "    <tr>\n",
       "      <th>0</th>\n",
       "      <td>2019-03-23 20:21:09</td>\n",
       "      <td>2019-03-23 20:27:24</td>\n",
       "      <td>1</td>\n",
       "      <td>1.60</td>\n",
       "      <td>7.0</td>\n",
       "      <td>2.15</td>\n",
       "      <td>0.0</td>\n",
       "      <td>Lenox Hill West</td>\n",
       "      <td>UN/Turtle Bay South</td>\n",
       "      <td>Manhattan</td>\n",
       "      <td>Manhattan</td>\n",
       "    </tr>\n",
       "    <tr>\n",
       "      <th>1</th>\n",
       "      <td>2019-03-04 16:11:55</td>\n",
       "      <td>2019-03-04 16:19:00</td>\n",
       "      <td>1</td>\n",
       "      <td>0.79</td>\n",
       "      <td>5.0</td>\n",
       "      <td>0.00</td>\n",
       "      <td>0.0</td>\n",
       "      <td>Upper West Side South</td>\n",
       "      <td>Upper West Side South</td>\n",
       "      <td>Manhattan</td>\n",
       "      <td>Manhattan</td>\n",
       "    </tr>\n",
       "    <tr>\n",
       "      <th>2</th>\n",
       "      <td>2019-03-27 17:53:01</td>\n",
       "      <td>2019-03-27 18:00:25</td>\n",
       "      <td>1</td>\n",
       "      <td>1.37</td>\n",
       "      <td>7.5</td>\n",
       "      <td>2.36</td>\n",
       "      <td>0.0</td>\n",
       "      <td>Alphabet City</td>\n",
       "      <td>West Village</td>\n",
       "      <td>Manhattan</td>\n",
       "      <td>Manhattan</td>\n",
       "    </tr>\n",
       "    <tr>\n",
       "      <th>3</th>\n",
       "      <td>2019-03-10 01:23:59</td>\n",
       "      <td>2019-03-10 01:49:51</td>\n",
       "      <td>1</td>\n",
       "      <td>7.70</td>\n",
       "      <td>27.0</td>\n",
       "      <td>6.15</td>\n",
       "      <td>0.0</td>\n",
       "      <td>Hudson Sq</td>\n",
       "      <td>Yorkville West</td>\n",
       "      <td>Manhattan</td>\n",
       "      <td>Manhattan</td>\n",
       "    </tr>\n",
       "    <tr>\n",
       "      <th>4</th>\n",
       "      <td>2019-03-30 13:27:42</td>\n",
       "      <td>2019-03-30 13:37:14</td>\n",
       "      <td>3</td>\n",
       "      <td>2.16</td>\n",
       "      <td>9.0</td>\n",
       "      <td>1.10</td>\n",
       "      <td>0.0</td>\n",
       "      <td>Midtown East</td>\n",
       "      <td>Yorkville West</td>\n",
       "      <td>Manhattan</td>\n",
       "      <td>Manhattan</td>\n",
       "    </tr>\n",
       "    <tr>\n",
       "      <th>...</th>\n",
       "      <td>...</td>\n",
       "      <td>...</td>\n",
       "      <td>...</td>\n",
       "      <td>...</td>\n",
       "      <td>...</td>\n",
       "      <td>...</td>\n",
       "      <td>...</td>\n",
       "      <td>...</td>\n",
       "      <td>...</td>\n",
       "      <td>...</td>\n",
       "      <td>...</td>\n",
       "    </tr>\n",
       "    <tr>\n",
       "      <th>6428</th>\n",
       "      <td>2019-03-31 09:51:53</td>\n",
       "      <td>2019-03-31 09:55:27</td>\n",
       "      <td>1</td>\n",
       "      <td>0.75</td>\n",
       "      <td>4.5</td>\n",
       "      <td>1.06</td>\n",
       "      <td>0.0</td>\n",
       "      <td>East Harlem North</td>\n",
       "      <td>Central Harlem North</td>\n",
       "      <td>Manhattan</td>\n",
       "      <td>Manhattan</td>\n",
       "    </tr>\n",
       "    <tr>\n",
       "      <th>6429</th>\n",
       "      <td>2019-03-31 17:38:00</td>\n",
       "      <td>2019-03-31 18:34:23</td>\n",
       "      <td>1</td>\n",
       "      <td>18.74</td>\n",
       "      <td>58.0</td>\n",
       "      <td>0.00</td>\n",
       "      <td>0.0</td>\n",
       "      <td>Jamaica</td>\n",
       "      <td>East Concourse/Concourse Village</td>\n",
       "      <td>Queens</td>\n",
       "      <td>Bronx</td>\n",
       "    </tr>\n",
       "    <tr>\n",
       "      <th>6430</th>\n",
       "      <td>2019-03-23 22:55:18</td>\n",
       "      <td>2019-03-23 23:14:25</td>\n",
       "      <td>1</td>\n",
       "      <td>4.14</td>\n",
       "      <td>16.0</td>\n",
       "      <td>0.00</td>\n",
       "      <td>0.0</td>\n",
       "      <td>Crown Heights North</td>\n",
       "      <td>Bushwick North</td>\n",
       "      <td>Brooklyn</td>\n",
       "      <td>Brooklyn</td>\n",
       "    </tr>\n",
       "    <tr>\n",
       "      <th>6431</th>\n",
       "      <td>2019-03-04 10:09:25</td>\n",
       "      <td>2019-03-04 10:14:29</td>\n",
       "      <td>1</td>\n",
       "      <td>1.12</td>\n",
       "      <td>6.0</td>\n",
       "      <td>0.00</td>\n",
       "      <td>0.0</td>\n",
       "      <td>East New York</td>\n",
       "      <td>East Flatbush/Remsen Village</td>\n",
       "      <td>Brooklyn</td>\n",
       "      <td>Brooklyn</td>\n",
       "    </tr>\n",
       "    <tr>\n",
       "      <th>6432</th>\n",
       "      <td>2019-03-13 19:31:22</td>\n",
       "      <td>2019-03-13 19:48:02</td>\n",
       "      <td>1</td>\n",
       "      <td>3.85</td>\n",
       "      <td>15.0</td>\n",
       "      <td>3.36</td>\n",
       "      <td>0.0</td>\n",
       "      <td>Boerum Hill</td>\n",
       "      <td>Windsor Terrace</td>\n",
       "      <td>Brooklyn</td>\n",
       "      <td>Brooklyn</td>\n",
       "    </tr>\n",
       "  </tbody>\n",
       "</table>\n",
       "<p>6433 rows × 11 columns</p>\n",
       "</div>"
      ],
      "text/plain": [
       "                  pickup             dropoff  passengers  distance  fare  \\\n",
       "0    2019-03-23 20:21:09 2019-03-23 20:27:24           1      1.60   7.0   \n",
       "1    2019-03-04 16:11:55 2019-03-04 16:19:00           1      0.79   5.0   \n",
       "2    2019-03-27 17:53:01 2019-03-27 18:00:25           1      1.37   7.5   \n",
       "3    2019-03-10 01:23:59 2019-03-10 01:49:51           1      7.70  27.0   \n",
       "4    2019-03-30 13:27:42 2019-03-30 13:37:14           3      2.16   9.0   \n",
       "...                  ...                 ...         ...       ...   ...   \n",
       "6428 2019-03-31 09:51:53 2019-03-31 09:55:27           1      0.75   4.5   \n",
       "6429 2019-03-31 17:38:00 2019-03-31 18:34:23           1     18.74  58.0   \n",
       "6430 2019-03-23 22:55:18 2019-03-23 23:14:25           1      4.14  16.0   \n",
       "6431 2019-03-04 10:09:25 2019-03-04 10:14:29           1      1.12   6.0   \n",
       "6432 2019-03-13 19:31:22 2019-03-13 19:48:02           1      3.85  15.0   \n",
       "\n",
       "       tip  tolls            pickup_zone                      dropoff_zone  \\\n",
       "0     2.15    0.0        Lenox Hill West               UN/Turtle Bay South   \n",
       "1     0.00    0.0  Upper West Side South             Upper West Side South   \n",
       "2     2.36    0.0          Alphabet City                      West Village   \n",
       "3     6.15    0.0              Hudson Sq                    Yorkville West   \n",
       "4     1.10    0.0           Midtown East                    Yorkville West   \n",
       "...    ...    ...                    ...                               ...   \n",
       "6428  1.06    0.0      East Harlem North              Central Harlem North   \n",
       "6429  0.00    0.0                Jamaica  East Concourse/Concourse Village   \n",
       "6430  0.00    0.0    Crown Heights North                    Bushwick North   \n",
       "6431  0.00    0.0          East New York      East Flatbush/Remsen Village   \n",
       "6432  3.36    0.0            Boerum Hill                   Windsor Terrace   \n",
       "\n",
       "     pickup_borough dropoff_borough  \n",
       "0         Manhattan       Manhattan  \n",
       "1         Manhattan       Manhattan  \n",
       "2         Manhattan       Manhattan  \n",
       "3         Manhattan       Manhattan  \n",
       "4         Manhattan       Manhattan  \n",
       "...             ...             ...  \n",
       "6428      Manhattan       Manhattan  \n",
       "6429         Queens           Bronx  \n",
       "6430       Brooklyn        Brooklyn  \n",
       "6431       Brooklyn        Brooklyn  \n",
       "6432       Brooklyn        Brooklyn  \n",
       "\n",
       "[6433 rows x 11 columns]"
      ]
     },
     "execution_count": 25,
     "metadata": {},
     "output_type": "execute_result"
    }
   ],
   "source": [
    "df"
   ]
  },
  {
   "cell_type": "code",
   "execution_count": 26,
   "id": "0356639b",
   "metadata": {},
   "outputs": [],
   "source": [
    "df.drop([2,3,6430,6432],axis=0,inplace=True)"
   ]
  },
  {
   "cell_type": "code",
   "execution_count": 27,
   "id": "cee75d31",
   "metadata": {},
   "outputs": [
    {
     "data": {
      "text/html": [
       "<div>\n",
       "<style scoped>\n",
       "    .dataframe tbody tr th:only-of-type {\n",
       "        vertical-align: middle;\n",
       "    }\n",
       "\n",
       "    .dataframe tbody tr th {\n",
       "        vertical-align: top;\n",
       "    }\n",
       "\n",
       "    .dataframe thead th {\n",
       "        text-align: right;\n",
       "    }\n",
       "</style>\n",
       "<table border=\"1\" class=\"dataframe\">\n",
       "  <thead>\n",
       "    <tr style=\"text-align: right;\">\n",
       "      <th></th>\n",
       "      <th>pickup</th>\n",
       "      <th>dropoff</th>\n",
       "      <th>passengers</th>\n",
       "      <th>distance</th>\n",
       "      <th>fare</th>\n",
       "      <th>tip</th>\n",
       "      <th>tolls</th>\n",
       "      <th>pickup_zone</th>\n",
       "      <th>dropoff_zone</th>\n",
       "      <th>pickup_borough</th>\n",
       "      <th>dropoff_borough</th>\n",
       "    </tr>\n",
       "  </thead>\n",
       "  <tbody>\n",
       "    <tr>\n",
       "      <th>0</th>\n",
       "      <td>2019-03-23 20:21:09</td>\n",
       "      <td>2019-03-23 20:27:24</td>\n",
       "      <td>1</td>\n",
       "      <td>1.60</td>\n",
       "      <td>7.0</td>\n",
       "      <td>2.15</td>\n",
       "      <td>0.0</td>\n",
       "      <td>Lenox Hill West</td>\n",
       "      <td>UN/Turtle Bay South</td>\n",
       "      <td>Manhattan</td>\n",
       "      <td>Manhattan</td>\n",
       "    </tr>\n",
       "    <tr>\n",
       "      <th>1</th>\n",
       "      <td>2019-03-04 16:11:55</td>\n",
       "      <td>2019-03-04 16:19:00</td>\n",
       "      <td>1</td>\n",
       "      <td>0.79</td>\n",
       "      <td>5.0</td>\n",
       "      <td>0.00</td>\n",
       "      <td>0.0</td>\n",
       "      <td>Upper West Side South</td>\n",
       "      <td>Upper West Side South</td>\n",
       "      <td>Manhattan</td>\n",
       "      <td>Manhattan</td>\n",
       "    </tr>\n",
       "    <tr>\n",
       "      <th>4</th>\n",
       "      <td>2019-03-30 13:27:42</td>\n",
       "      <td>2019-03-30 13:37:14</td>\n",
       "      <td>3</td>\n",
       "      <td>2.16</td>\n",
       "      <td>9.0</td>\n",
       "      <td>1.10</td>\n",
       "      <td>0.0</td>\n",
       "      <td>Midtown East</td>\n",
       "      <td>Yorkville West</td>\n",
       "      <td>Manhattan</td>\n",
       "      <td>Manhattan</td>\n",
       "    </tr>\n",
       "    <tr>\n",
       "      <th>5</th>\n",
       "      <td>2019-03-11 10:37:23</td>\n",
       "      <td>2019-03-11 10:47:31</td>\n",
       "      <td>1</td>\n",
       "      <td>0.49</td>\n",
       "      <td>7.5</td>\n",
       "      <td>2.16</td>\n",
       "      <td>0.0</td>\n",
       "      <td>Times Sq/Theatre District</td>\n",
       "      <td>Midtown East</td>\n",
       "      <td>Manhattan</td>\n",
       "      <td>Manhattan</td>\n",
       "    </tr>\n",
       "    <tr>\n",
       "      <th>6</th>\n",
       "      <td>2019-03-26 21:07:31</td>\n",
       "      <td>2019-03-26 21:17:29</td>\n",
       "      <td>1</td>\n",
       "      <td>3.65</td>\n",
       "      <td>13.0</td>\n",
       "      <td>2.00</td>\n",
       "      <td>0.0</td>\n",
       "      <td>Battery Park City</td>\n",
       "      <td>Two Bridges/Seward Park</td>\n",
       "      <td>Manhattan</td>\n",
       "      <td>Manhattan</td>\n",
       "    </tr>\n",
       "    <tr>\n",
       "      <th>...</th>\n",
       "      <td>...</td>\n",
       "      <td>...</td>\n",
       "      <td>...</td>\n",
       "      <td>...</td>\n",
       "      <td>...</td>\n",
       "      <td>...</td>\n",
       "      <td>...</td>\n",
       "      <td>...</td>\n",
       "      <td>...</td>\n",
       "      <td>...</td>\n",
       "      <td>...</td>\n",
       "    </tr>\n",
       "    <tr>\n",
       "      <th>6426</th>\n",
       "      <td>2019-03-28 08:04:47</td>\n",
       "      <td>2019-03-28 08:07:46</td>\n",
       "      <td>1</td>\n",
       "      <td>0.71</td>\n",
       "      <td>4.5</td>\n",
       "      <td>0.50</td>\n",
       "      <td>0.0</td>\n",
       "      <td>Central Park</td>\n",
       "      <td>Upper West Side North</td>\n",
       "      <td>Manhattan</td>\n",
       "      <td>Manhattan</td>\n",
       "    </tr>\n",
       "    <tr>\n",
       "      <th>6427</th>\n",
       "      <td>2019-03-23 18:26:09</td>\n",
       "      <td>2019-03-23 18:49:12</td>\n",
       "      <td>1</td>\n",
       "      <td>7.07</td>\n",
       "      <td>20.0</td>\n",
       "      <td>0.00</td>\n",
       "      <td>0.0</td>\n",
       "      <td>Parkchester</td>\n",
       "      <td>East Harlem South</td>\n",
       "      <td>Bronx</td>\n",
       "      <td>Manhattan</td>\n",
       "    </tr>\n",
       "    <tr>\n",
       "      <th>6428</th>\n",
       "      <td>2019-03-31 09:51:53</td>\n",
       "      <td>2019-03-31 09:55:27</td>\n",
       "      <td>1</td>\n",
       "      <td>0.75</td>\n",
       "      <td>4.5</td>\n",
       "      <td>1.06</td>\n",
       "      <td>0.0</td>\n",
       "      <td>East Harlem North</td>\n",
       "      <td>Central Harlem North</td>\n",
       "      <td>Manhattan</td>\n",
       "      <td>Manhattan</td>\n",
       "    </tr>\n",
       "    <tr>\n",
       "      <th>6429</th>\n",
       "      <td>2019-03-31 17:38:00</td>\n",
       "      <td>2019-03-31 18:34:23</td>\n",
       "      <td>1</td>\n",
       "      <td>18.74</td>\n",
       "      <td>58.0</td>\n",
       "      <td>0.00</td>\n",
       "      <td>0.0</td>\n",
       "      <td>Jamaica</td>\n",
       "      <td>East Concourse/Concourse Village</td>\n",
       "      <td>Queens</td>\n",
       "      <td>Bronx</td>\n",
       "    </tr>\n",
       "    <tr>\n",
       "      <th>6431</th>\n",
       "      <td>2019-03-04 10:09:25</td>\n",
       "      <td>2019-03-04 10:14:29</td>\n",
       "      <td>1</td>\n",
       "      <td>1.12</td>\n",
       "      <td>6.0</td>\n",
       "      <td>0.00</td>\n",
       "      <td>0.0</td>\n",
       "      <td>East New York</td>\n",
       "      <td>East Flatbush/Remsen Village</td>\n",
       "      <td>Brooklyn</td>\n",
       "      <td>Brooklyn</td>\n",
       "    </tr>\n",
       "  </tbody>\n",
       "</table>\n",
       "<p>6429 rows × 11 columns</p>\n",
       "</div>"
      ],
      "text/plain": [
       "                  pickup             dropoff  passengers  distance  fare  \\\n",
       "0    2019-03-23 20:21:09 2019-03-23 20:27:24           1      1.60   7.0   \n",
       "1    2019-03-04 16:11:55 2019-03-04 16:19:00           1      0.79   5.0   \n",
       "4    2019-03-30 13:27:42 2019-03-30 13:37:14           3      2.16   9.0   \n",
       "5    2019-03-11 10:37:23 2019-03-11 10:47:31           1      0.49   7.5   \n",
       "6    2019-03-26 21:07:31 2019-03-26 21:17:29           1      3.65  13.0   \n",
       "...                  ...                 ...         ...       ...   ...   \n",
       "6426 2019-03-28 08:04:47 2019-03-28 08:07:46           1      0.71   4.5   \n",
       "6427 2019-03-23 18:26:09 2019-03-23 18:49:12           1      7.07  20.0   \n",
       "6428 2019-03-31 09:51:53 2019-03-31 09:55:27           1      0.75   4.5   \n",
       "6429 2019-03-31 17:38:00 2019-03-31 18:34:23           1     18.74  58.0   \n",
       "6431 2019-03-04 10:09:25 2019-03-04 10:14:29           1      1.12   6.0   \n",
       "\n",
       "       tip  tolls                pickup_zone  \\\n",
       "0     2.15    0.0            Lenox Hill West   \n",
       "1     0.00    0.0      Upper West Side South   \n",
       "4     1.10    0.0               Midtown East   \n",
       "5     2.16    0.0  Times Sq/Theatre District   \n",
       "6     2.00    0.0          Battery Park City   \n",
       "...    ...    ...                        ...   \n",
       "6426  0.50    0.0               Central Park   \n",
       "6427  0.00    0.0                Parkchester   \n",
       "6428  1.06    0.0          East Harlem North   \n",
       "6429  0.00    0.0                    Jamaica   \n",
       "6431  0.00    0.0              East New York   \n",
       "\n",
       "                          dropoff_zone pickup_borough dropoff_borough  \n",
       "0                  UN/Turtle Bay South      Manhattan       Manhattan  \n",
       "1                Upper West Side South      Manhattan       Manhattan  \n",
       "4                       Yorkville West      Manhattan       Manhattan  \n",
       "5                         Midtown East      Manhattan       Manhattan  \n",
       "6              Two Bridges/Seward Park      Manhattan       Manhattan  \n",
       "...                                ...            ...             ...  \n",
       "6426             Upper West Side North      Manhattan       Manhattan  \n",
       "6427                 East Harlem South          Bronx       Manhattan  \n",
       "6428              Central Harlem North      Manhattan       Manhattan  \n",
       "6429  East Concourse/Concourse Village         Queens           Bronx  \n",
       "6431      East Flatbush/Remsen Village       Brooklyn        Brooklyn  \n",
       "\n",
       "[6429 rows x 11 columns]"
      ]
     },
     "execution_count": 27,
     "metadata": {},
     "output_type": "execute_result"
    }
   ],
   "source": [
    "df"
   ]
  },
  {
   "cell_type": "code",
   "execution_count": null,
   "id": "ce11aab0",
   "metadata": {},
   "outputs": [],
   "source": []
  },
  {
   "cell_type": "markdown",
   "id": "a81eeb1e",
   "metadata": {},
   "source": [
    "# Day16"
   ]
  },
  {
   "cell_type": "code",
   "execution_count": 4,
   "id": "8e1ca7a5",
   "metadata": {},
   "outputs": [],
   "source": [
    "import matplotlib.pyplot as plt\n",
    "import pandas as pd\n",
    "import seaborn as sns\n",
    "import warnings\n",
    "warnings.filterwarnings('ignore')"
   ]
  },
  {
   "cell_type": "code",
   "execution_count": 5,
   "id": "0518c9b3",
   "metadata": {},
   "outputs": [
    {
     "data": {
      "text/html": [
       "<div>\n",
       "<style scoped>\n",
       "    .dataframe tbody tr th:only-of-type {\n",
       "        vertical-align: middle;\n",
       "    }\n",
       "\n",
       "    .dataframe tbody tr th {\n",
       "        vertical-align: top;\n",
       "    }\n",
       "\n",
       "    .dataframe thead th {\n",
       "        text-align: right;\n",
       "    }\n",
       "</style>\n",
       "<table border=\"1\" class=\"dataframe\">\n",
       "  <thead>\n",
       "    <tr style=\"text-align: right;\">\n",
       "      <th></th>\n",
       "      <th>Product_ID</th>\n",
       "      <th>Product_Name</th>\n",
       "      <th>Region</th>\n",
       "      <th>Marketing_Spend</th>\n",
       "      <th>Sales</th>\n",
       "      <th>Effectiveness</th>\n",
       "      <th>Side_Effects</th>\n",
       "      <th>Age_Group</th>\n",
       "      <th>Trial_Period</th>\n",
       "    </tr>\n",
       "  </thead>\n",
       "  <tbody>\n",
       "    <tr>\n",
       "      <th>0</th>\n",
       "      <td>101</td>\n",
       "      <td>PainRelief</td>\n",
       "      <td>North America</td>\n",
       "      <td>50000</td>\n",
       "      <td>100000</td>\n",
       "      <td>85</td>\n",
       "      <td>5</td>\n",
       "      <td>20-30</td>\n",
       "      <td>6 months</td>\n",
       "    </tr>\n",
       "    <tr>\n",
       "      <th>1</th>\n",
       "      <td>102</td>\n",
       "      <td>ColdCure</td>\n",
       "      <td>Europe</td>\n",
       "      <td>30000</td>\n",
       "      <td>60000</td>\n",
       "      <td>75</td>\n",
       "      <td>2</td>\n",
       "      <td>30-40</td>\n",
       "      <td>3 months</td>\n",
       "    </tr>\n",
       "    <tr>\n",
       "      <th>2</th>\n",
       "      <td>103</td>\n",
       "      <td>HeadacheFix</td>\n",
       "      <td>Asia</td>\n",
       "      <td>45000</td>\n",
       "      <td>80000</td>\n",
       "      <td>80</td>\n",
       "      <td>3</td>\n",
       "      <td>40-50</td>\n",
       "      <td>6 months</td>\n",
       "    </tr>\n",
       "    <tr>\n",
       "      <th>3</th>\n",
       "      <td>104</td>\n",
       "      <td>PainRelief</td>\n",
       "      <td>North America</td>\n",
       "      <td>52000</td>\n",
       "      <td>110000</td>\n",
       "      <td>88</td>\n",
       "      <td>4</td>\n",
       "      <td>50-60</td>\n",
       "      <td>12 months</td>\n",
       "    </tr>\n",
       "    <tr>\n",
       "      <th>4</th>\n",
       "      <td>105</td>\n",
       "      <td>ColdCure</td>\n",
       "      <td>Europe</td>\n",
       "      <td>28000</td>\n",
       "      <td>55000</td>\n",
       "      <td>70</td>\n",
       "      <td>1</td>\n",
       "      <td>30-40</td>\n",
       "      <td>3 months</td>\n",
       "    </tr>\n",
       "    <tr>\n",
       "      <th>5</th>\n",
       "      <td>106</td>\n",
       "      <td>HeadacheFix</td>\n",
       "      <td>Asia</td>\n",
       "      <td>48000</td>\n",
       "      <td>90000</td>\n",
       "      <td>82</td>\n",
       "      <td>3</td>\n",
       "      <td>40-50</td>\n",
       "      <td>6 months</td>\n",
       "    </tr>\n",
       "    <tr>\n",
       "      <th>6</th>\n",
       "      <td>107</td>\n",
       "      <td>PainRelief</td>\n",
       "      <td>North America</td>\n",
       "      <td>51000</td>\n",
       "      <td>105000</td>\n",
       "      <td>86</td>\n",
       "      <td>5</td>\n",
       "      <td>20-30</td>\n",
       "      <td>6 months</td>\n",
       "    </tr>\n",
       "    <tr>\n",
       "      <th>7</th>\n",
       "      <td>108</td>\n",
       "      <td>ColdCure</td>\n",
       "      <td>Europe</td>\n",
       "      <td>31000</td>\n",
       "      <td>65000</td>\n",
       "      <td>78</td>\n",
       "      <td>2</td>\n",
       "      <td>30-40</td>\n",
       "      <td>3 months</td>\n",
       "    </tr>\n",
       "    <tr>\n",
       "      <th>8</th>\n",
       "      <td>109</td>\n",
       "      <td>HeadacheFix</td>\n",
       "      <td>Asia</td>\n",
       "      <td>47000</td>\n",
       "      <td>85000</td>\n",
       "      <td>80</td>\n",
       "      <td>4</td>\n",
       "      <td>50-60</td>\n",
       "      <td>12 months</td>\n",
       "    </tr>\n",
       "    <tr>\n",
       "      <th>9</th>\n",
       "      <td>110</td>\n",
       "      <td>PainRelief</td>\n",
       "      <td>North America</td>\n",
       "      <td>53000</td>\n",
       "      <td>115000</td>\n",
       "      <td>90</td>\n",
       "      <td>6</td>\n",
       "      <td>20-30</td>\n",
       "      <td>6 months</td>\n",
       "    </tr>\n",
       "  </tbody>\n",
       "</table>\n",
       "</div>"
      ],
      "text/plain": [
       "   Product_ID Product_Name         Region  Marketing_Spend   Sales  \\\n",
       "0         101   PainRelief  North America            50000  100000   \n",
       "1         102     ColdCure         Europe            30000   60000   \n",
       "2         103  HeadacheFix           Asia            45000   80000   \n",
       "3         104   PainRelief  North America            52000  110000   \n",
       "4         105     ColdCure         Europe            28000   55000   \n",
       "5         106  HeadacheFix           Asia            48000   90000   \n",
       "6         107   PainRelief  North America            51000  105000   \n",
       "7         108     ColdCure         Europe            31000   65000   \n",
       "8         109  HeadacheFix           Asia            47000   85000   \n",
       "9         110   PainRelief  North America            53000  115000   \n",
       "\n",
       "   Effectiveness  Side_Effects Age_Group Trial_Period  \n",
       "0             85             5     20-30     6 months  \n",
       "1             75             2     30-40     3 months  \n",
       "2             80             3     40-50     6 months  \n",
       "3             88             4     50-60    12 months  \n",
       "4             70             1     30-40     3 months  \n",
       "5             82             3     40-50     6 months  \n",
       "6             86             5     20-30     6 months  \n",
       "7             78             2     30-40     3 months  \n",
       "8             80             4     50-60    12 months  \n",
       "9             90             6     20-30     6 months  "
      ]
     },
     "execution_count": 5,
     "metadata": {},
     "output_type": "execute_result"
    }
   ],
   "source": [
    "claim_data=pd.read_csv(r\"C:\\Users\\PALADUGULLA KARTHIK\\Desktop\\dataset.csv\")\n",
    "claim_data"
   ]
  },
  {
   "cell_type": "code",
   "execution_count": null,
   "id": "c9ef446d",
   "metadata": {},
   "outputs": [],
   "source": [
    "#to access excel file\n",
    "pd.read_excel(r\"path of the excel file\")"
   ]
  },
  {
   "cell_type": "code",
   "execution_count": null,
   "id": "dd4f8312",
   "metadata": {},
   "outputs": [],
   "source": []
  },
  {
   "cell_type": "code",
   "execution_count": null,
   "id": "1c4c68e7",
   "metadata": {},
   "outputs": [],
   "source": []
  },
  {
   "cell_type": "code",
   "execution_count": null,
   "id": "875ab855",
   "metadata": {},
   "outputs": [],
   "source": []
  },
  {
   "cell_type": "code",
   "execution_count": null,
   "id": "62801ca5",
   "metadata": {},
   "outputs": [],
   "source": []
  },
  {
   "cell_type": "code",
   "execution_count": null,
   "id": "ba2cdfc1",
   "metadata": {},
   "outputs": [],
   "source": []
  },
  {
   "cell_type": "code",
   "execution_count": null,
   "id": "05374180",
   "metadata": {},
   "outputs": [],
   "source": []
  },
  {
   "cell_type": "code",
   "execution_count": null,
   "id": "fc773706",
   "metadata": {},
   "outputs": [],
   "source": []
  },
  {
   "cell_type": "code",
   "execution_count": null,
   "id": "323cb035",
   "metadata": {},
   "outputs": [],
   "source": []
  },
  {
   "cell_type": "code",
   "execution_count": null,
   "id": "e1414558",
   "metadata": {},
   "outputs": [],
   "source": []
  },
  {
   "cell_type": "code",
   "execution_count": null,
   "id": "e6e32bf1",
   "metadata": {},
   "outputs": [],
   "source": []
  },
  {
   "cell_type": "code",
   "execution_count": null,
   "id": "684e8cb5",
   "metadata": {},
   "outputs": [],
   "source": []
  },
  {
   "cell_type": "code",
   "execution_count": null,
   "id": "6795a93c",
   "metadata": {},
   "outputs": [],
   "source": []
  },
  {
   "cell_type": "code",
   "execution_count": null,
   "id": "0e92edc9",
   "metadata": {},
   "outputs": [],
   "source": []
  },
  {
   "cell_type": "code",
   "execution_count": null,
   "id": "1c105e56",
   "metadata": {},
   "outputs": [],
   "source": []
  },
  {
   "cell_type": "code",
   "execution_count": null,
   "id": "5035c1f0",
   "metadata": {},
   "outputs": [],
   "source": []
  },
  {
   "cell_type": "code",
   "execution_count": null,
   "id": "9ea0b224",
   "metadata": {},
   "outputs": [],
   "source": []
  },
  {
   "cell_type": "code",
   "execution_count": null,
   "id": "bf49a5d0",
   "metadata": {},
   "outputs": [],
   "source": []
  }
 ],
 "metadata": {
  "kernelspec": {
   "display_name": "Python 3 (ipykernel)",
   "language": "python",
   "name": "python3"
  },
  "language_info": {
   "codemirror_mode": {
    "name": "ipython",
    "version": 3
   },
   "file_extension": ".py",
   "mimetype": "text/x-python",
   "name": "python",
   "nbconvert_exporter": "python",
   "pygments_lexer": "ipython3",
   "version": "3.11.5"
  }
 },
 "nbformat": 4,
 "nbformat_minor": 5
}
